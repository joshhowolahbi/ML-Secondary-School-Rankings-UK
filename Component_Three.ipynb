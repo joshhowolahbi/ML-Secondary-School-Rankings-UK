{
  "nbformat": 4,
  "nbformat_minor": 0,
  "metadata": {
    "colab": {
      "name": "Component Three",
      "provenance": [],
      "collapsed_sections": [],
      "authorship_tag": "ABX9TyNzxmM1J2eSAwzz+fUDwPKv",
      "include_colab_link": true
    },
    "kernelspec": {
      "name": "python3",
      "display_name": "Python 3"
    }
  },
  "cells": [
    {
      "cell_type": "markdown",
      "metadata": {
        "id": "view-in-github",
        "colab_type": "text"
      },
      "source": [
        "<a href=\"https://colab.research.google.com/github/joshhowolahbi/ML-Secondary-School-Rankings-UK/blob/main/Component_Three.ipynb\" target=\"_parent\"><img src=\"https://colab.research.google.com/assets/colab-badge.svg\" alt=\"Open In Colab\"/></a>"
      ]
    },
    {
      "cell_type": "markdown",
      "metadata": {
        "id": "K8cJ9ens6Sc4"
      },
      "source": [
        "# Component 3"
      ]
    },
    {
      "cell_type": "code",
      "metadata": {
        "colab": {
          "base_uri": "https://localhost:8080/"
        },
        "id": "YsrALQLg6Jtw",
        "outputId": "7ecb72cc-004e-4618-dc24-3ca2a7168795"
      },
      "source": [
        "import pandas as pd\n",
        "import numpy as np\n",
        "import matplotlib as mpl\n",
        "import matplotlib.pyplot as plt\n",
        "%matplotlib inline\n",
        "import seaborn as sns\n",
        "sns.set()\n",
        "from sklearn import metrics, neighbors, naive_bayes, preprocessing, linear_model, feature_selection\n",
        "from matplotlib.ticker import PercentFormatter\n",
        "print('setup complete')"
      ],
      "execution_count": null,
      "outputs": [
        {
          "output_type": "stream",
          "text": [
            "setup complete\n"
          ],
          "name": "stdout"
        }
      ]
    },
    {
      "cell_type": "markdown",
      "metadata": {
        "id": "Ae2lYH6FFMK9"
      },
      "source": [
        "**Basic ML Tasks**"
      ]
    },
    {
      "cell_type": "markdown",
      "metadata": {
        "id": "WWqxHr-u7uw-"
      },
      "source": [
        "Remove all the schools with a Rating of “Unknown”. Combine all the ratings that aren’t “Outstanding” or “Good” into a single rating of “Not Good”."
      ]
    },
    {
      "cell_type": "code",
      "metadata": {
        "colab": {
          "base_uri": "https://localhost:8080/",
          "height": 394
        },
        "id": "oNoX4KT6-c8T",
        "outputId": "b20a3928-0d3d-4780-9d27-d05f78bdbc6f"
      },
      "source": [
        "com_ofs_df = pd.read_excel('Clean Combined OFSTED.xlsx')\n",
        "com_ofs_df.head()"
      ],
      "execution_count": null,
      "outputs": [
        {
          "output_type": "execute_result",
          "data": {
            "text/html": [
              "<div>\n",
              "<style scoped>\n",
              "    .dataframe tbody tr th:only-of-type {\n",
              "        vertical-align: middle;\n",
              "    }\n",
              "\n",
              "    .dataframe tbody tr th {\n",
              "        vertical-align: top;\n",
              "    }\n",
              "\n",
              "    .dataframe thead th {\n",
              "        text-align: right;\n",
              "    }\n",
              "</style>\n",
              "<table border=\"1\" class=\"dataframe\">\n",
              "  <thead>\n",
              "    <tr style=\"text-align: right;\">\n",
              "      <th></th>\n",
              "      <th>URN</th>\n",
              "      <th>LA</th>\n",
              "      <th>GENDER</th>\n",
              "      <th>RELCHAR</th>\n",
              "      <th>PNORG</th>\n",
              "      <th>PNORB</th>\n",
              "      <th>PSENELSE</th>\n",
              "      <th>PSENELK</th>\n",
              "      <th>PNUMEAL</th>\n",
              "      <th>PNUMENGFL</th>\n",
              "      <th>PNUMUNCFL</th>\n",
              "      <th>PNUMFSMEVER</th>\n",
              "      <th>PNUMFSM</th>\n",
              "      <th>PERCTOT</th>\n",
              "      <th>PPERSABS10</th>\n",
              "      <th>TPUP</th>\n",
              "      <th>P8PUP</th>\n",
              "      <th>ATT8SCR</th>\n",
              "      <th>P8MEA</th>\n",
              "      <th>P8CILOW</th>\n",
              "      <th>P8CIUPP</th>\n",
              "      <th>EBACCAPS</th>\n",
              "      <th>PTL2BASICS_94</th>\n",
              "      <th>PTL2BASICS_95</th>\n",
              "      <th>PTEBACC_E_PTQ_EE</th>\n",
              "      <th>PTEBACC_94</th>\n",
              "      <th>PTEBACC_95</th>\n",
              "      <th>PT5EM_94</th>\n",
              "      <th>P8_BANDING</th>\n",
              "      <th>OVERALL_DESTPER</th>\n",
              "      <th>NOT_SUSTAINEDPER</th>\n",
              "      <th>UNKNOWNPER</th>\n",
              "      <th>OVERALL_DESTPER_DIS</th>\n",
              "      <th>NOT_SUSTAINEDPER_DIS</th>\n",
              "      <th>UNKNOWNPER_DIS</th>\n",
              "      <th>Rating</th>\n",
              "    </tr>\n",
              "  </thead>\n",
              "  <tbody>\n",
              "    <tr>\n",
              "      <th>0</th>\n",
              "      <td>100049</td>\n",
              "      <td>202</td>\n",
              "      <td>Mixed</td>\n",
              "      <td>Does not apply</td>\n",
              "      <td>41.4</td>\n",
              "      <td>58.6</td>\n",
              "      <td>3.2</td>\n",
              "      <td>11.8</td>\n",
              "      <td>73.1</td>\n",
              "      <td>26.8</td>\n",
              "      <td>0.1</td>\n",
              "      <td>64.5</td>\n",
              "      <td>41.2</td>\n",
              "      <td>6.9</td>\n",
              "      <td>18.8</td>\n",
              "      <td>199</td>\n",
              "      <td>178</td>\n",
              "      <td>42.4</td>\n",
              "      <td>-0.09</td>\n",
              "      <td>-0.28</td>\n",
              "      <td>0.09</td>\n",
              "      <td>3.72</td>\n",
              "      <td>0.588</td>\n",
              "      <td>0.432</td>\n",
              "      <td>0.241</td>\n",
              "      <td>0.191</td>\n",
              "      <td>0.141</td>\n",
              "      <td>0.533</td>\n",
              "      <td>3</td>\n",
              "      <td>0.9</td>\n",
              "      <td>0.09</td>\n",
              "      <td>0.01</td>\n",
              "      <td>0.89</td>\n",
              "      <td>0.11</td>\n",
              "      <td>0.01</td>\n",
              "      <td>Good</td>\n",
              "    </tr>\n",
              "    <tr>\n",
              "      <th>1</th>\n",
              "      <td>100050</td>\n",
              "      <td>202</td>\n",
              "      <td>Girls</td>\n",
              "      <td>Does not apply</td>\n",
              "      <td>96.0</td>\n",
              "      <td>4.0</td>\n",
              "      <td>1.3</td>\n",
              "      <td>10.2</td>\n",
              "      <td>38.1</td>\n",
              "      <td>60.9</td>\n",
              "      <td>0.9</td>\n",
              "      <td>49.6</td>\n",
              "      <td>26.9</td>\n",
              "      <td>5.3</td>\n",
              "      <td>12.5</td>\n",
              "      <td>175</td>\n",
              "      <td>164</td>\n",
              "      <td>58.6</td>\n",
              "      <td>0.77</td>\n",
              "      <td>0.58</td>\n",
              "      <td>0.97</td>\n",
              "      <td>5.33</td>\n",
              "      <td>0.760</td>\n",
              "      <td>0.577</td>\n",
              "      <td>0.577</td>\n",
              "      <td>0.417</td>\n",
              "      <td>0.326</td>\n",
              "      <td>0.749</td>\n",
              "      <td>1</td>\n",
              "      <td>0.94</td>\n",
              "      <td>0.04</td>\n",
              "      <td>0.02</td>\n",
              "      <td>0.95</td>\n",
              "      <td>0.04</td>\n",
              "      <td>0.01</td>\n",
              "      <td>Good</td>\n",
              "    </tr>\n",
              "    <tr>\n",
              "      <th>2</th>\n",
              "      <td>100051</td>\n",
              "      <td>202</td>\n",
              "      <td>Mixed</td>\n",
              "      <td>Does not apply</td>\n",
              "      <td>45.0</td>\n",
              "      <td>55.0</td>\n",
              "      <td>3.6</td>\n",
              "      <td>11.1</td>\n",
              "      <td>82.6</td>\n",
              "      <td>17.4</td>\n",
              "      <td>0.0</td>\n",
              "      <td>69.0</td>\n",
              "      <td>43.0</td>\n",
              "      <td>6.7</td>\n",
              "      <td>19.2</td>\n",
              "      <td>154</td>\n",
              "      <td>139</td>\n",
              "      <td>42.1</td>\n",
              "      <td>-0.18</td>\n",
              "      <td>-0.40</td>\n",
              "      <td>0.03</td>\n",
              "      <td>3.77</td>\n",
              "      <td>0.591</td>\n",
              "      <td>0.403</td>\n",
              "      <td>0.604</td>\n",
              "      <td>0.201</td>\n",
              "      <td>0.071</td>\n",
              "      <td>0.526</td>\n",
              "      <td>3</td>\n",
              "      <td>0.86</td>\n",
              "      <td>0.08</td>\n",
              "      <td>0.05</td>\n",
              "      <td>0.85</td>\n",
              "      <td>0.09</td>\n",
              "      <td>0.06</td>\n",
              "      <td>Good</td>\n",
              "    </tr>\n",
              "    <tr>\n",
              "      <th>3</th>\n",
              "      <td>100052</td>\n",
              "      <td>202</td>\n",
              "      <td>Mixed</td>\n",
              "      <td>Does not apply</td>\n",
              "      <td>47.5</td>\n",
              "      <td>52.5</td>\n",
              "      <td>2.4</td>\n",
              "      <td>6.9</td>\n",
              "      <td>55.8</td>\n",
              "      <td>44.2</td>\n",
              "      <td>0.0</td>\n",
              "      <td>54.2</td>\n",
              "      <td>22.8</td>\n",
              "      <td>5.4</td>\n",
              "      <td>14</td>\n",
              "      <td>200</td>\n",
              "      <td>188</td>\n",
              "      <td>44.6</td>\n",
              "      <td>-0.06</td>\n",
              "      <td>-0.24</td>\n",
              "      <td>0.13</td>\n",
              "      <td>4.08</td>\n",
              "      <td>0.630</td>\n",
              "      <td>0.315</td>\n",
              "      <td>0.585</td>\n",
              "      <td>0.240</td>\n",
              "      <td>0.120</td>\n",
              "      <td>0.570</td>\n",
              "      <td>3</td>\n",
              "      <td>0.91</td>\n",
              "      <td>0.08</td>\n",
              "      <td>0.01</td>\n",
              "      <td>0.87</td>\n",
              "      <td>0.13</td>\n",
              "      <td>0</td>\n",
              "      <td>Good</td>\n",
              "    </tr>\n",
              "    <tr>\n",
              "      <th>4</th>\n",
              "      <td>100053</td>\n",
              "      <td>202</td>\n",
              "      <td>Mixed</td>\n",
              "      <td>Does not apply</td>\n",
              "      <td>33.7</td>\n",
              "      <td>66.3</td>\n",
              "      <td>6.2</td>\n",
              "      <td>13.4</td>\n",
              "      <td>28.2</td>\n",
              "      <td>70.3</td>\n",
              "      <td>1.5</td>\n",
              "      <td>47.1</td>\n",
              "      <td>26.2</td>\n",
              "      <td>6.3</td>\n",
              "      <td>18.5</td>\n",
              "      <td>136</td>\n",
              "      <td>128</td>\n",
              "      <td>47.2</td>\n",
              "      <td>-0.08</td>\n",
              "      <td>-0.30</td>\n",
              "      <td>0.14</td>\n",
              "      <td>4.29</td>\n",
              "      <td>0.662</td>\n",
              "      <td>0.471</td>\n",
              "      <td>0.515</td>\n",
              "      <td>0.368</td>\n",
              "      <td>0.265</td>\n",
              "      <td>0.625</td>\n",
              "      <td>3</td>\n",
              "      <td>0.95</td>\n",
              "      <td>0.04</td>\n",
              "      <td>0.01</td>\n",
              "      <td>0.9</td>\n",
              "      <td>0.07</td>\n",
              "      <td>0.03</td>\n",
              "      <td>Good</td>\n",
              "    </tr>\n",
              "  </tbody>\n",
              "</table>\n",
              "</div>"
            ],
            "text/plain": [
              "      URN   LA GENDER  ... NOT_SUSTAINEDPER_DIS  UNKNOWNPER_DIS  Rating\n",
              "0  100049  202  Mixed  ...                 0.11            0.01    Good\n",
              "1  100050  202  Girls  ...                 0.04            0.01    Good\n",
              "2  100051  202  Mixed  ...                 0.09            0.06    Good\n",
              "3  100052  202  Mixed  ...                 0.13               0    Good\n",
              "4  100053  202  Mixed  ...                 0.07            0.03    Good\n",
              "\n",
              "[5 rows x 36 columns]"
            ]
          },
          "metadata": {
            "tags": []
          },
          "execution_count": 2
        }
      ]
    },
    {
      "cell_type": "code",
      "metadata": {
        "colab": {
          "base_uri": "https://localhost:8080/"
        },
        "id": "zz7i7M-8_pF1",
        "outputId": "ea0f3c2d-5013-48eb-d3ba-13480a1fc2f7"
      },
      "source": [
        "com_ofs_df.shape"
      ],
      "execution_count": null,
      "outputs": [
        {
          "output_type": "execute_result",
          "data": {
            "text/plain": [
              "(3167, 36)"
            ]
          },
          "metadata": {
            "tags": []
          },
          "execution_count": 3
        }
      ]
    },
    {
      "cell_type": "code",
      "metadata": {
        "colab": {
          "base_uri": "https://localhost:8080/"
        },
        "id": "qDmoCRPS_a7v",
        "outputId": "9a7f1636-23e6-48f1-ee1d-9197c0e72ee7"
      },
      "source": [
        "kwn_rt_df = com_ofs_df[~com_ofs_df.Rating.str.contains(\"Unknown\")]\n",
        "kwn_rt_df.shape"
      ],
      "execution_count": null,
      "outputs": [
        {
          "output_type": "execute_result",
          "data": {
            "text/plain": [
              "(2743, 36)"
            ]
          },
          "metadata": {
            "tags": []
          },
          "execution_count": 4
        }
      ]
    },
    {
      "cell_type": "code",
      "metadata": {
        "colab": {
          "base_uri": "https://localhost:8080/",
          "height": 506
        },
        "id": "nUPTgcpDAkyG",
        "outputId": "dea1d2d5-7aba-40af-8319-54168da2350c"
      },
      "source": [
        "kwn_rt_df['Rating']=kwn_rt_df['Rating'].str.replace('Inadequate','Not Good')\n",
        "kwn_rt_df['Rating']=kwn_rt_df['Rating'].str.replace('Requires Improvement','Not Good')\n",
        "sns.countplot(y = kwn_rt_df['Rating'])"
      ],
      "execution_count": null,
      "outputs": [
        {
          "output_type": "stream",
          "text": [
            "/usr/local/lib/python3.6/dist-packages/ipykernel_launcher.py:1: SettingWithCopyWarning: \n",
            "A value is trying to be set on a copy of a slice from a DataFrame.\n",
            "Try using .loc[row_indexer,col_indexer] = value instead\n",
            "\n",
            "See the caveats in the documentation: https://pandas.pydata.org/pandas-docs/stable/user_guide/indexing.html#returning-a-view-versus-a-copy\n",
            "  \"\"\"Entry point for launching an IPython kernel.\n",
            "/usr/local/lib/python3.6/dist-packages/ipykernel_launcher.py:2: SettingWithCopyWarning: \n",
            "A value is trying to be set on a copy of a slice from a DataFrame.\n",
            "Try using .loc[row_indexer,col_indexer] = value instead\n",
            "\n",
            "See the caveats in the documentation: https://pandas.pydata.org/pandas-docs/stable/user_guide/indexing.html#returning-a-view-versus-a-copy\n",
            "  \n"
          ],
          "name": "stderr"
        },
        {
          "output_type": "execute_result",
          "data": {
            "text/plain": [
              "<matplotlib.axes._subplots.AxesSubplot at 0x7f66ab6d74a8>"
            ]
          },
          "metadata": {
            "tags": []
          },
          "execution_count": 5
        },
        {
          "output_type": "display_data",
          "data": {
            "image/png": "[encoded data removed]",
            "text/plain": [
              "<Figure size 432x288 with 1 Axes>"
            ]
          },
          "metadata": {
            "tags": [],
            "needs_background": "light"
          }
        }
      ]
    },
    {
      "cell_type": "code",
      "metadata": {
        "colab": {
          "base_uri": "https://localhost:8080/",
          "height": 394
        },
        "id": "PO3HLCGPjn-c",
        "outputId": "a75e891b-c724-4103-a6ca-fea6db73a637"
      },
      "source": [
        "ref_df = kwn_rt_df.copy()\n",
        "ref_df.head()"
      ],
      "execution_count": null,
      "outputs": [
        {
          "output_type": "execute_result",
          "data": {
            "text/html": [
              "<div>\n",
              "<style scoped>\n",
              "    .dataframe tbody tr th:only-of-type {\n",
              "        vertical-align: middle;\n",
              "    }\n",
              "\n",
              "    .dataframe tbody tr th {\n",
              "        vertical-align: top;\n",
              "    }\n",
              "\n",
              "    .dataframe thead th {\n",
              "        text-align: right;\n",
              "    }\n",
              "</style>\n",
              "<table border=\"1\" class=\"dataframe\">\n",
              "  <thead>\n",
              "    <tr style=\"text-align: right;\">\n",
              "      <th></th>\n",
              "      <th>URN</th>\n",
              "      <th>LA</th>\n",
              "      <th>GENDER</th>\n",
              "      <th>RELCHAR</th>\n",
              "      <th>PNORG</th>\n",
              "      <th>PNORB</th>\n",
              "      <th>PSENELSE</th>\n",
              "      <th>PSENELK</th>\n",
              "      <th>PNUMEAL</th>\n",
              "      <th>PNUMENGFL</th>\n",
              "      <th>PNUMUNCFL</th>\n",
              "      <th>PNUMFSMEVER</th>\n",
              "      <th>PNUMFSM</th>\n",
              "      <th>PERCTOT</th>\n",
              "      <th>PPERSABS10</th>\n",
              "      <th>TPUP</th>\n",
              "      <th>P8PUP</th>\n",
              "      <th>ATT8SCR</th>\n",
              "      <th>P8MEA</th>\n",
              "      <th>P8CILOW</th>\n",
              "      <th>P8CIUPP</th>\n",
              "      <th>EBACCAPS</th>\n",
              "      <th>PTL2BASICS_94</th>\n",
              "      <th>PTL2BASICS_95</th>\n",
              "      <th>PTEBACC_E_PTQ_EE</th>\n",
              "      <th>PTEBACC_94</th>\n",
              "      <th>PTEBACC_95</th>\n",
              "      <th>PT5EM_94</th>\n",
              "      <th>P8_BANDING</th>\n",
              "      <th>OVERALL_DESTPER</th>\n",
              "      <th>NOT_SUSTAINEDPER</th>\n",
              "      <th>UNKNOWNPER</th>\n",
              "      <th>OVERALL_DESTPER_DIS</th>\n",
              "      <th>NOT_SUSTAINEDPER_DIS</th>\n",
              "      <th>UNKNOWNPER_DIS</th>\n",
              "      <th>Rating</th>\n",
              "    </tr>\n",
              "  </thead>\n",
              "  <tbody>\n",
              "    <tr>\n",
              "      <th>0</th>\n",
              "      <td>100049</td>\n",
              "      <td>202</td>\n",
              "      <td>Mixed</td>\n",
              "      <td>Does not apply</td>\n",
              "      <td>41.4</td>\n",
              "      <td>58.6</td>\n",
              "      <td>3.2</td>\n",
              "      <td>11.8</td>\n",
              "      <td>73.1</td>\n",
              "      <td>26.8</td>\n",
              "      <td>0.1</td>\n",
              "      <td>64.5</td>\n",
              "      <td>41.2</td>\n",
              "      <td>6.9</td>\n",
              "      <td>18.8</td>\n",
              "      <td>199</td>\n",
              "      <td>178</td>\n",
              "      <td>42.4</td>\n",
              "      <td>-0.09</td>\n",
              "      <td>-0.28</td>\n",
              "      <td>0.09</td>\n",
              "      <td>3.72</td>\n",
              "      <td>0.588</td>\n",
              "      <td>0.432</td>\n",
              "      <td>0.241</td>\n",
              "      <td>0.191</td>\n",
              "      <td>0.141</td>\n",
              "      <td>0.533</td>\n",
              "      <td>3</td>\n",
              "      <td>0.9</td>\n",
              "      <td>0.09</td>\n",
              "      <td>0.01</td>\n",
              "      <td>0.89</td>\n",
              "      <td>0.11</td>\n",
              "      <td>0.01</td>\n",
              "      <td>Good</td>\n",
              "    </tr>\n",
              "    <tr>\n",
              "      <th>1</th>\n",
              "      <td>100050</td>\n",
              "      <td>202</td>\n",
              "      <td>Girls</td>\n",
              "      <td>Does not apply</td>\n",
              "      <td>96.0</td>\n",
              "      <td>4.0</td>\n",
              "      <td>1.3</td>\n",
              "      <td>10.2</td>\n",
              "      <td>38.1</td>\n",
              "      <td>60.9</td>\n",
              "      <td>0.9</td>\n",
              "      <td>49.6</td>\n",
              "      <td>26.9</td>\n",
              "      <td>5.3</td>\n",
              "      <td>12.5</td>\n",
              "      <td>175</td>\n",
              "      <td>164</td>\n",
              "      <td>58.6</td>\n",
              "      <td>0.77</td>\n",
              "      <td>0.58</td>\n",
              "      <td>0.97</td>\n",
              "      <td>5.33</td>\n",
              "      <td>0.760</td>\n",
              "      <td>0.577</td>\n",
              "      <td>0.577</td>\n",
              "      <td>0.417</td>\n",
              "      <td>0.326</td>\n",
              "      <td>0.749</td>\n",
              "      <td>1</td>\n",
              "      <td>0.94</td>\n",
              "      <td>0.04</td>\n",
              "      <td>0.02</td>\n",
              "      <td>0.95</td>\n",
              "      <td>0.04</td>\n",
              "      <td>0.01</td>\n",
              "      <td>Good</td>\n",
              "    </tr>\n",
              "    <tr>\n",
              "      <th>2</th>\n",
              "      <td>100051</td>\n",
              "      <td>202</td>\n",
              "      <td>Mixed</td>\n",
              "      <td>Does not apply</td>\n",
              "      <td>45.0</td>\n",
              "      <td>55.0</td>\n",
              "      <td>3.6</td>\n",
              "      <td>11.1</td>\n",
              "      <td>82.6</td>\n",
              "      <td>17.4</td>\n",
              "      <td>0.0</td>\n",
              "      <td>69.0</td>\n",
              "      <td>43.0</td>\n",
              "      <td>6.7</td>\n",
              "      <td>19.2</td>\n",
              "      <td>154</td>\n",
              "      <td>139</td>\n",
              "      <td>42.1</td>\n",
              "      <td>-0.18</td>\n",
              "      <td>-0.40</td>\n",
              "      <td>0.03</td>\n",
              "      <td>3.77</td>\n",
              "      <td>0.591</td>\n",
              "      <td>0.403</td>\n",
              "      <td>0.604</td>\n",
              "      <td>0.201</td>\n",
              "      <td>0.071</td>\n",
              "      <td>0.526</td>\n",
              "      <td>3</td>\n",
              "      <td>0.86</td>\n",
              "      <td>0.08</td>\n",
              "      <td>0.05</td>\n",
              "      <td>0.85</td>\n",
              "      <td>0.09</td>\n",
              "      <td>0.06</td>\n",
              "      <td>Good</td>\n",
              "    </tr>\n",
              "    <tr>\n",
              "      <th>3</th>\n",
              "      <td>100052</td>\n",
              "      <td>202</td>\n",
              "      <td>Mixed</td>\n",
              "      <td>Does not apply</td>\n",
              "      <td>47.5</td>\n",
              "      <td>52.5</td>\n",
              "      <td>2.4</td>\n",
              "      <td>6.9</td>\n",
              "      <td>55.8</td>\n",
              "      <td>44.2</td>\n",
              "      <td>0.0</td>\n",
              "      <td>54.2</td>\n",
              "      <td>22.8</td>\n",
              "      <td>5.4</td>\n",
              "      <td>14</td>\n",
              "      <td>200</td>\n",
              "      <td>188</td>\n",
              "      <td>44.6</td>\n",
              "      <td>-0.06</td>\n",
              "      <td>-0.24</td>\n",
              "      <td>0.13</td>\n",
              "      <td>4.08</td>\n",
              "      <td>0.630</td>\n",
              "      <td>0.315</td>\n",
              "      <td>0.585</td>\n",
              "      <td>0.240</td>\n",
              "      <td>0.120</td>\n",
              "      <td>0.570</td>\n",
              "      <td>3</td>\n",
              "      <td>0.91</td>\n",
              "      <td>0.08</td>\n",
              "      <td>0.01</td>\n",
              "      <td>0.87</td>\n",
              "      <td>0.13</td>\n",
              "      <td>0</td>\n",
              "      <td>Good</td>\n",
              "    </tr>\n",
              "    <tr>\n",
              "      <th>4</th>\n",
              "      <td>100053</td>\n",
              "      <td>202</td>\n",
              "      <td>Mixed</td>\n",
              "      <td>Does not apply</td>\n",
              "      <td>33.7</td>\n",
              "      <td>66.3</td>\n",
              "      <td>6.2</td>\n",
              "      <td>13.4</td>\n",
              "      <td>28.2</td>\n",
              "      <td>70.3</td>\n",
              "      <td>1.5</td>\n",
              "      <td>47.1</td>\n",
              "      <td>26.2</td>\n",
              "      <td>6.3</td>\n",
              "      <td>18.5</td>\n",
              "      <td>136</td>\n",
              "      <td>128</td>\n",
              "      <td>47.2</td>\n",
              "      <td>-0.08</td>\n",
              "      <td>-0.30</td>\n",
              "      <td>0.14</td>\n",
              "      <td>4.29</td>\n",
              "      <td>0.662</td>\n",
              "      <td>0.471</td>\n",
              "      <td>0.515</td>\n",
              "      <td>0.368</td>\n",
              "      <td>0.265</td>\n",
              "      <td>0.625</td>\n",
              "      <td>3</td>\n",
              "      <td>0.95</td>\n",
              "      <td>0.04</td>\n",
              "      <td>0.01</td>\n",
              "      <td>0.9</td>\n",
              "      <td>0.07</td>\n",
              "      <td>0.03</td>\n",
              "      <td>Good</td>\n",
              "    </tr>\n",
              "  </tbody>\n",
              "</table>\n",
              "</div>"
            ],
            "text/plain": [
              "      URN   LA GENDER  ... NOT_SUSTAINEDPER_DIS  UNKNOWNPER_DIS  Rating\n",
              "0  100049  202  Mixed  ...                 0.11            0.01    Good\n",
              "1  100050  202  Girls  ...                 0.04            0.01    Good\n",
              "2  100051  202  Mixed  ...                 0.09            0.06    Good\n",
              "3  100052  202  Mixed  ...                 0.13               0    Good\n",
              "4  100053  202  Mixed  ...                 0.07            0.03    Good\n",
              "\n",
              "[5 rows x 36 columns]"
            ]
          },
          "metadata": {
            "tags": []
          },
          "execution_count": 6
        }
      ]
    },
    {
      "cell_type": "markdown",
      "metadata": {
        "id": "k2QZ49yhRV9U"
      },
      "source": [
        "Estimating Baseline accuracy"
      ]
    },
    {
      "cell_type": "markdown",
      "metadata": {
        "id": "0oXwQTkkbxfm"
      },
      "source": [
        "- This problem is a classification problem and the approach to use in estimating the baseline accuracy is the ZeroR Algorithm which predicts the class value of that is most common in the training set."
      ]
    },
    {
      "cell_type": "markdown",
      "metadata": {
        "id": "1HxH8Hw5eSXl"
      },
      "source": [
        "Estimating Accuraccy with other classifiers"
      ]
    },
    {
      "cell_type": "markdown",
      "metadata": {
        "id": "ZgU7-1EEznFd"
      },
      "source": [
        "- To be able to perform the validation the Rating will be giving distinct value added to the column (Rating_Val) where **Outstanding=2, Good=1, Not Good=0**"
      ]
    },
    {
      "cell_type": "code",
      "metadata": {
        "colab": {
          "base_uri": "https://localhost:8080/",
          "height": 394
        },
        "id": "2OgFp2EF0IMP",
        "outputId": "3ed0775e-de41-4e8e-da44-8eb4baafec7c"
      },
      "source": [
        "rat_df=ref_df[['Rating']]\n",
        "rat_v_df = rat_df.replace(['Outstanding','Good','Not Good'], [2,1,0])\n",
        "ref_df['Rating_Val']=rat_v_df\n",
        "ref_df.head()"
      ],
      "execution_count": null,
      "outputs": [
        {
          "output_type": "execute_result",
          "data": {
            "text/html": [
              "<div>\n",
              "<style scoped>\n",
              "    .dataframe tbody tr th:only-of-type {\n",
              "        vertical-align: middle;\n",
              "    }\n",
              "\n",
              "    .dataframe tbody tr th {\n",
              "        vertical-align: top;\n",
              "    }\n",
              "\n",
              "    .dataframe thead th {\n",
              "        text-align: right;\n",
              "    }\n",
              "</style>\n",
              "<table border=\"1\" class=\"dataframe\">\n",
              "  <thead>\n",
              "    <tr style=\"text-align: right;\">\n",
              "      <th></th>\n",
              "      <th>URN</th>\n",
              "      <th>LA</th>\n",
              "      <th>GENDER</th>\n",
              "      <th>RELCHAR</th>\n",
              "      <th>PNORG</th>\n",
              "      <th>PNORB</th>\n",
              "      <th>PSENELSE</th>\n",
              "      <th>PSENELK</th>\n",
              "      <th>PNUMEAL</th>\n",
              "      <th>PNUMENGFL</th>\n",
              "      <th>PNUMUNCFL</th>\n",
              "      <th>PNUMFSMEVER</th>\n",
              "      <th>PNUMFSM</th>\n",
              "      <th>PERCTOT</th>\n",
              "      <th>PPERSABS10</th>\n",
              "      <th>TPUP</th>\n",
              "      <th>P8PUP</th>\n",
              "      <th>ATT8SCR</th>\n",
              "      <th>P8MEA</th>\n",
              "      <th>P8CILOW</th>\n",
              "      <th>P8CIUPP</th>\n",
              "      <th>EBACCAPS</th>\n",
              "      <th>PTL2BASICS_94</th>\n",
              "      <th>PTL2BASICS_95</th>\n",
              "      <th>PTEBACC_E_PTQ_EE</th>\n",
              "      <th>PTEBACC_94</th>\n",
              "      <th>PTEBACC_95</th>\n",
              "      <th>PT5EM_94</th>\n",
              "      <th>P8_BANDING</th>\n",
              "      <th>OVERALL_DESTPER</th>\n",
              "      <th>NOT_SUSTAINEDPER</th>\n",
              "      <th>UNKNOWNPER</th>\n",
              "      <th>OVERALL_DESTPER_DIS</th>\n",
              "      <th>NOT_SUSTAINEDPER_DIS</th>\n",
              "      <th>UNKNOWNPER_DIS</th>\n",
              "      <th>Rating</th>\n",
              "      <th>Rating_Val</th>\n",
              "    </tr>\n",
              "  </thead>\n",
              "  <tbody>\n",
              "    <tr>\n",
              "      <th>0</th>\n",
              "      <td>100049</td>\n",
              "      <td>202</td>\n",
              "      <td>Mixed</td>\n",
              "      <td>Does not apply</td>\n",
              "      <td>41.4</td>\n",
              "      <td>58.6</td>\n",
              "      <td>3.2</td>\n",
              "      <td>11.8</td>\n",
              "      <td>73.1</td>\n",
              "      <td>26.8</td>\n",
              "      <td>0.1</td>\n",
              "      <td>64.5</td>\n",
              "      <td>41.2</td>\n",
              "      <td>6.9</td>\n",
              "      <td>18.8</td>\n",
              "      <td>199</td>\n",
              "      <td>178</td>\n",
              "      <td>42.4</td>\n",
              "      <td>-0.09</td>\n",
              "      <td>-0.28</td>\n",
              "      <td>0.09</td>\n",
              "      <td>3.72</td>\n",
              "      <td>0.588</td>\n",
              "      <td>0.432</td>\n",
              "      <td>0.241</td>\n",
              "      <td>0.191</td>\n",
              "      <td>0.141</td>\n",
              "      <td>0.533</td>\n",
              "      <td>3</td>\n",
              "      <td>0.9</td>\n",
              "      <td>0.09</td>\n",
              "      <td>0.01</td>\n",
              "      <td>0.89</td>\n",
              "      <td>0.11</td>\n",
              "      <td>0.01</td>\n",
              "      <td>Good</td>\n",
              "      <td>1</td>\n",
              "    </tr>\n",
              "    <tr>\n",
              "      <th>1</th>\n",
              "      <td>100050</td>\n",
              "      <td>202</td>\n",
              "      <td>Girls</td>\n",
              "      <td>Does not apply</td>\n",
              "      <td>96.0</td>\n",
              "      <td>4.0</td>\n",
              "      <td>1.3</td>\n",
              "      <td>10.2</td>\n",
              "      <td>38.1</td>\n",
              "      <td>60.9</td>\n",
              "      <td>0.9</td>\n",
              "      <td>49.6</td>\n",
              "      <td>26.9</td>\n",
              "      <td>5.3</td>\n",
              "      <td>12.5</td>\n",
              "      <td>175</td>\n",
              "      <td>164</td>\n",
              "      <td>58.6</td>\n",
              "      <td>0.77</td>\n",
              "      <td>0.58</td>\n",
              "      <td>0.97</td>\n",
              "      <td>5.33</td>\n",
              "      <td>0.760</td>\n",
              "      <td>0.577</td>\n",
              "      <td>0.577</td>\n",
              "      <td>0.417</td>\n",
              "      <td>0.326</td>\n",
              "      <td>0.749</td>\n",
              "      <td>1</td>\n",
              "      <td>0.94</td>\n",
              "      <td>0.04</td>\n",
              "      <td>0.02</td>\n",
              "      <td>0.95</td>\n",
              "      <td>0.04</td>\n",
              "      <td>0.01</td>\n",
              "      <td>Good</td>\n",
              "      <td>1</td>\n",
              "    </tr>\n",
              "    <tr>\n",
              "      <th>2</th>\n",
              "      <td>100051</td>\n",
              "      <td>202</td>\n",
              "      <td>Mixed</td>\n",
              "      <td>Does not apply</td>\n",
              "      <td>45.0</td>\n",
              "      <td>55.0</td>\n",
              "      <td>3.6</td>\n",
              "      <td>11.1</td>\n",
              "      <td>82.6</td>\n",
              "      <td>17.4</td>\n",
              "      <td>0.0</td>\n",
              "      <td>69.0</td>\n",
              "      <td>43.0</td>\n",
              "      <td>6.7</td>\n",
              "      <td>19.2</td>\n",
              "      <td>154</td>\n",
              "      <td>139</td>\n",
              "      <td>42.1</td>\n",
              "      <td>-0.18</td>\n",
              "      <td>-0.40</td>\n",
              "      <td>0.03</td>\n",
              "      <td>3.77</td>\n",
              "      <td>0.591</td>\n",
              "      <td>0.403</td>\n",
              "      <td>0.604</td>\n",
              "      <td>0.201</td>\n",
              "      <td>0.071</td>\n",
              "      <td>0.526</td>\n",
              "      <td>3</td>\n",
              "      <td>0.86</td>\n",
              "      <td>0.08</td>\n",
              "      <td>0.05</td>\n",
              "      <td>0.85</td>\n",
              "      <td>0.09</td>\n",
              "      <td>0.06</td>\n",
              "      <td>Good</td>\n",
              "      <td>1</td>\n",
              "    </tr>\n",
              "    <tr>\n",
              "      <th>3</th>\n",
              "      <td>100052</td>\n",
              "      <td>202</td>\n",
              "      <td>Mixed</td>\n",
              "      <td>Does not apply</td>\n",
              "      <td>47.5</td>\n",
              "      <td>52.5</td>\n",
              "      <td>2.4</td>\n",
              "      <td>6.9</td>\n",
              "      <td>55.8</td>\n",
              "      <td>44.2</td>\n",
              "      <td>0.0</td>\n",
              "      <td>54.2</td>\n",
              "      <td>22.8</td>\n",
              "      <td>5.4</td>\n",
              "      <td>14</td>\n",
              "      <td>200</td>\n",
              "      <td>188</td>\n",
              "      <td>44.6</td>\n",
              "      <td>-0.06</td>\n",
              "      <td>-0.24</td>\n",
              "      <td>0.13</td>\n",
              "      <td>4.08</td>\n",
              "      <td>0.630</td>\n",
              "      <td>0.315</td>\n",
              "      <td>0.585</td>\n",
              "      <td>0.240</td>\n",
              "      <td>0.120</td>\n",
              "      <td>0.570</td>\n",
              "      <td>3</td>\n",
              "      <td>0.91</td>\n",
              "      <td>0.08</td>\n",
              "      <td>0.01</td>\n",
              "      <td>0.87</td>\n",
              "      <td>0.13</td>\n",
              "      <td>0</td>\n",
              "      <td>Good</td>\n",
              "      <td>1</td>\n",
              "    </tr>\n",
              "    <tr>\n",
              "      <th>4</th>\n",
              "      <td>100053</td>\n",
              "      <td>202</td>\n",
              "      <td>Mixed</td>\n",
              "      <td>Does not apply</td>\n",
              "      <td>33.7</td>\n",
              "      <td>66.3</td>\n",
              "      <td>6.2</td>\n",
              "      <td>13.4</td>\n",
              "      <td>28.2</td>\n",
              "      <td>70.3</td>\n",
              "      <td>1.5</td>\n",
              "      <td>47.1</td>\n",
              "      <td>26.2</td>\n",
              "      <td>6.3</td>\n",
              "      <td>18.5</td>\n",
              "      <td>136</td>\n",
              "      <td>128</td>\n",
              "      <td>47.2</td>\n",
              "      <td>-0.08</td>\n",
              "      <td>-0.30</td>\n",
              "      <td>0.14</td>\n",
              "      <td>4.29</td>\n",
              "      <td>0.662</td>\n",
              "      <td>0.471</td>\n",
              "      <td>0.515</td>\n",
              "      <td>0.368</td>\n",
              "      <td>0.265</td>\n",
              "      <td>0.625</td>\n",
              "      <td>3</td>\n",
              "      <td>0.95</td>\n",
              "      <td>0.04</td>\n",
              "      <td>0.01</td>\n",
              "      <td>0.9</td>\n",
              "      <td>0.07</td>\n",
              "      <td>0.03</td>\n",
              "      <td>Good</td>\n",
              "      <td>1</td>\n",
              "    </tr>\n",
              "  </tbody>\n",
              "</table>\n",
              "</div>"
            ],
            "text/plain": [
              "      URN   LA GENDER  ... UNKNOWNPER_DIS  Rating  Rating_Val\n",
              "0  100049  202  Mixed  ...           0.01    Good           1\n",
              "1  100050  202  Girls  ...           0.01    Good           1\n",
              "2  100051  202  Mixed  ...           0.06    Good           1\n",
              "3  100052  202  Mixed  ...              0    Good           1\n",
              "4  100053  202  Mixed  ...           0.03    Good           1\n",
              "\n",
              "[5 rows x 37 columns]"
            ]
          },
          "metadata": {
            "tags": []
          },
          "execution_count": 7
        }
      ]
    },
    {
      "cell_type": "code",
      "metadata": {
        "id": "Cd7NkzVIuDNh"
      },
      "source": [
        "from sklearn.model_selection import cross_val_score"
      ],
      "execution_count": null,
      "outputs": []
    },
    {
      "cell_type": "markdown",
      "metadata": {
        "id": "v-uaSQQlt_9s"
      },
      "source": [
        "- using k-fold cross validation"
      ]
    },
    {
      "cell_type": "markdown",
      "metadata": {
        "id": "msVleieneYWp"
      },
      "source": [
        "- K-Nearest Neighnour"
      ]
    },
    {
      "cell_type": "code",
      "metadata": {
        "colab": {
          "base_uri": "https://localhost:8080/"
        },
        "id": "2HAUdEf8edHf",
        "outputId": "02f63fc1-2817-4218-d70e-56dd03f9cc3b"
      },
      "source": [
        "X = ref_df[['PNORG','PNORB','PSENELSE','PSENELK','PNUMEAL','PNUMENGFL','PNUMUNCFL','PNUMFSM','P8PUP','ATT8SCR','P8MEA']].values\n",
        "y = ref_df['Rating_Val'].values\n",
        "clf = neighbors.KNeighborsClassifier()\n",
        "clf.fit(X,y)\n",
        "predictions_k = clf.predict(X)\n",
        "metrics.accuracy_score(y, predictions_k)"
      ],
      "execution_count": null,
      "outputs": [
        {
          "output_type": "execute_result",
          "data": {
            "text/plain": [
              "0.7302223842508203"
            ]
          },
          "metadata": {
            "tags": []
          },
          "execution_count": 9
        }
      ]
    },
    {
      "cell_type": "code",
      "metadata": {
        "colab": {
          "base_uri": "https://localhost:8080/"
        },
        "id": "h8SpNwCouYYi",
        "outputId": "e3a7712e-e496-4533-d782-473179ab8db9"
      },
      "source": [
        "scores_kN = cross_val_score(clf.fit(X, y), X, y, cv= 5)\n",
        "scores_kN.mean()"
      ],
      "execution_count": null,
      "outputs": [
        {
          "output_type": "execute_result",
          "data": {
            "text/plain": [
              "0.5964447635382181"
            ]
          },
          "metadata": {
            "tags": []
          },
          "execution_count": 10
        }
      ]
    },
    {
      "cell_type": "markdown",
      "metadata": {
        "id": "MLfvK_bHj2wm"
      },
      "source": [
        "- Logistic Regression"
      ]
    },
    {
      "cell_type": "code",
      "metadata": {
        "colab": {
          "base_uri": "https://localhost:8080/"
        },
        "id": "xW4T585Fj-F2",
        "outputId": "73c7bb40-9d28-450c-9ccb-bc9d0ad2e95e"
      },
      "source": [
        "logreg = linear_model.LogisticRegression()\n",
        "logreg.fit(X,y)\n",
        "predictions_l = logreg.predict(X)\n",
        "metrics.accuracy_score(y, predictions_l)"
      ],
      "execution_count": null,
      "outputs": [
        {
          "output_type": "stream",
          "text": [
            "/usr/local/lib/python3.6/dist-packages/sklearn/linear_model/_logistic.py:940: ConvergenceWarning: lbfgs failed to converge (status=1):\n",
            "STOP: TOTAL NO. of ITERATIONS REACHED LIMIT.\n",
            "\n",
            "Increase the number of iterations (max_iter) or scale the data as shown in:\n",
            "    https://scikit-learn.org/stable/modules/preprocessing.html\n",
            "Please also refer to the documentation for alternative solver options:\n",
            "    https://scikit-learn.org/stable/modules/linear_model.html#logistic-regression\n",
            "  extra_warning_msg=_LOGISTIC_SOLVER_CONVERGENCE_MSG)\n"
          ],
          "name": "stderr"
        },
        {
          "output_type": "execute_result",
          "data": {
            "text/plain": [
              "0.6620488516223113"
            ]
          },
          "metadata": {
            "tags": []
          },
          "execution_count": 11
        }
      ]
    },
    {
      "cell_type": "code",
      "metadata": {
        "colab": {
          "base_uri": "https://localhost:8080/"
        },
        "id": "LAgLq-H03VJY",
        "outputId": "723672cb-10fe-42c4-ba0d-aa89c97b11c2"
      },
      "source": [
        "scores_log = cross_val_score(logreg.fit(X,y), X, y, cv= 5)\n",
        "scores_log.mean()"
      ],
      "execution_count": null,
      "outputs": [
        {
          "output_type": "stream",
          "text": [
            "/usr/local/lib/python3.6/dist-packages/sklearn/linear_model/_logistic.py:940: ConvergenceWarning: lbfgs failed to converge (status=1):\n",
            "STOP: TOTAL NO. of ITERATIONS REACHED LIMIT.\n",
            "\n",
            "Increase the number of iterations (max_iter) or scale the data as shown in:\n",
            "    https://scikit-learn.org/stable/modules/preprocessing.html\n",
            "Please also refer to the documentation for alternative solver options:\n",
            "    https://scikit-learn.org/stable/modules/linear_model.html#logistic-regression\n",
            "  extra_warning_msg=_LOGISTIC_SOLVER_CONVERGENCE_MSG)\n",
            "/usr/local/lib/python3.6/dist-packages/sklearn/linear_model/_logistic.py:940: ConvergenceWarning: lbfgs failed to converge (status=1):\n",
            "STOP: TOTAL NO. of ITERATIONS REACHED LIMIT.\n",
            "\n",
            "Increase the number of iterations (max_iter) or scale the data as shown in:\n",
            "    https://scikit-learn.org/stable/modules/preprocessing.html\n",
            "Please also refer to the documentation for alternative solver options:\n",
            "    https://scikit-learn.org/stable/modules/linear_model.html#logistic-regression\n",
            "  extra_warning_msg=_LOGISTIC_SOLVER_CONVERGENCE_MSG)\n",
            "/usr/local/lib/python3.6/dist-packages/sklearn/linear_model/_logistic.py:940: ConvergenceWarning: lbfgs failed to converge (status=1):\n",
            "STOP: TOTAL NO. of ITERATIONS REACHED LIMIT.\n",
            "\n",
            "Increase the number of iterations (max_iter) or scale the data as shown in:\n",
            "    https://scikit-learn.org/stable/modules/preprocessing.html\n",
            "Please also refer to the documentation for alternative solver options:\n",
            "    https://scikit-learn.org/stable/modules/linear_model.html#logistic-regression\n",
            "  extra_warning_msg=_LOGISTIC_SOLVER_CONVERGENCE_MSG)\n",
            "/usr/local/lib/python3.6/dist-packages/sklearn/linear_model/_logistic.py:940: ConvergenceWarning: lbfgs failed to converge (status=1):\n",
            "STOP: TOTAL NO. of ITERATIONS REACHED LIMIT.\n",
            "\n",
            "Increase the number of iterations (max_iter) or scale the data as shown in:\n",
            "    https://scikit-learn.org/stable/modules/preprocessing.html\n",
            "Please also refer to the documentation for alternative solver options:\n",
            "    https://scikit-learn.org/stable/modules/linear_model.html#logistic-regression\n",
            "  extra_warning_msg=_LOGISTIC_SOLVER_CONVERGENCE_MSG)\n",
            "/usr/local/lib/python3.6/dist-packages/sklearn/linear_model/_logistic.py:940: ConvergenceWarning: lbfgs failed to converge (status=1):\n",
            "STOP: TOTAL NO. of ITERATIONS REACHED LIMIT.\n",
            "\n",
            "Increase the number of iterations (max_iter) or scale the data as shown in:\n",
            "    https://scikit-learn.org/stable/modules/preprocessing.html\n",
            "Please also refer to the documentation for alternative solver options:\n",
            "    https://scikit-learn.org/stable/modules/linear_model.html#logistic-regression\n",
            "  extra_warning_msg=_LOGISTIC_SOLVER_CONVERGENCE_MSG)\n",
            "/usr/local/lib/python3.6/dist-packages/sklearn/linear_model/_logistic.py:940: ConvergenceWarning: lbfgs failed to converge (status=1):\n",
            "STOP: TOTAL NO. of ITERATIONS REACHED LIMIT.\n",
            "\n",
            "Increase the number of iterations (max_iter) or scale the data as shown in:\n",
            "    https://scikit-learn.org/stable/modules/preprocessing.html\n",
            "Please also refer to the documentation for alternative solver options:\n",
            "    https://scikit-learn.org/stable/modules/linear_model.html#logistic-regression\n",
            "  extra_warning_msg=_LOGISTIC_SOLVER_CONVERGENCE_MSG)\n"
          ],
          "name": "stderr"
        },
        {
          "output_type": "execute_result",
          "data": {
            "text/plain": [
              "0.6569495964793319"
            ]
          },
          "metadata": {
            "tags": []
          },
          "execution_count": 12
        }
      ]
    },
    {
      "cell_type": "markdown",
      "metadata": {
        "id": "B4wJN_3OlF9w"
      },
      "source": [
        "- Naïve Bayes"
      ]
    },
    {
      "cell_type": "code",
      "metadata": {
        "colab": {
          "base_uri": "https://localhost:8080/"
        },
        "id": "IDCWfZ5BlNC8",
        "outputId": "e3ff3a4d-ce14-400e-ea02-7b19b414a7e7"
      },
      "source": [
        "clsf_nai = naive_bayes.GaussianNB()\n",
        "clsf_nai.fit(X,y)\n",
        "predictions_n = clf.predict(X)\n",
        "metrics.accuracy_score(y, predictions_n)"
      ],
      "execution_count": null,
      "outputs": [
        {
          "output_type": "execute_result",
          "data": {
            "text/plain": [
              "0.7302223842508203"
            ]
          },
          "metadata": {
            "tags": []
          },
          "execution_count": 13
        }
      ]
    },
    {
      "cell_type": "code",
      "metadata": {
        "colab": {
          "base_uri": "https://localhost:8080/"
        },
        "id": "q6JD1B0q46Pw",
        "outputId": "0abaffd0-609e-42fd-8d0b-2c23d105cf1a"
      },
      "source": [
        "scores_nai = cross_val_score(clsf_nai.fit(X,y), X, y, cv= 5)\n",
        "scores_nai.mean()"
      ],
      "execution_count": null,
      "outputs": [
        {
          "output_type": "execute_result",
          "data": {
            "text/plain": [
              "0.5165729328706473"
            ]
          },
          "metadata": {
            "tags": []
          },
          "execution_count": 14
        }
      ]
    },
    {
      "cell_type": "markdown",
      "metadata": {
        "id": "WDQ6WvVPlzt1"
      },
      "source": [
        "> please note that we couldn't use the multinomialNB model because there are negative values in the dataset and this returns error using the model"
      ]
    },
    {
      "cell_type": "markdown",
      "metadata": {
        "id": "-QbQANOA5o4o"
      },
      "source": [
        "Generating a fully labelled confusion matrix for one of the classifiers"
      ]
    },
    {
      "cell_type": "markdown",
      "metadata": {
        "id": "GeWTRmWL5wa4"
      },
      "source": [
        "- using the K-NN classifier"
      ]
    },
    {
      "cell_type": "code",
      "metadata": {
        "colab": {
          "base_uri": "https://localhost:8080/",
          "height": 411
        },
        "id": "Bn_YJjIn52ly",
        "outputId": "f2894ce3-6531-45f4-a3a1-c2041d9b6767"
      },
      "source": [
        "cm = metrics.confusion_matrix(y, predictions_k)\n",
        "fig, ax = plt.subplots(figsize=(6,6))\n",
        "sns.heatmap(cm, ax=ax, cbar=False, annot=True, fmt='d', cmap='binary', linecolor='grey', linewidths=0.3)\n",
        "ax.set_xticklabels(['Outstanding','Good','Not Good']);\n",
        "ax.set_yticklabels(['Outstanding','Good','Not Good']);\n",
        "ax.set_xlabel('Predicted Rating')\n",
        "ax.set_ylabel('True Rating')"
      ],
      "execution_count": null,
      "outputs": [
        {
          "output_type": "execute_result",
          "data": {
            "text/plain": [
              "Text(30.5, 0.5, 'True Rating')"
            ]
          },
          "metadata": {
            "tags": []
          },
          "execution_count": 15
        },
        {
          "output_type": "display_data",
          "data": {
            "image/png": "[encoded data removed]",
            "text/plain": [
              "<Figure size 432x432 with 1 Axes>"
            ]
          },
          "metadata": {
            "tags": [],
            "needs_background": "light"
          }
        }
      ]
    },
    {
      "cell_type": "markdown",
      "metadata": {
        "id": "xE0mbPeHFEAQ"
      },
      "source": [
        "**Feature Engineering**"
      ]
    },
    {
      "cell_type": "markdown",
      "metadata": {
        "id": "rM_36N_UFUUl"
      },
      "source": [
        "Problem with classifers not working with the Progress * feature because of the negative values."
      ]
    },
    {
      "cell_type": "markdown",
      "metadata": {
        "id": "AHUJ7K6sJ8ud"
      },
      "source": [
        "- while using the Naïve Bayes classifier the MultinomialNB method returned errors due to the negative values in the Progress 8 features. A simple solution to this is to perform a feature rescaling (Normalisation) which helps to put every feature in the positive range values 0 to 1"
      ]
    },
    {
      "cell_type": "code",
      "metadata": {
        "colab": {
          "base_uri": "https://localhost:8080/"
        },
        "id": "Z1_vlR7tMbwc",
        "outputId": "a12261e5-3d65-450a-b745-588d6a967fbb"
      },
      "source": [
        "clsf_nai_m = naive_bayes.MultinomialNB()\n",
        "norm = preprocessing.MinMaxScaler()\n",
        "X_norm = norm.fit_transform(X)\n",
        "clsf_nai_m.fit(X_norm, y)\n",
        "predictions_nm = clsf_nai_m.predict(X_norm)\n",
        "metrics.accuracy_score(y, predictions_nm)"
      ],
      "execution_count": null,
      "outputs": [
        {
          "output_type": "execute_result",
          "data": {
            "text/plain": [
              "0.5924170616113744"
            ]
          },
          "metadata": {
            "tags": []
          },
          "execution_count": 16
        }
      ]
    },
    {
      "cell_type": "code",
      "metadata": {
        "colab": {
          "base_uri": "https://localhost:8080/"
        },
        "id": "nHnN7xA2jErm",
        "outputId": "f0ac13e0-83dc-4dee-c8ff-9e89e98b5f0f"
      },
      "source": [
        "scores_nai = cross_val_score(clsf_nai_m.fit(X_norm, y), X_norm, y, cv= 5)\n",
        "scores_nai.mean()"
      ],
      "execution_count": null,
      "outputs": [
        {
          "output_type": "execute_result",
          "data": {
            "text/plain": [
              "0.5924175342028639"
            ]
          },
          "metadata": {
            "tags": []
          },
          "execution_count": 17
        }
      ]
    },
    {
      "cell_type": "markdown",
      "metadata": {
        "id": "tbwZzq2kN--0"
      },
      "source": [
        "> now we have an accuracy score for this classification model"
      ]
    },
    {
      "cell_type": "markdown",
      "metadata": {
        "id": "HnljBTPCOH45"
      },
      "source": [
        "Applying an encoding scheme to Gender attribute"
      ]
    },
    {
      "cell_type": "markdown",
      "metadata": {
        "id": "cjcKE_cGYICj"
      },
      "source": [
        "- There is the option of applying one of the two below encodings to the Gender feature\n",
        "1. Nominal Encoding\n",
        "2. Ordinal Encoding\n",
        "> Applying a **Nominal encoding** to the Gender attribute is our choice in this instance, where the categories are encoded into numbers without any ordering since there are no orders to the category of the Gender feature compared with the ordinal encoding which tends to encode in some ordering like a rank. Also this encoding makes use of less space than the original."
      ]
    },
    {
      "cell_type": "code",
      "metadata": {
        "id": "32-dl4XxccIH"
      },
      "source": [
        "le = preprocessing.LabelEncoder()\n",
        "ref_df['en_GENDER']=le.fit_transform(ref_df['GENDER'])"
      ],
      "execution_count": null,
      "outputs": []
    },
    {
      "cell_type": "markdown",
      "metadata": {
        "id": "srK30m_Fp_zo"
      },
      "source": [
        "Combining religious options"
      ]
    },
    {
      "cell_type": "code",
      "metadata": {
        "colab": {
          "base_uri": "https://localhost:8080/"
        },
        "id": "Z35X9lpQqDaY",
        "outputId": "a50d1f78-cb94-45f3-f64a-816714507057"
      },
      "source": [
        "ref_df['RELCHAR'].value_counts()"
      ],
      "execution_count": null,
      "outputs": [
        {
          "output_type": "execute_result",
          "data": {
            "text/plain": [
              "Does not apply                      1459\n",
              "None                                 826\n",
              "Roman Catholic                       262\n",
              "Church of England                    135\n",
              "Christian                             30\n",
              "Jewish                                10\n",
              "Church of England/Roman Catholic       6\n",
              "Roman Catholic/Church of England       5\n",
              "Muslim                                 5\n",
              "Sikh                                   3\n",
              "Church of England/Christian            1\n",
              "Hindu                                  1\n",
              "Name: RELCHAR, dtype: int64"
            ]
          },
          "metadata": {
            "tags": []
          },
          "execution_count": 19
        }
      ]
    },
    {
      "cell_type": "code",
      "metadata": {
        "colab": {
          "base_uri": "https://localhost:8080/",
          "height": 204
        },
        "id": "2Tf_9YfUq5DG",
        "outputId": "875ed62b-fdac-432c-d6bb-91bf4a1ffc9b"
      },
      "source": [
        "rel_df = ref_df[['RELCHAR']]\n",
        "rel_df.head()"
      ],
      "execution_count": null,
      "outputs": [
        {
          "output_type": "execute_result",
          "data": {
            "text/html": [
              "<div>\n",
              "<style scoped>\n",
              "    .dataframe tbody tr th:only-of-type {\n",
              "        vertical-align: middle;\n",
              "    }\n",
              "\n",
              "    .dataframe tbody tr th {\n",
              "        vertical-align: top;\n",
              "    }\n",
              "\n",
              "    .dataframe thead th {\n",
              "        text-align: right;\n",
              "    }\n",
              "</style>\n",
              "<table border=\"1\" class=\"dataframe\">\n",
              "  <thead>\n",
              "    <tr style=\"text-align: right;\">\n",
              "      <th></th>\n",
              "      <th>RELCHAR</th>\n",
              "    </tr>\n",
              "  </thead>\n",
              "  <tbody>\n",
              "    <tr>\n",
              "      <th>0</th>\n",
              "      <td>Does not apply</td>\n",
              "    </tr>\n",
              "    <tr>\n",
              "      <th>1</th>\n",
              "      <td>Does not apply</td>\n",
              "    </tr>\n",
              "    <tr>\n",
              "      <th>2</th>\n",
              "      <td>Does not apply</td>\n",
              "    </tr>\n",
              "    <tr>\n",
              "      <th>3</th>\n",
              "      <td>Does not apply</td>\n",
              "    </tr>\n",
              "    <tr>\n",
              "      <th>4</th>\n",
              "      <td>Does not apply</td>\n",
              "    </tr>\n",
              "  </tbody>\n",
              "</table>\n",
              "</div>"
            ],
            "text/plain": [
              "          RELCHAR\n",
              "0  Does not apply\n",
              "1  Does not apply\n",
              "2  Does not apply\n",
              "3  Does not apply\n",
              "4  Does not apply"
            ]
          },
          "metadata": {
            "tags": []
          },
          "execution_count": 20
        }
      ]
    },
    {
      "cell_type": "code",
      "metadata": {
        "colab": {
          "base_uri": "https://localhost:8080/",
          "height": 461
        },
        "id": "GQLqFgHOdw3b",
        "outputId": "b4a3d8de-d495-4959-c977-0d1b7293632a"
      },
      "source": [
        "no_relig = ['Does not apply', 'None']\n",
        "rel_df['new_RELCHAR'] = [d if d in no_relig else 'religious' for d in rel_df['RELCHAR']]\n",
        "rel_df.head(10)"
      ],
      "execution_count": null,
      "outputs": [
        {
          "output_type": "stream",
          "text": [
            "/usr/local/lib/python3.6/dist-packages/ipykernel_launcher.py:2: SettingWithCopyWarning: \n",
            "A value is trying to be set on a copy of a slice from a DataFrame.\n",
            "Try using .loc[row_indexer,col_indexer] = value instead\n",
            "\n",
            "See the caveats in the documentation: https://pandas.pydata.org/pandas-docs/stable/user_guide/indexing.html#returning-a-view-versus-a-copy\n",
            "  \n"
          ],
          "name": "stderr"
        },
        {
          "output_type": "execute_result",
          "data": {
            "text/html": [
              "<div>\n",
              "<style scoped>\n",
              "    .dataframe tbody tr th:only-of-type {\n",
              "        vertical-align: middle;\n",
              "    }\n",
              "\n",
              "    .dataframe tbody tr th {\n",
              "        vertical-align: top;\n",
              "    }\n",
              "\n",
              "    .dataframe thead th {\n",
              "        text-align: right;\n",
              "    }\n",
              "</style>\n",
              "<table border=\"1\" class=\"dataframe\">\n",
              "  <thead>\n",
              "    <tr style=\"text-align: right;\">\n",
              "      <th></th>\n",
              "      <th>RELCHAR</th>\n",
              "      <th>new_RELCHAR</th>\n",
              "    </tr>\n",
              "  </thead>\n",
              "  <tbody>\n",
              "    <tr>\n",
              "      <th>0</th>\n",
              "      <td>Does not apply</td>\n",
              "      <td>Does not apply</td>\n",
              "    </tr>\n",
              "    <tr>\n",
              "      <th>1</th>\n",
              "      <td>Does not apply</td>\n",
              "      <td>Does not apply</td>\n",
              "    </tr>\n",
              "    <tr>\n",
              "      <th>2</th>\n",
              "      <td>Does not apply</td>\n",
              "      <td>Does not apply</td>\n",
              "    </tr>\n",
              "    <tr>\n",
              "      <th>3</th>\n",
              "      <td>Does not apply</td>\n",
              "      <td>Does not apply</td>\n",
              "    </tr>\n",
              "    <tr>\n",
              "      <th>4</th>\n",
              "      <td>Does not apply</td>\n",
              "      <td>Does not apply</td>\n",
              "    </tr>\n",
              "    <tr>\n",
              "      <th>5</th>\n",
              "      <td>None</td>\n",
              "      <td>None</td>\n",
              "    </tr>\n",
              "    <tr>\n",
              "      <th>6</th>\n",
              "      <td>Roman Catholic</td>\n",
              "      <td>religious</td>\n",
              "    </tr>\n",
              "    <tr>\n",
              "      <th>7</th>\n",
              "      <td>None</td>\n",
              "      <td>None</td>\n",
              "    </tr>\n",
              "    <tr>\n",
              "      <th>8</th>\n",
              "      <td>Roman Catholic</td>\n",
              "      <td>religious</td>\n",
              "    </tr>\n",
              "    <tr>\n",
              "      <th>9</th>\n",
              "      <td>Does not apply</td>\n",
              "      <td>Does not apply</td>\n",
              "    </tr>\n",
              "  </tbody>\n",
              "</table>\n",
              "</div>"
            ],
            "text/plain": [
              "          RELCHAR     new_RELCHAR\n",
              "0  Does not apply  Does not apply\n",
              "1  Does not apply  Does not apply\n",
              "2  Does not apply  Does not apply\n",
              "3  Does not apply  Does not apply\n",
              "4  Does not apply  Does not apply\n",
              "5            None            None\n",
              "6  Roman Catholic       religious\n",
              "7            None            None\n",
              "8  Roman Catholic       religious\n",
              "9  Does not apply  Does not apply"
            ]
          },
          "metadata": {
            "tags": []
          },
          "execution_count": 21
        }
      ]
    },
    {
      "cell_type": "code",
      "metadata": {
        "colab": {
          "base_uri": "https://localhost:8080/",
          "height": 461
        },
        "id": "PqPSIrAMuiB_",
        "outputId": "45f413ab-1ff6-4856-f6b1-801d58d4f751"
      },
      "source": [
        "rel_df['new_RELCHAR'] = rel_df['new_RELCHAR'].replace(['Does not apply', 'None'],['non religious', 'non religious'])\n",
        "rel_df.head(10)"
      ],
      "execution_count": null,
      "outputs": [
        {
          "output_type": "stream",
          "text": [
            "/usr/local/lib/python3.6/dist-packages/ipykernel_launcher.py:1: SettingWithCopyWarning: \n",
            "A value is trying to be set on a copy of a slice from a DataFrame.\n",
            "Try using .loc[row_indexer,col_indexer] = value instead\n",
            "\n",
            "See the caveats in the documentation: https://pandas.pydata.org/pandas-docs/stable/user_guide/indexing.html#returning-a-view-versus-a-copy\n",
            "  \"\"\"Entry point for launching an IPython kernel.\n"
          ],
          "name": "stderr"
        },
        {
          "output_type": "execute_result",
          "data": {
            "text/html": [
              "<div>\n",
              "<style scoped>\n",
              "    .dataframe tbody tr th:only-of-type {\n",
              "        vertical-align: middle;\n",
              "    }\n",
              "\n",
              "    .dataframe tbody tr th {\n",
              "        vertical-align: top;\n",
              "    }\n",
              "\n",
              "    .dataframe thead th {\n",
              "        text-align: right;\n",
              "    }\n",
              "</style>\n",
              "<table border=\"1\" class=\"dataframe\">\n",
              "  <thead>\n",
              "    <tr style=\"text-align: right;\">\n",
              "      <th></th>\n",
              "      <th>RELCHAR</th>\n",
              "      <th>new_RELCHAR</th>\n",
              "    </tr>\n",
              "  </thead>\n",
              "  <tbody>\n",
              "    <tr>\n",
              "      <th>0</th>\n",
              "      <td>Does not apply</td>\n",
              "      <td>non religious</td>\n",
              "    </tr>\n",
              "    <tr>\n",
              "      <th>1</th>\n",
              "      <td>Does not apply</td>\n",
              "      <td>non religious</td>\n",
              "    </tr>\n",
              "    <tr>\n",
              "      <th>2</th>\n",
              "      <td>Does not apply</td>\n",
              "      <td>non religious</td>\n",
              "    </tr>\n",
              "    <tr>\n",
              "      <th>3</th>\n",
              "      <td>Does not apply</td>\n",
              "      <td>non religious</td>\n",
              "    </tr>\n",
              "    <tr>\n",
              "      <th>4</th>\n",
              "      <td>Does not apply</td>\n",
              "      <td>non religious</td>\n",
              "    </tr>\n",
              "    <tr>\n",
              "      <th>5</th>\n",
              "      <td>None</td>\n",
              "      <td>non religious</td>\n",
              "    </tr>\n",
              "    <tr>\n",
              "      <th>6</th>\n",
              "      <td>Roman Catholic</td>\n",
              "      <td>religious</td>\n",
              "    </tr>\n",
              "    <tr>\n",
              "      <th>7</th>\n",
              "      <td>None</td>\n",
              "      <td>non religious</td>\n",
              "    </tr>\n",
              "    <tr>\n",
              "      <th>8</th>\n",
              "      <td>Roman Catholic</td>\n",
              "      <td>religious</td>\n",
              "    </tr>\n",
              "    <tr>\n",
              "      <th>9</th>\n",
              "      <td>Does not apply</td>\n",
              "      <td>non religious</td>\n",
              "    </tr>\n",
              "  </tbody>\n",
              "</table>\n",
              "</div>"
            ],
            "text/plain": [
              "          RELCHAR    new_RELCHAR\n",
              "0  Does not apply  non religious\n",
              "1  Does not apply  non religious\n",
              "2  Does not apply  non religious\n",
              "3  Does not apply  non religious\n",
              "4  Does not apply  non religious\n",
              "5            None  non religious\n",
              "6  Roman Catholic      religious\n",
              "7            None  non religious\n",
              "8  Roman Catholic      religious\n",
              "9  Does not apply  non religious"
            ]
          },
          "metadata": {
            "tags": []
          },
          "execution_count": 22
        }
      ]
    },
    {
      "cell_type": "code",
      "metadata": {
        "colab": {
          "base_uri": "https://localhost:8080/",
          "height": 309
        },
        "id": "jI5WlUw08DYE",
        "outputId": "032bff20-b2fe-477a-aefe-73fd4fb67798"
      },
      "source": [
        "ref_df['RELCHAR'] = rel_df['new_RELCHAR']\n",
        "ref_df.head()"
      ],
      "execution_count": null,
      "outputs": [
        {
          "output_type": "execute_result",
          "data": {
            "text/html": [
              "<div>\n",
              "<style scoped>\n",
              "    .dataframe tbody tr th:only-of-type {\n",
              "        vertical-align: middle;\n",
              "    }\n",
              "\n",
              "    .dataframe tbody tr th {\n",
              "        vertical-align: top;\n",
              "    }\n",
              "\n",
              "    .dataframe thead th {\n",
              "        text-align: right;\n",
              "    }\n",
              "</style>\n",
              "<table border=\"1\" class=\"dataframe\">\n",
              "  <thead>\n",
              "    <tr style=\"text-align: right;\">\n",
              "      <th></th>\n",
              "      <th>URN</th>\n",
              "      <th>LA</th>\n",
              "      <th>GENDER</th>\n",
              "      <th>RELCHAR</th>\n",
              "      <th>PNORG</th>\n",
              "      <th>PNORB</th>\n",
              "      <th>PSENELSE</th>\n",
              "      <th>PSENELK</th>\n",
              "      <th>PNUMEAL</th>\n",
              "      <th>PNUMENGFL</th>\n",
              "      <th>PNUMUNCFL</th>\n",
              "      <th>PNUMFSMEVER</th>\n",
              "      <th>PNUMFSM</th>\n",
              "      <th>PERCTOT</th>\n",
              "      <th>PPERSABS10</th>\n",
              "      <th>TPUP</th>\n",
              "      <th>P8PUP</th>\n",
              "      <th>ATT8SCR</th>\n",
              "      <th>P8MEA</th>\n",
              "      <th>P8CILOW</th>\n",
              "      <th>P8CIUPP</th>\n",
              "      <th>EBACCAPS</th>\n",
              "      <th>PTL2BASICS_94</th>\n",
              "      <th>PTL2BASICS_95</th>\n",
              "      <th>PTEBACC_E_PTQ_EE</th>\n",
              "      <th>PTEBACC_94</th>\n",
              "      <th>PTEBACC_95</th>\n",
              "      <th>PT5EM_94</th>\n",
              "      <th>P8_BANDING</th>\n",
              "      <th>OVERALL_DESTPER</th>\n",
              "      <th>NOT_SUSTAINEDPER</th>\n",
              "      <th>UNKNOWNPER</th>\n",
              "      <th>OVERALL_DESTPER_DIS</th>\n",
              "      <th>NOT_SUSTAINEDPER_DIS</th>\n",
              "      <th>UNKNOWNPER_DIS</th>\n",
              "      <th>Rating</th>\n",
              "      <th>Rating_Val</th>\n",
              "      <th>en_GENDER</th>\n",
              "    </tr>\n",
              "  </thead>\n",
              "  <tbody>\n",
              "    <tr>\n",
              "      <th>0</th>\n",
              "      <td>100049</td>\n",
              "      <td>202</td>\n",
              "      <td>Mixed</td>\n",
              "      <td>non religious</td>\n",
              "      <td>41.4</td>\n",
              "      <td>58.6</td>\n",
              "      <td>3.2</td>\n",
              "      <td>11.8</td>\n",
              "      <td>73.1</td>\n",
              "      <td>26.8</td>\n",
              "      <td>0.1</td>\n",
              "      <td>64.5</td>\n",
              "      <td>41.2</td>\n",
              "      <td>6.9</td>\n",
              "      <td>18.8</td>\n",
              "      <td>199</td>\n",
              "      <td>178</td>\n",
              "      <td>42.4</td>\n",
              "      <td>-0.09</td>\n",
              "      <td>-0.28</td>\n",
              "      <td>0.09</td>\n",
              "      <td>3.72</td>\n",
              "      <td>0.588</td>\n",
              "      <td>0.432</td>\n",
              "      <td>0.241</td>\n",
              "      <td>0.191</td>\n",
              "      <td>0.141</td>\n",
              "      <td>0.533</td>\n",
              "      <td>3</td>\n",
              "      <td>0.9</td>\n",
              "      <td>0.09</td>\n",
              "      <td>0.01</td>\n",
              "      <td>0.89</td>\n",
              "      <td>0.11</td>\n",
              "      <td>0.01</td>\n",
              "      <td>Good</td>\n",
              "      <td>1</td>\n",
              "      <td>2</td>\n",
              "    </tr>\n",
              "    <tr>\n",
              "      <th>1</th>\n",
              "      <td>100050</td>\n",
              "      <td>202</td>\n",
              "      <td>Girls</td>\n",
              "      <td>non religious</td>\n",
              "      <td>96.0</td>\n",
              "      <td>4.0</td>\n",
              "      <td>1.3</td>\n",
              "      <td>10.2</td>\n",
              "      <td>38.1</td>\n",
              "      <td>60.9</td>\n",
              "      <td>0.9</td>\n",
              "      <td>49.6</td>\n",
              "      <td>26.9</td>\n",
              "      <td>5.3</td>\n",
              "      <td>12.5</td>\n",
              "      <td>175</td>\n",
              "      <td>164</td>\n",
              "      <td>58.6</td>\n",
              "      <td>0.77</td>\n",
              "      <td>0.58</td>\n",
              "      <td>0.97</td>\n",
              "      <td>5.33</td>\n",
              "      <td>0.760</td>\n",
              "      <td>0.577</td>\n",
              "      <td>0.577</td>\n",
              "      <td>0.417</td>\n",
              "      <td>0.326</td>\n",
              "      <td>0.749</td>\n",
              "      <td>1</td>\n",
              "      <td>0.94</td>\n",
              "      <td>0.04</td>\n",
              "      <td>0.02</td>\n",
              "      <td>0.95</td>\n",
              "      <td>0.04</td>\n",
              "      <td>0.01</td>\n",
              "      <td>Good</td>\n",
              "      <td>1</td>\n",
              "      <td>1</td>\n",
              "    </tr>\n",
              "    <tr>\n",
              "      <th>2</th>\n",
              "      <td>100051</td>\n",
              "      <td>202</td>\n",
              "      <td>Mixed</td>\n",
              "      <td>non religious</td>\n",
              "      <td>45.0</td>\n",
              "      <td>55.0</td>\n",
              "      <td>3.6</td>\n",
              "      <td>11.1</td>\n",
              "      <td>82.6</td>\n",
              "      <td>17.4</td>\n",
              "      <td>0.0</td>\n",
              "      <td>69.0</td>\n",
              "      <td>43.0</td>\n",
              "      <td>6.7</td>\n",
              "      <td>19.2</td>\n",
              "      <td>154</td>\n",
              "      <td>139</td>\n",
              "      <td>42.1</td>\n",
              "      <td>-0.18</td>\n",
              "      <td>-0.40</td>\n",
              "      <td>0.03</td>\n",
              "      <td>3.77</td>\n",
              "      <td>0.591</td>\n",
              "      <td>0.403</td>\n",
              "      <td>0.604</td>\n",
              "      <td>0.201</td>\n",
              "      <td>0.071</td>\n",
              "      <td>0.526</td>\n",
              "      <td>3</td>\n",
              "      <td>0.86</td>\n",
              "      <td>0.08</td>\n",
              "      <td>0.05</td>\n",
              "      <td>0.85</td>\n",
              "      <td>0.09</td>\n",
              "      <td>0.06</td>\n",
              "      <td>Good</td>\n",
              "      <td>1</td>\n",
              "      <td>2</td>\n",
              "    </tr>\n",
              "    <tr>\n",
              "      <th>3</th>\n",
              "      <td>100052</td>\n",
              "      <td>202</td>\n",
              "      <td>Mixed</td>\n",
              "      <td>non religious</td>\n",
              "      <td>47.5</td>\n",
              "      <td>52.5</td>\n",
              "      <td>2.4</td>\n",
              "      <td>6.9</td>\n",
              "      <td>55.8</td>\n",
              "      <td>44.2</td>\n",
              "      <td>0.0</td>\n",
              "      <td>54.2</td>\n",
              "      <td>22.8</td>\n",
              "      <td>5.4</td>\n",
              "      <td>14</td>\n",
              "      <td>200</td>\n",
              "      <td>188</td>\n",
              "      <td>44.6</td>\n",
              "      <td>-0.06</td>\n",
              "      <td>-0.24</td>\n",
              "      <td>0.13</td>\n",
              "      <td>4.08</td>\n",
              "      <td>0.630</td>\n",
              "      <td>0.315</td>\n",
              "      <td>0.585</td>\n",
              "      <td>0.240</td>\n",
              "      <td>0.120</td>\n",
              "      <td>0.570</td>\n",
              "      <td>3</td>\n",
              "      <td>0.91</td>\n",
              "      <td>0.08</td>\n",
              "      <td>0.01</td>\n",
              "      <td>0.87</td>\n",
              "      <td>0.13</td>\n",
              "      <td>0</td>\n",
              "      <td>Good</td>\n",
              "      <td>1</td>\n",
              "      <td>2</td>\n",
              "    </tr>\n",
              "    <tr>\n",
              "      <th>4</th>\n",
              "      <td>100053</td>\n",
              "      <td>202</td>\n",
              "      <td>Mixed</td>\n",
              "      <td>non religious</td>\n",
              "      <td>33.7</td>\n",
              "      <td>66.3</td>\n",
              "      <td>6.2</td>\n",
              "      <td>13.4</td>\n",
              "      <td>28.2</td>\n",
              "      <td>70.3</td>\n",
              "      <td>1.5</td>\n",
              "      <td>47.1</td>\n",
              "      <td>26.2</td>\n",
              "      <td>6.3</td>\n",
              "      <td>18.5</td>\n",
              "      <td>136</td>\n",
              "      <td>128</td>\n",
              "      <td>47.2</td>\n",
              "      <td>-0.08</td>\n",
              "      <td>-0.30</td>\n",
              "      <td>0.14</td>\n",
              "      <td>4.29</td>\n",
              "      <td>0.662</td>\n",
              "      <td>0.471</td>\n",
              "      <td>0.515</td>\n",
              "      <td>0.368</td>\n",
              "      <td>0.265</td>\n",
              "      <td>0.625</td>\n",
              "      <td>3</td>\n",
              "      <td>0.95</td>\n",
              "      <td>0.04</td>\n",
              "      <td>0.01</td>\n",
              "      <td>0.9</td>\n",
              "      <td>0.07</td>\n",
              "      <td>0.03</td>\n",
              "      <td>Good</td>\n",
              "      <td>1</td>\n",
              "      <td>2</td>\n",
              "    </tr>\n",
              "  </tbody>\n",
              "</table>\n",
              "</div>"
            ],
            "text/plain": [
              "      URN   LA GENDER  ... Rating  Rating_Val  en_GENDER\n",
              "0  100049  202  Mixed  ...   Good           1          2\n",
              "1  100050  202  Girls  ...   Good           1          1\n",
              "2  100051  202  Mixed  ...   Good           1          2\n",
              "3  100052  202  Mixed  ...   Good           1          2\n",
              "4  100053  202  Mixed  ...   Good           1          2\n",
              "\n",
              "[5 rows x 38 columns]"
            ]
          },
          "metadata": {
            "tags": []
          },
          "execution_count": 23
        }
      ]
    },
    {
      "cell_type": "markdown",
      "metadata": {
        "id": "dWuNfCdH89xF"
      },
      "source": [
        "It is sensible combining the religious values because already it represents a classification of schools with religious character and those without, so it is best we generalise into two distinct values no matter the type of religion practised"
      ]
    },
    {
      "cell_type": "markdown",
      "metadata": {
        "id": "S58Putr48ck_"
      },
      "source": [
        "- applying nominal encoding"
      ]
    },
    {
      "cell_type": "code",
      "metadata": {
        "colab": {
          "base_uri": "https://localhost:8080/",
          "height": 515
        },
        "id": "V6ElY4Hi8iTk",
        "outputId": "c99f573a-6153-4c83-fad9-32e6a8b8cb26"
      },
      "source": [
        "la = preprocessing.LabelEncoder()\n",
        "ref_df['en_RELCHAR'] = la.fit_transform(ref_df['RELCHAR'])\n",
        "ref_df.head(10)"
      ],
      "execution_count": null,
      "outputs": [
        {
          "output_type": "execute_result",
          "data": {
            "text/html": [
              "<div>\n",
              "<style scoped>\n",
              "    .dataframe tbody tr th:only-of-type {\n",
              "        vertical-align: middle;\n",
              "    }\n",
              "\n",
              "    .dataframe tbody tr th {\n",
              "        vertical-align: top;\n",
              "    }\n",
              "\n",
              "    .dataframe thead th {\n",
              "        text-align: right;\n",
              "    }\n",
              "</style>\n",
              "<table border=\"1\" class=\"dataframe\">\n",
              "  <thead>\n",
              "    <tr style=\"text-align: right;\">\n",
              "      <th></th>\n",
              "      <th>URN</th>\n",
              "      <th>LA</th>\n",
              "      <th>GENDER</th>\n",
              "      <th>RELCHAR</th>\n",
              "      <th>PNORG</th>\n",
              "      <th>PNORB</th>\n",
              "      <th>PSENELSE</th>\n",
              "      <th>PSENELK</th>\n",
              "      <th>PNUMEAL</th>\n",
              "      <th>PNUMENGFL</th>\n",
              "      <th>PNUMUNCFL</th>\n",
              "      <th>PNUMFSMEVER</th>\n",
              "      <th>PNUMFSM</th>\n",
              "      <th>PERCTOT</th>\n",
              "      <th>PPERSABS10</th>\n",
              "      <th>TPUP</th>\n",
              "      <th>P8PUP</th>\n",
              "      <th>ATT8SCR</th>\n",
              "      <th>P8MEA</th>\n",
              "      <th>P8CILOW</th>\n",
              "      <th>P8CIUPP</th>\n",
              "      <th>EBACCAPS</th>\n",
              "      <th>PTL2BASICS_94</th>\n",
              "      <th>PTL2BASICS_95</th>\n",
              "      <th>PTEBACC_E_PTQ_EE</th>\n",
              "      <th>PTEBACC_94</th>\n",
              "      <th>PTEBACC_95</th>\n",
              "      <th>PT5EM_94</th>\n",
              "      <th>P8_BANDING</th>\n",
              "      <th>OVERALL_DESTPER</th>\n",
              "      <th>NOT_SUSTAINEDPER</th>\n",
              "      <th>UNKNOWNPER</th>\n",
              "      <th>OVERALL_DESTPER_DIS</th>\n",
              "      <th>NOT_SUSTAINEDPER_DIS</th>\n",
              "      <th>UNKNOWNPER_DIS</th>\n",
              "      <th>Rating</th>\n",
              "      <th>Rating_Val</th>\n",
              "      <th>en_GENDER</th>\n",
              "      <th>en_RELCHAR</th>\n",
              "    </tr>\n",
              "  </thead>\n",
              "  <tbody>\n",
              "    <tr>\n",
              "      <th>0</th>\n",
              "      <td>100049</td>\n",
              "      <td>202</td>\n",
              "      <td>Mixed</td>\n",
              "      <td>non religious</td>\n",
              "      <td>41.4</td>\n",
              "      <td>58.6</td>\n",
              "      <td>3.2</td>\n",
              "      <td>11.8</td>\n",
              "      <td>73.1</td>\n",
              "      <td>26.8</td>\n",
              "      <td>0.1</td>\n",
              "      <td>64.5</td>\n",
              "      <td>41.2</td>\n",
              "      <td>6.9</td>\n",
              "      <td>18.8</td>\n",
              "      <td>199</td>\n",
              "      <td>178</td>\n",
              "      <td>42.4</td>\n",
              "      <td>-0.09</td>\n",
              "      <td>-0.28</td>\n",
              "      <td>0.09</td>\n",
              "      <td>3.72</td>\n",
              "      <td>0.588</td>\n",
              "      <td>0.432</td>\n",
              "      <td>0.241</td>\n",
              "      <td>0.191</td>\n",
              "      <td>0.141</td>\n",
              "      <td>0.533</td>\n",
              "      <td>3</td>\n",
              "      <td>0.9</td>\n",
              "      <td>0.09</td>\n",
              "      <td>0.01</td>\n",
              "      <td>0.89</td>\n",
              "      <td>0.11</td>\n",
              "      <td>0.01</td>\n",
              "      <td>Good</td>\n",
              "      <td>1</td>\n",
              "      <td>2</td>\n",
              "      <td>0</td>\n",
              "    </tr>\n",
              "    <tr>\n",
              "      <th>1</th>\n",
              "      <td>100050</td>\n",
              "      <td>202</td>\n",
              "      <td>Girls</td>\n",
              "      <td>non religious</td>\n",
              "      <td>96.0</td>\n",
              "      <td>4.0</td>\n",
              "      <td>1.3</td>\n",
              "      <td>10.2</td>\n",
              "      <td>38.1</td>\n",
              "      <td>60.9</td>\n",
              "      <td>0.9</td>\n",
              "      <td>49.6</td>\n",
              "      <td>26.9</td>\n",
              "      <td>5.3</td>\n",
              "      <td>12.5</td>\n",
              "      <td>175</td>\n",
              "      <td>164</td>\n",
              "      <td>58.6</td>\n",
              "      <td>0.77</td>\n",
              "      <td>0.58</td>\n",
              "      <td>0.97</td>\n",
              "      <td>5.33</td>\n",
              "      <td>0.760</td>\n",
              "      <td>0.577</td>\n",
              "      <td>0.577</td>\n",
              "      <td>0.417</td>\n",
              "      <td>0.326</td>\n",
              "      <td>0.749</td>\n",
              "      <td>1</td>\n",
              "      <td>0.94</td>\n",
              "      <td>0.04</td>\n",
              "      <td>0.02</td>\n",
              "      <td>0.95</td>\n",
              "      <td>0.04</td>\n",
              "      <td>0.01</td>\n",
              "      <td>Good</td>\n",
              "      <td>1</td>\n",
              "      <td>1</td>\n",
              "      <td>0</td>\n",
              "    </tr>\n",
              "    <tr>\n",
              "      <th>2</th>\n",
              "      <td>100051</td>\n",
              "      <td>202</td>\n",
              "      <td>Mixed</td>\n",
              "      <td>non religious</td>\n",
              "      <td>45.0</td>\n",
              "      <td>55.0</td>\n",
              "      <td>3.6</td>\n",
              "      <td>11.1</td>\n",
              "      <td>82.6</td>\n",
              "      <td>17.4</td>\n",
              "      <td>0.0</td>\n",
              "      <td>69.0</td>\n",
              "      <td>43.0</td>\n",
              "      <td>6.7</td>\n",
              "      <td>19.2</td>\n",
              "      <td>154</td>\n",
              "      <td>139</td>\n",
              "      <td>42.1</td>\n",
              "      <td>-0.18</td>\n",
              "      <td>-0.40</td>\n",
              "      <td>0.03</td>\n",
              "      <td>3.77</td>\n",
              "      <td>0.591</td>\n",
              "      <td>0.403</td>\n",
              "      <td>0.604</td>\n",
              "      <td>0.201</td>\n",
              "      <td>0.071</td>\n",
              "      <td>0.526</td>\n",
              "      <td>3</td>\n",
              "      <td>0.86</td>\n",
              "      <td>0.08</td>\n",
              "      <td>0.05</td>\n",
              "      <td>0.85</td>\n",
              "      <td>0.09</td>\n",
              "      <td>0.06</td>\n",
              "      <td>Good</td>\n",
              "      <td>1</td>\n",
              "      <td>2</td>\n",
              "      <td>0</td>\n",
              "    </tr>\n",
              "    <tr>\n",
              "      <th>3</th>\n",
              "      <td>100052</td>\n",
              "      <td>202</td>\n",
              "      <td>Mixed</td>\n",
              "      <td>non religious</td>\n",
              "      <td>47.5</td>\n",
              "      <td>52.5</td>\n",
              "      <td>2.4</td>\n",
              "      <td>6.9</td>\n",
              "      <td>55.8</td>\n",
              "      <td>44.2</td>\n",
              "      <td>0.0</td>\n",
              "      <td>54.2</td>\n",
              "      <td>22.8</td>\n",
              "      <td>5.4</td>\n",
              "      <td>14</td>\n",
              "      <td>200</td>\n",
              "      <td>188</td>\n",
              "      <td>44.6</td>\n",
              "      <td>-0.06</td>\n",
              "      <td>-0.24</td>\n",
              "      <td>0.13</td>\n",
              "      <td>4.08</td>\n",
              "      <td>0.630</td>\n",
              "      <td>0.315</td>\n",
              "      <td>0.585</td>\n",
              "      <td>0.240</td>\n",
              "      <td>0.120</td>\n",
              "      <td>0.570</td>\n",
              "      <td>3</td>\n",
              "      <td>0.91</td>\n",
              "      <td>0.08</td>\n",
              "      <td>0.01</td>\n",
              "      <td>0.87</td>\n",
              "      <td>0.13</td>\n",
              "      <td>0</td>\n",
              "      <td>Good</td>\n",
              "      <td>1</td>\n",
              "      <td>2</td>\n",
              "      <td>0</td>\n",
              "    </tr>\n",
              "    <tr>\n",
              "      <th>4</th>\n",
              "      <td>100053</td>\n",
              "      <td>202</td>\n",
              "      <td>Mixed</td>\n",
              "      <td>non religious</td>\n",
              "      <td>33.7</td>\n",
              "      <td>66.3</td>\n",
              "      <td>6.2</td>\n",
              "      <td>13.4</td>\n",
              "      <td>28.2</td>\n",
              "      <td>70.3</td>\n",
              "      <td>1.5</td>\n",
              "      <td>47.1</td>\n",
              "      <td>26.2</td>\n",
              "      <td>6.3</td>\n",
              "      <td>18.5</td>\n",
              "      <td>136</td>\n",
              "      <td>128</td>\n",
              "      <td>47.2</td>\n",
              "      <td>-0.08</td>\n",
              "      <td>-0.30</td>\n",
              "      <td>0.14</td>\n",
              "      <td>4.29</td>\n",
              "      <td>0.662</td>\n",
              "      <td>0.471</td>\n",
              "      <td>0.515</td>\n",
              "      <td>0.368</td>\n",
              "      <td>0.265</td>\n",
              "      <td>0.625</td>\n",
              "      <td>3</td>\n",
              "      <td>0.95</td>\n",
              "      <td>0.04</td>\n",
              "      <td>0.01</td>\n",
              "      <td>0.9</td>\n",
              "      <td>0.07</td>\n",
              "      <td>0.03</td>\n",
              "      <td>Good</td>\n",
              "      <td>1</td>\n",
              "      <td>2</td>\n",
              "      <td>0</td>\n",
              "    </tr>\n",
              "    <tr>\n",
              "      <th>5</th>\n",
              "      <td>100054</td>\n",
              "      <td>202</td>\n",
              "      <td>Girls</td>\n",
              "      <td>non religious</td>\n",
              "      <td>85.8</td>\n",
              "      <td>14.2</td>\n",
              "      <td>1.5</td>\n",
              "      <td>17.1</td>\n",
              "      <td>36.9</td>\n",
              "      <td>62.3</td>\n",
              "      <td>0.8</td>\n",
              "      <td>36.6</td>\n",
              "      <td>12.9</td>\n",
              "      <td>3.9</td>\n",
              "      <td>3.2</td>\n",
              "      <td>107</td>\n",
              "      <td>95</td>\n",
              "      <td>63.4</td>\n",
              "      <td>0.74</td>\n",
              "      <td>0.48</td>\n",
              "      <td>1.00</td>\n",
              "      <td>5.83</td>\n",
              "      <td>0.888</td>\n",
              "      <td>0.748</td>\n",
              "      <td>0.607</td>\n",
              "      <td>0.551</td>\n",
              "      <td>0.402</td>\n",
              "      <td>0.888</td>\n",
              "      <td>1</td>\n",
              "      <td>0.95</td>\n",
              "      <td>0.04</td>\n",
              "      <td>0.02</td>\n",
              "      <td>0.93</td>\n",
              "      <td>0.05</td>\n",
              "      <td>0.02</td>\n",
              "      <td>Outstanding</td>\n",
              "      <td>2</td>\n",
              "      <td>1</td>\n",
              "      <td>0</td>\n",
              "    </tr>\n",
              "    <tr>\n",
              "      <th>6</th>\n",
              "      <td>100055</td>\n",
              "      <td>202</td>\n",
              "      <td>Mixed</td>\n",
              "      <td>religious</td>\n",
              "      <td>58.8</td>\n",
              "      <td>41.2</td>\n",
              "      <td>3.5</td>\n",
              "      <td>8.9</td>\n",
              "      <td>52.2</td>\n",
              "      <td>47.8</td>\n",
              "      <td>0.0</td>\n",
              "      <td>54.5</td>\n",
              "      <td>29.3</td>\n",
              "      <td>5.3</td>\n",
              "      <td>14.3</td>\n",
              "      <td>115</td>\n",
              "      <td>107</td>\n",
              "      <td>48.3</td>\n",
              "      <td>0.09</td>\n",
              "      <td>-0.15</td>\n",
              "      <td>0.34</td>\n",
              "      <td>4.56</td>\n",
              "      <td>0.670</td>\n",
              "      <td>0.452</td>\n",
              "      <td>0.800</td>\n",
              "      <td>0.409</td>\n",
              "      <td>0.261</td>\n",
              "      <td>0.609</td>\n",
              "      <td>3</td>\n",
              "      <td>0.99</td>\n",
              "      <td>0</td>\n",
              "      <td>0.01</td>\n",
              "      <td>0.98</td>\n",
              "      <td>0</td>\n",
              "      <td>0.02</td>\n",
              "      <td>Good</td>\n",
              "      <td>1</td>\n",
              "      <td>2</td>\n",
              "      <td>1</td>\n",
              "    </tr>\n",
              "    <tr>\n",
              "      <th>7</th>\n",
              "      <td>100056</td>\n",
              "      <td>202</td>\n",
              "      <td>Boys</td>\n",
              "      <td>non religious</td>\n",
              "      <td>7.7</td>\n",
              "      <td>92.3</td>\n",
              "      <td>1.8</td>\n",
              "      <td>6.8</td>\n",
              "      <td>43.7</td>\n",
              "      <td>56.1</td>\n",
              "      <td>0.2</td>\n",
              "      <td>55.0</td>\n",
              "      <td>28.0</td>\n",
              "      <td>5.4</td>\n",
              "      <td>15.6</td>\n",
              "      <td>111</td>\n",
              "      <td>105</td>\n",
              "      <td>46.2</td>\n",
              "      <td>-0.44</td>\n",
              "      <td>-0.69</td>\n",
              "      <td>-0.20</td>\n",
              "      <td>4.53</td>\n",
              "      <td>0.658</td>\n",
              "      <td>0.414</td>\n",
              "      <td>0.847</td>\n",
              "      <td>0.396</td>\n",
              "      <td>0.270</td>\n",
              "      <td>0.586</td>\n",
              "      <td>4</td>\n",
              "      <td>0.93</td>\n",
              "      <td>0.06</td>\n",
              "      <td>0.01</td>\n",
              "      <td>0.93</td>\n",
              "      <td>0.07</td>\n",
              "      <td>0</td>\n",
              "      <td>Good</td>\n",
              "      <td>1</td>\n",
              "      <td>0</td>\n",
              "      <td>0</td>\n",
              "    </tr>\n",
              "    <tr>\n",
              "      <th>8</th>\n",
              "      <td>100059</td>\n",
              "      <td>202</td>\n",
              "      <td>Girls</td>\n",
              "      <td>religious</td>\n",
              "      <td>98.6</td>\n",
              "      <td>1.4</td>\n",
              "      <td>0.8</td>\n",
              "      <td>8.1</td>\n",
              "      <td>43.9</td>\n",
              "      <td>56.0</td>\n",
              "      <td>0.1</td>\n",
              "      <td>42.2</td>\n",
              "      <td>17.3</td>\n",
              "      <td>4.9</td>\n",
              "      <td>9.5</td>\n",
              "      <td>173</td>\n",
              "      <td>169</td>\n",
              "      <td>54.6</td>\n",
              "      <td>0.54</td>\n",
              "      <td>0.34</td>\n",
              "      <td>0.73</td>\n",
              "      <td>4.84</td>\n",
              "      <td>0.775</td>\n",
              "      <td>0.532</td>\n",
              "      <td>0.566</td>\n",
              "      <td>0.329</td>\n",
              "      <td>0.214</td>\n",
              "      <td>0.763</td>\n",
              "      <td>1</td>\n",
              "      <td>0.97</td>\n",
              "      <td>0.03</td>\n",
              "      <td>0.01</td>\n",
              "      <td>0.99</td>\n",
              "      <td>0.01</td>\n",
              "      <td>0</td>\n",
              "      <td>Good</td>\n",
              "      <td>1</td>\n",
              "      <td>1</td>\n",
              "      <td>1</td>\n",
              "    </tr>\n",
              "    <tr>\n",
              "      <th>9</th>\n",
              "      <td>100092</td>\n",
              "      <td>202</td>\n",
              "      <td>Mixed</td>\n",
              "      <td>non religious</td>\n",
              "      <td>11.8</td>\n",
              "      <td>88.2</td>\n",
              "      <td>100.0</td>\n",
              "      <td>0.0</td>\n",
              "      <td>20.6</td>\n",
              "      <td>79.4</td>\n",
              "      <td>0.0</td>\n",
              "      <td>91.2</td>\n",
              "      <td>67.6</td>\n",
              "      <td>27.9</td>\n",
              "      <td>81.4</td>\n",
              "      <td>17</td>\n",
              "      <td>16</td>\n",
              "      <td>3.4</td>\n",
              "      <td>-2.98</td>\n",
              "      <td>-3.60</td>\n",
              "      <td>-2.35</td>\n",
              "      <td>0.23</td>\n",
              "      <td>0.059</td>\n",
              "      <td>0.000</td>\n",
              "      <td>0.000</td>\n",
              "      <td>0.000</td>\n",
              "      <td>0.000</td>\n",
              "      <td>0.000</td>\n",
              "      <td>5</td>\n",
              "      <td>0.63</td>\n",
              "      <td>0.25</td>\n",
              "      <td>0.13</td>\n",
              "      <td>SUPP</td>\n",
              "      <td>SUPP</td>\n",
              "      <td>SUPP</td>\n",
              "      <td>Good</td>\n",
              "      <td>1</td>\n",
              "      <td>2</td>\n",
              "      <td>0</td>\n",
              "    </tr>\n",
              "  </tbody>\n",
              "</table>\n",
              "</div>"
            ],
            "text/plain": [
              "      URN   LA GENDER  ... Rating_Val  en_GENDER  en_RELCHAR\n",
              "0  100049  202  Mixed  ...          1          2           0\n",
              "1  100050  202  Girls  ...          1          1           0\n",
              "2  100051  202  Mixed  ...          1          2           0\n",
              "3  100052  202  Mixed  ...          1          2           0\n",
              "4  100053  202  Mixed  ...          1          2           0\n",
              "5  100054  202  Girls  ...          2          1           0\n",
              "6  100055  202  Mixed  ...          1          2           1\n",
              "7  100056  202   Boys  ...          1          0           0\n",
              "8  100059  202  Girls  ...          1          1           1\n",
              "9  100092  202  Mixed  ...          1          2           0\n",
              "\n",
              "[10 rows x 39 columns]"
            ]
          },
          "metadata": {
            "tags": []
          },
          "execution_count": 24
        }
      ]
    },
    {
      "cell_type": "markdown",
      "metadata": {
        "id": "3YUhMxj88s3V"
      },
      "source": [
        "Estimating accuracy of classifiers with new features (GENDER and RELCHAR)"
      ]
    },
    {
      "cell_type": "markdown",
      "metadata": {
        "id": "LVCHqIks9rv8"
      },
      "source": [
        "- K-NN"
      ]
    },
    {
      "cell_type": "code",
      "metadata": {
        "colab": {
          "base_uri": "https://localhost:8080/"
        },
        "id": "va44nWoI9nzd",
        "outputId": "9ffb5a60-2920-4599-ee5f-2de880ecd2de"
      },
      "source": [
        "X_new = ref_df[['en_GENDER','en_RELCHAR','PNORG','PNORB','PSENELSE','PSENELK','PNUMEAL','PNUMENGFL','PNUMUNCFL','PNUMFSM','P8PUP','ATT8SCR','P8MEA']].values\n",
        "y = ref_df['Rating_Val'].values\n",
        "kn_clf = neighbors.KNeighborsClassifier()\n",
        "kn_clf.fit(X_new,y)\n",
        "predictions_kn = kn_clf.predict(X_new)\n",
        "metrics.accuracy_score(y, predictions_kn)"
      ],
      "execution_count": null,
      "outputs": [
        {
          "output_type": "execute_result",
          "data": {
            "text/plain": [
              "0.7291286912139993"
            ]
          },
          "metadata": {
            "tags": []
          },
          "execution_count": 25
        }
      ]
    },
    {
      "cell_type": "code",
      "metadata": {
        "colab": {
          "base_uri": "https://localhost:8080/"
        },
        "id": "Kkc7oQAyjmLJ",
        "outputId": "7ed23363-20aa-474a-e588-831c9f715170"
      },
      "source": [
        "scores_kN = cross_val_score(kn_clf.fit(X_new,y), X_new, y, cv= 5)\n",
        "scores_kN.mean()"
      ],
      "execution_count": null,
      "outputs": [
        {
          "output_type": "execute_result",
          "data": {
            "text/plain": [
              "0.5975389892704719"
            ]
          },
          "metadata": {
            "tags": []
          },
          "execution_count": 26
        }
      ]
    },
    {
      "cell_type": "markdown",
      "metadata": {
        "id": "xGtTCSyQCE29"
      },
      "source": [
        "- Logistic Regression"
      ]
    },
    {
      "cell_type": "code",
      "metadata": {
        "colab": {
          "base_uri": "https://localhost:8080/"
        },
        "id": "ogHsxJxxCHNV",
        "outputId": "3a60a216-4d63-4277-cd6c-cbe1c1012f86"
      },
      "source": [
        "log_clf = linear_model.LogisticRegression()\n",
        "log_clf.fit(X_new,y)\n",
        "predictions_lg = log_clf.predict(X_new)\n",
        "metrics.accuracy_score(y, predictions_lg)"
      ],
      "execution_count": null,
      "outputs": [
        {
          "output_type": "stream",
          "text": [
            "/usr/local/lib/python3.6/dist-packages/sklearn/linear_model/_logistic.py:940: ConvergenceWarning: lbfgs failed to converge (status=1):\n",
            "STOP: TOTAL NO. of ITERATIONS REACHED LIMIT.\n",
            "\n",
            "Increase the number of iterations (max_iter) or scale the data as shown in:\n",
            "    https://scikit-learn.org/stable/modules/preprocessing.html\n",
            "Please also refer to the documentation for alternative solver options:\n",
            "    https://scikit-learn.org/stable/modules/linear_model.html#logistic-regression\n",
            "  extra_warning_msg=_LOGISTIC_SOLVER_CONVERGENCE_MSG)\n"
          ],
          "name": "stderr"
        },
        {
          "output_type": "execute_result",
          "data": {
            "text/plain": [
              "0.6613197229310973"
            ]
          },
          "metadata": {
            "tags": []
          },
          "execution_count": 27
        }
      ]
    },
    {
      "cell_type": "code",
      "metadata": {
        "colab": {
          "base_uri": "https://localhost:8080/"
        },
        "id": "bU8ly5aFj7sf",
        "outputId": "b3ac76ba-4a32-4d07-fd70-2da36a31a3b6"
      },
      "source": [
        "scores_log = cross_val_score(log_clf.fit(X_new,y), X_new, y, cv= 5)\n",
        "scores_log.mean()"
      ],
      "execution_count": null,
      "outputs": [
        {
          "output_type": "stream",
          "text": [
            "/usr/local/lib/python3.6/dist-packages/sklearn/linear_model/_logistic.py:940: ConvergenceWarning: lbfgs failed to converge (status=1):\n",
            "STOP: TOTAL NO. of ITERATIONS REACHED LIMIT.\n",
            "\n",
            "Increase the number of iterations (max_iter) or scale the data as shown in:\n",
            "    https://scikit-learn.org/stable/modules/preprocessing.html\n",
            "Please also refer to the documentation for alternative solver options:\n",
            "    https://scikit-learn.org/stable/modules/linear_model.html#logistic-regression\n",
            "  extra_warning_msg=_LOGISTIC_SOLVER_CONVERGENCE_MSG)\n",
            "/usr/local/lib/python3.6/dist-packages/sklearn/linear_model/_logistic.py:940: ConvergenceWarning: lbfgs failed to converge (status=1):\n",
            "STOP: TOTAL NO. of ITERATIONS REACHED LIMIT.\n",
            "\n",
            "Increase the number of iterations (max_iter) or scale the data as shown in:\n",
            "    https://scikit-learn.org/stable/modules/preprocessing.html\n",
            "Please also refer to the documentation for alternative solver options:\n",
            "    https://scikit-learn.org/stable/modules/linear_model.html#logistic-regression\n",
            "  extra_warning_msg=_LOGISTIC_SOLVER_CONVERGENCE_MSG)\n",
            "/usr/local/lib/python3.6/dist-packages/sklearn/linear_model/_logistic.py:940: ConvergenceWarning: lbfgs failed to converge (status=1):\n",
            "STOP: TOTAL NO. of ITERATIONS REACHED LIMIT.\n",
            "\n",
            "Increase the number of iterations (max_iter) or scale the data as shown in:\n",
            "    https://scikit-learn.org/stable/modules/preprocessing.html\n",
            "Please also refer to the documentation for alternative solver options:\n",
            "    https://scikit-learn.org/stable/modules/linear_model.html#logistic-regression\n",
            "  extra_warning_msg=_LOGISTIC_SOLVER_CONVERGENCE_MSG)\n",
            "/usr/local/lib/python3.6/dist-packages/sklearn/linear_model/_logistic.py:940: ConvergenceWarning: lbfgs failed to converge (status=1):\n",
            "STOP: TOTAL NO. of ITERATIONS REACHED LIMIT.\n",
            "\n",
            "Increase the number of iterations (max_iter) or scale the data as shown in:\n",
            "    https://scikit-learn.org/stable/modules/preprocessing.html\n",
            "Please also refer to the documentation for alternative solver options:\n",
            "    https://scikit-learn.org/stable/modules/linear_model.html#logistic-regression\n",
            "  extra_warning_msg=_LOGISTIC_SOLVER_CONVERGENCE_MSG)\n",
            "/usr/local/lib/python3.6/dist-packages/sklearn/linear_model/_logistic.py:940: ConvergenceWarning: lbfgs failed to converge (status=1):\n",
            "STOP: TOTAL NO. of ITERATIONS REACHED LIMIT.\n",
            "\n",
            "Increase the number of iterations (max_iter) or scale the data as shown in:\n",
            "    https://scikit-learn.org/stable/modules/preprocessing.html\n",
            "Please also refer to the documentation for alternative solver options:\n",
            "    https://scikit-learn.org/stable/modules/linear_model.html#logistic-regression\n",
            "  extra_warning_msg=_LOGISTIC_SOLVER_CONVERGENCE_MSG)\n",
            "/usr/local/lib/python3.6/dist-packages/sklearn/linear_model/_logistic.py:940: ConvergenceWarning: lbfgs failed to converge (status=1):\n",
            "STOP: TOTAL NO. of ITERATIONS REACHED LIMIT.\n",
            "\n",
            "Increase the number of iterations (max_iter) or scale the data as shown in:\n",
            "    https://scikit-learn.org/stable/modules/preprocessing.html\n",
            "Please also refer to the documentation for alternative solver options:\n",
            "    https://scikit-learn.org/stable/modules/linear_model.html#logistic-regression\n",
            "  extra_warning_msg=_LOGISTIC_SOLVER_CONVERGENCE_MSG)\n"
          ],
          "name": "stderr"
        },
        {
          "output_type": "execute_result",
          "data": {
            "text/plain": [
              "0.6562190046933376"
            ]
          },
          "metadata": {
            "tags": []
          },
          "execution_count": 28
        }
      ]
    },
    {
      "cell_type": "markdown",
      "metadata": {
        "id": "Q2Qk4FTqD-gb"
      },
      "source": [
        "- Naïve Bayes"
      ]
    },
    {
      "cell_type": "code",
      "metadata": {
        "colab": {
          "base_uri": "https://localhost:8080/"
        },
        "id": "0hAAKxHfD_tW",
        "outputId": "1a4f4505-6336-4423-ba4e-3a76d4c431aa"
      },
      "source": [
        "na_clf = naive_bayes.GaussianNB()\n",
        "na_clf.fit(X_new,y)\n",
        "predictions_na = na_clf.predict(X_new)\n",
        "metrics.accuracy_score(y, predictions_na)"
      ],
      "execution_count": null,
      "outputs": [
        {
          "output_type": "execute_result",
          "data": {
            "text/plain": [
              "0.5154939846882974"
            ]
          },
          "metadata": {
            "tags": []
          },
          "execution_count": 29
        }
      ]
    },
    {
      "cell_type": "code",
      "metadata": {
        "colab": {
          "base_uri": "https://localhost:8080/"
        },
        "id": "0Cr7wzyPkHZK",
        "outputId": "93e650b7-cee7-4db6-9b0d-e2920f7b168e"
      },
      "source": [
        "scores_nai = cross_val_score(na_clf.fit(X_new,y), X_new, y, cv= 5)\n",
        "scores_nai.mean()"
      ],
      "execution_count": null,
      "outputs": [
        {
          "output_type": "execute_result",
          "data": {
            "text/plain": [
              "0.49724183319372983"
            ]
          },
          "metadata": {
            "tags": []
          },
          "execution_count": 30
        }
      ]
    },
    {
      "cell_type": "markdown",
      "metadata": {
        "id": "2-ircY-uEzs0"
      },
      "source": [
        "Handling features with a mix of numeric and non-numeric values\n",
        "- Earlier in the previous components (component two), these features which contained a mix of numeric and non-numeric values (SUPP and SP) were temporary handled by replacing the non-numeric values with a specific numeric value for visualization of distribution. The features which contains this mix are (P8_BANDING, OVERALL_DESTPER, NOT_SUSTAINEDPER,UNKNOWNPER, OVERALL_DESTPER_DIS,\tNOT_SUSTAINEDPER_DIS, UNKNOWNPER_DIS)\n",
        "> A method for making these features usable by the classifiers is if these non-numeric values are replaced with numeric values. These non-numeric values SUPP and SP are used to represent suppressed data and small percentage less than 0.5 respectively. Since the required value are supposed to range from 0 to 1 and considering the initial condition for using these representations in the first place, taking the average value which is 0.5 to replace these values is the method to go with."
      ]
    },
    {
      "cell_type": "code",
      "metadata": {
        "colab": {
          "base_uri": "https://localhost:8080/",
          "height": 309
        },
        "id": "NjbAp2b2RW8i",
        "outputId": "bae43f71-a835-474d-f9f7-1ae3ef3315c0"
      },
      "source": [
        "final_df = ref_df.replace(['SUPP', 'SP'],[0.5,0.5])\n",
        "final_df.head()"
      ],
      "execution_count": null,
      "outputs": [
        {
          "output_type": "execute_result",
          "data": {
            "text/html": [
              "<div>\n",
              "<style scoped>\n",
              "    .dataframe tbody tr th:only-of-type {\n",
              "        vertical-align: middle;\n",
              "    }\n",
              "\n",
              "    .dataframe tbody tr th {\n",
              "        vertical-align: top;\n",
              "    }\n",
              "\n",
              "    .dataframe thead th {\n",
              "        text-align: right;\n",
              "    }\n",
              "</style>\n",
              "<table border=\"1\" class=\"dataframe\">\n",
              "  <thead>\n",
              "    <tr style=\"text-align: right;\">\n",
              "      <th></th>\n",
              "      <th>URN</th>\n",
              "      <th>LA</th>\n",
              "      <th>GENDER</th>\n",
              "      <th>RELCHAR</th>\n",
              "      <th>PNORG</th>\n",
              "      <th>PNORB</th>\n",
              "      <th>PSENELSE</th>\n",
              "      <th>PSENELK</th>\n",
              "      <th>PNUMEAL</th>\n",
              "      <th>PNUMENGFL</th>\n",
              "      <th>PNUMUNCFL</th>\n",
              "      <th>PNUMFSMEVER</th>\n",
              "      <th>PNUMFSM</th>\n",
              "      <th>PERCTOT</th>\n",
              "      <th>PPERSABS10</th>\n",
              "      <th>TPUP</th>\n",
              "      <th>P8PUP</th>\n",
              "      <th>ATT8SCR</th>\n",
              "      <th>P8MEA</th>\n",
              "      <th>P8CILOW</th>\n",
              "      <th>P8CIUPP</th>\n",
              "      <th>EBACCAPS</th>\n",
              "      <th>PTL2BASICS_94</th>\n",
              "      <th>PTL2BASICS_95</th>\n",
              "      <th>PTEBACC_E_PTQ_EE</th>\n",
              "      <th>PTEBACC_94</th>\n",
              "      <th>PTEBACC_95</th>\n",
              "      <th>PT5EM_94</th>\n",
              "      <th>P8_BANDING</th>\n",
              "      <th>OVERALL_DESTPER</th>\n",
              "      <th>NOT_SUSTAINEDPER</th>\n",
              "      <th>UNKNOWNPER</th>\n",
              "      <th>OVERALL_DESTPER_DIS</th>\n",
              "      <th>NOT_SUSTAINEDPER_DIS</th>\n",
              "      <th>UNKNOWNPER_DIS</th>\n",
              "      <th>Rating</th>\n",
              "      <th>Rating_Val</th>\n",
              "      <th>en_GENDER</th>\n",
              "      <th>en_RELCHAR</th>\n",
              "    </tr>\n",
              "  </thead>\n",
              "  <tbody>\n",
              "    <tr>\n",
              "      <th>0</th>\n",
              "      <td>100049</td>\n",
              "      <td>202</td>\n",
              "      <td>Mixed</td>\n",
              "      <td>non religious</td>\n",
              "      <td>41.4</td>\n",
              "      <td>58.6</td>\n",
              "      <td>3.2</td>\n",
              "      <td>11.8</td>\n",
              "      <td>73.1</td>\n",
              "      <td>26.8</td>\n",
              "      <td>0.1</td>\n",
              "      <td>64.5</td>\n",
              "      <td>41.2</td>\n",
              "      <td>6.9</td>\n",
              "      <td>18.8</td>\n",
              "      <td>199</td>\n",
              "      <td>178</td>\n",
              "      <td>42.4</td>\n",
              "      <td>-0.09</td>\n",
              "      <td>-0.28</td>\n",
              "      <td>0.09</td>\n",
              "      <td>3.72</td>\n",
              "      <td>0.588</td>\n",
              "      <td>0.432</td>\n",
              "      <td>0.241</td>\n",
              "      <td>0.191</td>\n",
              "      <td>0.141</td>\n",
              "      <td>0.533</td>\n",
              "      <td>3.0</td>\n",
              "      <td>0.90</td>\n",
              "      <td>0.09</td>\n",
              "      <td>0.01</td>\n",
              "      <td>0.89</td>\n",
              "      <td>0.11</td>\n",
              "      <td>0.01</td>\n",
              "      <td>Good</td>\n",
              "      <td>1</td>\n",
              "      <td>2</td>\n",
              "      <td>0</td>\n",
              "    </tr>\n",
              "    <tr>\n",
              "      <th>1</th>\n",
              "      <td>100050</td>\n",
              "      <td>202</td>\n",
              "      <td>Girls</td>\n",
              "      <td>non religious</td>\n",
              "      <td>96.0</td>\n",
              "      <td>4.0</td>\n",
              "      <td>1.3</td>\n",
              "      <td>10.2</td>\n",
              "      <td>38.1</td>\n",
              "      <td>60.9</td>\n",
              "      <td>0.9</td>\n",
              "      <td>49.6</td>\n",
              "      <td>26.9</td>\n",
              "      <td>5.3</td>\n",
              "      <td>12.5</td>\n",
              "      <td>175</td>\n",
              "      <td>164</td>\n",
              "      <td>58.6</td>\n",
              "      <td>0.77</td>\n",
              "      <td>0.58</td>\n",
              "      <td>0.97</td>\n",
              "      <td>5.33</td>\n",
              "      <td>0.760</td>\n",
              "      <td>0.577</td>\n",
              "      <td>0.577</td>\n",
              "      <td>0.417</td>\n",
              "      <td>0.326</td>\n",
              "      <td>0.749</td>\n",
              "      <td>1.0</td>\n",
              "      <td>0.94</td>\n",
              "      <td>0.04</td>\n",
              "      <td>0.02</td>\n",
              "      <td>0.95</td>\n",
              "      <td>0.04</td>\n",
              "      <td>0.01</td>\n",
              "      <td>Good</td>\n",
              "      <td>1</td>\n",
              "      <td>1</td>\n",
              "      <td>0</td>\n",
              "    </tr>\n",
              "    <tr>\n",
              "      <th>2</th>\n",
              "      <td>100051</td>\n",
              "      <td>202</td>\n",
              "      <td>Mixed</td>\n",
              "      <td>non religious</td>\n",
              "      <td>45.0</td>\n",
              "      <td>55.0</td>\n",
              "      <td>3.6</td>\n",
              "      <td>11.1</td>\n",
              "      <td>82.6</td>\n",
              "      <td>17.4</td>\n",
              "      <td>0.0</td>\n",
              "      <td>69.0</td>\n",
              "      <td>43.0</td>\n",
              "      <td>6.7</td>\n",
              "      <td>19.2</td>\n",
              "      <td>154</td>\n",
              "      <td>139</td>\n",
              "      <td>42.1</td>\n",
              "      <td>-0.18</td>\n",
              "      <td>-0.40</td>\n",
              "      <td>0.03</td>\n",
              "      <td>3.77</td>\n",
              "      <td>0.591</td>\n",
              "      <td>0.403</td>\n",
              "      <td>0.604</td>\n",
              "      <td>0.201</td>\n",
              "      <td>0.071</td>\n",
              "      <td>0.526</td>\n",
              "      <td>3.0</td>\n",
              "      <td>0.86</td>\n",
              "      <td>0.08</td>\n",
              "      <td>0.05</td>\n",
              "      <td>0.85</td>\n",
              "      <td>0.09</td>\n",
              "      <td>0.06</td>\n",
              "      <td>Good</td>\n",
              "      <td>1</td>\n",
              "      <td>2</td>\n",
              "      <td>0</td>\n",
              "    </tr>\n",
              "    <tr>\n",
              "      <th>3</th>\n",
              "      <td>100052</td>\n",
              "      <td>202</td>\n",
              "      <td>Mixed</td>\n",
              "      <td>non religious</td>\n",
              "      <td>47.5</td>\n",
              "      <td>52.5</td>\n",
              "      <td>2.4</td>\n",
              "      <td>6.9</td>\n",
              "      <td>55.8</td>\n",
              "      <td>44.2</td>\n",
              "      <td>0.0</td>\n",
              "      <td>54.2</td>\n",
              "      <td>22.8</td>\n",
              "      <td>5.4</td>\n",
              "      <td>14.0</td>\n",
              "      <td>200</td>\n",
              "      <td>188</td>\n",
              "      <td>44.6</td>\n",
              "      <td>-0.06</td>\n",
              "      <td>-0.24</td>\n",
              "      <td>0.13</td>\n",
              "      <td>4.08</td>\n",
              "      <td>0.630</td>\n",
              "      <td>0.315</td>\n",
              "      <td>0.585</td>\n",
              "      <td>0.240</td>\n",
              "      <td>0.120</td>\n",
              "      <td>0.570</td>\n",
              "      <td>3.0</td>\n",
              "      <td>0.91</td>\n",
              "      <td>0.08</td>\n",
              "      <td>0.01</td>\n",
              "      <td>0.87</td>\n",
              "      <td>0.13</td>\n",
              "      <td>0.00</td>\n",
              "      <td>Good</td>\n",
              "      <td>1</td>\n",
              "      <td>2</td>\n",
              "      <td>0</td>\n",
              "    </tr>\n",
              "    <tr>\n",
              "      <th>4</th>\n",
              "      <td>100053</td>\n",
              "      <td>202</td>\n",
              "      <td>Mixed</td>\n",
              "      <td>non religious</td>\n",
              "      <td>33.7</td>\n",
              "      <td>66.3</td>\n",
              "      <td>6.2</td>\n",
              "      <td>13.4</td>\n",
              "      <td>28.2</td>\n",
              "      <td>70.3</td>\n",
              "      <td>1.5</td>\n",
              "      <td>47.1</td>\n",
              "      <td>26.2</td>\n",
              "      <td>6.3</td>\n",
              "      <td>18.5</td>\n",
              "      <td>136</td>\n",
              "      <td>128</td>\n",
              "      <td>47.2</td>\n",
              "      <td>-0.08</td>\n",
              "      <td>-0.30</td>\n",
              "      <td>0.14</td>\n",
              "      <td>4.29</td>\n",
              "      <td>0.662</td>\n",
              "      <td>0.471</td>\n",
              "      <td>0.515</td>\n",
              "      <td>0.368</td>\n",
              "      <td>0.265</td>\n",
              "      <td>0.625</td>\n",
              "      <td>3.0</td>\n",
              "      <td>0.95</td>\n",
              "      <td>0.04</td>\n",
              "      <td>0.01</td>\n",
              "      <td>0.90</td>\n",
              "      <td>0.07</td>\n",
              "      <td>0.03</td>\n",
              "      <td>Good</td>\n",
              "      <td>1</td>\n",
              "      <td>2</td>\n",
              "      <td>0</td>\n",
              "    </tr>\n",
              "  </tbody>\n",
              "</table>\n",
              "</div>"
            ],
            "text/plain": [
              "      URN   LA GENDER        RELCHAR  ...  Rating  Rating_Val  en_GENDER  en_RELCHAR\n",
              "0  100049  202  Mixed  non religious  ...    Good           1          2           0\n",
              "1  100050  202  Girls  non religious  ...    Good           1          1           0\n",
              "2  100051  202  Mixed  non religious  ...    Good           1          2           0\n",
              "3  100052  202  Mixed  non religious  ...    Good           1          2           0\n",
              "4  100053  202  Mixed  non religious  ...    Good           1          2           0\n",
              "\n",
              "[5 rows x 39 columns]"
            ]
          },
          "metadata": {
            "tags": []
          },
          "execution_count": 31
        }
      ]
    },
    {
      "cell_type": "markdown",
      "metadata": {
        "id": "sX1tRJY0tKrU"
      },
      "source": [
        "- classifier accuracy with these features"
      ]
    },
    {
      "cell_type": "markdown",
      "metadata": {
        "id": "4bDPzMAatfL1"
      },
      "source": [
        "- K-NN"
      ]
    },
    {
      "cell_type": "code",
      "metadata": {
        "colab": {
          "base_uri": "https://localhost:8080/"
        },
        "id": "tR-ElC_AtOrN",
        "outputId": "f831afd9-386f-4ee2-8588-27ffcb5a3c41"
      },
      "source": [
        "X_n = final_df[['en_GENDER','en_RELCHAR','PNORG','PNORB','PSENELSE','PSENELK','PNUMEAL','PNUMENGFL','PNUMUNCFL','PNUMFSM','P8PUP','ATT8SCR','P8MEA','P8_BANDING', 'OVERALL_DESTPER', 'NOT_SUSTAINEDPER','UNKNOWNPER']].values\n",
        "y = final_df['Rating_Val'].values\n",
        "kn_clf = neighbors.KNeighborsClassifier()\n",
        "kn_clf.fit(X_n,y)\n",
        "predictions_kn = kn_clf.predict(X_n)\n",
        "metrics.accuracy_score(y, predictions_kn)"
      ],
      "execution_count": null,
      "outputs": [
        {
          "output_type": "execute_result",
          "data": {
            "text/plain": [
              "0.7298578199052133"
            ]
          },
          "metadata": {
            "tags": []
          },
          "execution_count": 32
        }
      ]
    },
    {
      "cell_type": "code",
      "metadata": {
        "colab": {
          "base_uri": "https://localhost:8080/"
        },
        "id": "13vqyKe_kWiV",
        "outputId": "53e4d119-f28a-4a00-8c7f-201e8817055a"
      },
      "source": [
        "scores_kN = cross_val_score(kn_clf.fit(X_n,y), X_n, y, cv= 5)\n",
        "scores_kN.mean()"
      ],
      "execution_count": null,
      "outputs": [
        {
          "output_type": "execute_result",
          "data": {
            "text/plain": [
              "0.5979046175528167"
            ]
          },
          "metadata": {
            "tags": []
          },
          "execution_count": 33
        }
      ]
    },
    {
      "cell_type": "markdown",
      "metadata": {
        "id": "M_yt40vluMir"
      },
      "source": [
        "- Logistic Regression"
      ]
    },
    {
      "cell_type": "code",
      "metadata": {
        "colab": {
          "base_uri": "https://localhost:8080/"
        },
        "id": "d8aCGhEfvS6v",
        "outputId": "faa83713-bc04-4089-9b07-c275b3a02645"
      },
      "source": [
        "log_clf = linear_model.LogisticRegression()\n",
        "log_clf.fit(X_n,y)\n",
        "predictions_lg = log_clf.predict(X_n)\n",
        "metrics.accuracy_score(y, predictions_lg)"
      ],
      "execution_count": null,
      "outputs": [
        {
          "output_type": "stream",
          "text": [
            "/usr/local/lib/python3.6/dist-packages/sklearn/linear_model/_logistic.py:940: ConvergenceWarning: lbfgs failed to converge (status=1):\n",
            "STOP: TOTAL NO. of ITERATIONS REACHED LIMIT.\n",
            "\n",
            "Increase the number of iterations (max_iter) or scale the data as shown in:\n",
            "    https://scikit-learn.org/stable/modules/preprocessing.html\n",
            "Please also refer to the documentation for alternative solver options:\n",
            "    https://scikit-learn.org/stable/modules/linear_model.html#logistic-regression\n",
            "  extra_warning_msg=_LOGISTIC_SOLVER_CONVERGENCE_MSG)\n"
          ],
          "name": "stderr"
        },
        {
          "output_type": "execute_result",
          "data": {
            "text/plain": [
              "0.6678818811520233"
            ]
          },
          "metadata": {
            "tags": []
          },
          "execution_count": 34
        }
      ]
    },
    {
      "cell_type": "code",
      "metadata": {
        "colab": {
          "base_uri": "https://localhost:8080/"
        },
        "id": "RZqmoyikkmxc",
        "outputId": "10bf033d-9b78-49bd-8141-45bd0356c688"
      },
      "source": [
        "scores_log = cross_val_score(log_clf.fit(X_n,y), X_n, y, cv= 5)\n",
        "scores_log.mean()"
      ],
      "execution_count": null,
      "outputs": [
        {
          "output_type": "stream",
          "text": [
            "/usr/local/lib/python3.6/dist-packages/sklearn/linear_model/_logistic.py:940: ConvergenceWarning: lbfgs failed to converge (status=1):\n",
            "STOP: TOTAL NO. of ITERATIONS REACHED LIMIT.\n",
            "\n",
            "Increase the number of iterations (max_iter) or scale the data as shown in:\n",
            "    https://scikit-learn.org/stable/modules/preprocessing.html\n",
            "Please also refer to the documentation for alternative solver options:\n",
            "    https://scikit-learn.org/stable/modules/linear_model.html#logistic-regression\n",
            "  extra_warning_msg=_LOGISTIC_SOLVER_CONVERGENCE_MSG)\n",
            "/usr/local/lib/python3.6/dist-packages/sklearn/linear_model/_logistic.py:940: ConvergenceWarning: lbfgs failed to converge (status=1):\n",
            "STOP: TOTAL NO. of ITERATIONS REACHED LIMIT.\n",
            "\n",
            "Increase the number of iterations (max_iter) or scale the data as shown in:\n",
            "    https://scikit-learn.org/stable/modules/preprocessing.html\n",
            "Please also refer to the documentation for alternative solver options:\n",
            "    https://scikit-learn.org/stable/modules/linear_model.html#logistic-regression\n",
            "  extra_warning_msg=_LOGISTIC_SOLVER_CONVERGENCE_MSG)\n",
            "/usr/local/lib/python3.6/dist-packages/sklearn/linear_model/_logistic.py:940: ConvergenceWarning: lbfgs failed to converge (status=1):\n",
            "STOP: TOTAL NO. of ITERATIONS REACHED LIMIT.\n",
            "\n",
            "Increase the number of iterations (max_iter) or scale the data as shown in:\n",
            "    https://scikit-learn.org/stable/modules/preprocessing.html\n",
            "Please also refer to the documentation for alternative solver options:\n",
            "    https://scikit-learn.org/stable/modules/linear_model.html#logistic-regression\n",
            "  extra_warning_msg=_LOGISTIC_SOLVER_CONVERGENCE_MSG)\n",
            "/usr/local/lib/python3.6/dist-packages/sklearn/linear_model/_logistic.py:940: ConvergenceWarning: lbfgs failed to converge (status=1):\n",
            "STOP: TOTAL NO. of ITERATIONS REACHED LIMIT.\n",
            "\n",
            "Increase the number of iterations (max_iter) or scale the data as shown in:\n",
            "    https://scikit-learn.org/stable/modules/preprocessing.html\n",
            "Please also refer to the documentation for alternative solver options:\n",
            "    https://scikit-learn.org/stable/modules/linear_model.html#logistic-regression\n",
            "  extra_warning_msg=_LOGISTIC_SOLVER_CONVERGENCE_MSG)\n",
            "/usr/local/lib/python3.6/dist-packages/sklearn/linear_model/_logistic.py:940: ConvergenceWarning: lbfgs failed to converge (status=1):\n",
            "STOP: TOTAL NO. of ITERATIONS REACHED LIMIT.\n",
            "\n",
            "Increase the number of iterations (max_iter) or scale the data as shown in:\n",
            "    https://scikit-learn.org/stable/modules/preprocessing.html\n",
            "Please also refer to the documentation for alternative solver options:\n",
            "    https://scikit-learn.org/stable/modules/linear_model.html#logistic-regression\n",
            "  extra_warning_msg=_LOGISTIC_SOLVER_CONVERGENCE_MSG)\n",
            "/usr/local/lib/python3.6/dist-packages/sklearn/linear_model/_logistic.py:940: ConvergenceWarning: lbfgs failed to converge (status=1):\n",
            "STOP: TOTAL NO. of ITERATIONS REACHED LIMIT.\n",
            "\n",
            "Increase the number of iterations (max_iter) or scale the data as shown in:\n",
            "    https://scikit-learn.org/stable/modules/preprocessing.html\n",
            "Please also refer to the documentation for alternative solver options:\n",
            "    https://scikit-learn.org/stable/modules/linear_model.html#logistic-regression\n",
            "  extra_warning_msg=_LOGISTIC_SOLVER_CONVERGENCE_MSG)\n"
          ],
          "name": "stderr"
        },
        {
          "output_type": "execute_result",
          "data": {
            "text/plain": [
              "0.6605925837288767"
            ]
          },
          "metadata": {
            "tags": []
          },
          "execution_count": 35
        }
      ]
    },
    {
      "cell_type": "markdown",
      "metadata": {
        "id": "h6EdCzCAvirV"
      },
      "source": [
        "- Naïve Bayes"
      ]
    },
    {
      "cell_type": "code",
      "metadata": {
        "colab": {
          "base_uri": "https://localhost:8080/"
        },
        "id": "7p5xkublvmWj",
        "outputId": "514cf467-d734-4ba6-e513-645ee21fd986"
      },
      "source": [
        "na_clf = naive_bayes.GaussianNB()\n",
        "na_clf.fit(X_n,y)\n",
        "predictions_na = na_clf.predict(X_n)\n",
        "metrics.accuracy_score(y, predictions_na)"
      ],
      "execution_count": null,
      "outputs": [
        {
          "output_type": "execute_result",
          "data": {
            "text/plain": [
              "0.5446591323368575"
            ]
          },
          "metadata": {
            "tags": []
          },
          "execution_count": 36
        }
      ]
    },
    {
      "cell_type": "code",
      "metadata": {
        "colab": {
          "base_uri": "https://localhost:8080/"
        },
        "id": "6vF8QWnwk1Dx",
        "outputId": "465fc979-bd65-4016-ad7e-f240361e05e3"
      },
      "source": [
        "scores_nai = cross_val_score(na_clf.fit(X_n,y), X_n, y, cv= 5)\n",
        "scores_nai.mean()"
      ],
      "execution_count": null,
      "outputs": [
        {
          "output_type": "execute_result",
          "data": {
            "text/plain": [
              "0.5260466940555488"
            ]
          },
          "metadata": {
            "tags": []
          },
          "execution_count": 37
        }
      ]
    },
    {
      "cell_type": "markdown",
      "metadata": {
        "id": "fMdtFa1nEBrW"
      },
      "source": [
        "Applying Standardisation and Normalization"
      ]
    },
    {
      "cell_type": "markdown",
      "metadata": {
        "id": "hgMg_FHAEKOc"
      },
      "source": [
        "- Standardisation"
      ]
    },
    {
      "cell_type": "code",
      "metadata": {
        "colab": {
          "base_uri": "https://localhost:8080/"
        },
        "id": "CXVVRuHNEN9z",
        "outputId": "4e3e39d9-a4fa-40df-910e-1c061cf08f0b"
      },
      "source": [
        "# K-NN\n",
        "scaler = preprocessing.StandardScaler()\n",
        "X_sc = scaler.fit_transform(X_n)\n",
        "y = final_df['Rating_Val'].values\n",
        "kn_clf = neighbors.KNeighborsClassifier()\n",
        "kn_clf.fit(X_sc,y)\n",
        "predictions_kn = kn_clf.predict(X_sc)\n",
        "metrics.accuracy_score(y, predictions_kn)"
      ],
      "execution_count": null,
      "outputs": [
        {
          "output_type": "execute_result",
          "data": {
            "text/plain": [
              "0.7513671162960263"
            ]
          },
          "metadata": {
            "tags": []
          },
          "execution_count": 38
        }
      ]
    },
    {
      "cell_type": "code",
      "metadata": {
        "colab": {
          "base_uri": "https://localhost:8080/"
        },
        "id": "VeF3bOfslDI2",
        "outputId": "bb410b98-d1e7-4102-db39-3f637dc07673"
      },
      "source": [
        "scores_kN = cross_val_score(kn_clf.fit(X_sc,y), X_sc, y, cv= 5)\n",
        "scores_kN.mean()"
      ],
      "execution_count": null,
      "outputs": [
        {
          "output_type": "execute_result",
          "data": {
            "text/plain": [
              "0.6146537167776847"
            ]
          },
          "metadata": {
            "tags": []
          },
          "execution_count": 39
        }
      ]
    },
    {
      "cell_type": "code",
      "metadata": {
        "colab": {
          "base_uri": "https://localhost:8080/"
        },
        "id": "i3r0DdFJH0Lf",
        "outputId": "54c26bd1-1b55-448c-d637-57c348e7cfce"
      },
      "source": [
        "# Logistic Regression\n",
        "log_clf = linear_model.LogisticRegression()\n",
        "log_clf.fit(X_sc,y)\n",
        "predictions_lg = log_clf.predict(X_sc)\n",
        "metrics.accuracy_score(y, predictions_lg)"
      ],
      "execution_count": null,
      "outputs": [
        {
          "output_type": "execute_result",
          "data": {
            "text/plain": [
              "0.6766314254465913"
            ]
          },
          "metadata": {
            "tags": []
          },
          "execution_count": 40
        }
      ]
    },
    {
      "cell_type": "code",
      "metadata": {
        "colab": {
          "base_uri": "https://localhost:8080/"
        },
        "id": "7c0sb9UdlUfk",
        "outputId": "1715011e-2edb-4e5c-a9ec-227f6dd15e18"
      },
      "source": [
        "scores_log = cross_val_score(log_clf.fit(X_sc,y), X_sc, y, cv= 5)\n",
        "scores_log.mean()"
      ],
      "execution_count": null,
      "outputs": [
        {
          "output_type": "execute_result",
          "data": {
            "text/plain": [
              "0.6649781287809289"
            ]
          },
          "metadata": {
            "tags": []
          },
          "execution_count": 41
        }
      ]
    },
    {
      "cell_type": "code",
      "metadata": {
        "colab": {
          "base_uri": "https://localhost:8080/"
        },
        "id": "BWC9hvhKIGqd",
        "outputId": "f390b3d9-fb3c-416a-c76d-d6f376dcc763"
      },
      "source": [
        "# Naive Bayes\n",
        "na_clf = naive_bayes.GaussianNB()\n",
        "na_clf.fit(X_sc,y)\n",
        "predictions_na = na_clf.predict(X_sc)\n",
        "metrics.accuracy_score(y, predictions_na)"
      ],
      "execution_count": null,
      "outputs": [
        {
          "output_type": "execute_result",
          "data": {
            "text/plain": [
              "0.5446591323368575"
            ]
          },
          "metadata": {
            "tags": []
          },
          "execution_count": 42
        }
      ]
    },
    {
      "cell_type": "code",
      "metadata": {
        "colab": {
          "base_uri": "https://localhost:8080/"
        },
        "id": "qEYoOb2zljct",
        "outputId": "ab220f89-a4b3-402e-ad94-e75150ee3a6c"
      },
      "source": [
        "scores_nai = cross_val_score(na_clf.fit(X_sc,y), X_sc, y, cv= 5)\n",
        "scores_nai.mean()"
      ],
      "execution_count": null,
      "outputs": [
        {
          "output_type": "execute_result",
          "data": {
            "text/plain": [
              "0.5260466940555488"
            ]
          },
          "metadata": {
            "tags": []
          },
          "execution_count": 43
        }
      ]
    },
    {
      "cell_type": "markdown",
      "metadata": {
        "id": "9BuSr7rnIcMx"
      },
      "source": [
        "- Normalisation"
      ]
    },
    {
      "cell_type": "code",
      "metadata": {
        "colab": {
          "base_uri": "https://localhost:8080/"
        },
        "id": "eWNupzQpIfMb",
        "outputId": "4b98e87c-54af-432d-8ac8-450bf98763fd"
      },
      "source": [
        "# K-NN\n",
        "norm = preprocessing.MinMaxScaler()\n",
        "X_nm = norm.fit_transform(X_n)\n",
        "y = final_df['Rating_Val'].values\n",
        "kn_clf = neighbors.KNeighborsClassifier()\n",
        "kn_clf.fit(X_nm,y)\n",
        "predictions_kn = kn_clf.predict(X_nm)\n",
        "metrics.accuracy_score(y, predictions_kn)"
      ],
      "execution_count": null,
      "outputs": [
        {
          "output_type": "execute_result",
          "data": {
            "text/plain": [
              "0.7448049580751003"
            ]
          },
          "metadata": {
            "tags": []
          },
          "execution_count": 44
        }
      ]
    },
    {
      "cell_type": "code",
      "metadata": {
        "colab": {
          "base_uri": "https://localhost:8080/"
        },
        "id": "HIF9_yQAl4hS",
        "outputId": "37a57eac-b351-40aa-9a67-d6920e124a35"
      },
      "source": [
        "scores_kN = cross_val_score(kn_clf.fit(X_nm,y), X_nm, y, cv= 5)\n",
        "scores_kN.mean()"
      ],
      "execution_count": null,
      "outputs": [
        {
          "output_type": "execute_result",
          "data": {
            "text/plain": [
              "0.6204851554917369"
            ]
          },
          "metadata": {
            "tags": []
          },
          "execution_count": 45
        }
      ]
    },
    {
      "cell_type": "code",
      "metadata": {
        "colab": {
          "base_uri": "https://localhost:8080/"
        },
        "id": "Vec5Q3IGJOkD",
        "outputId": "96e63560-3158-458c-cdb5-8487bbfb4b74"
      },
      "source": [
        "# Logistic Regression\n",
        "log_clf = linear_model.LogisticRegression()\n",
        "log_clf.fit(X_nm,y)\n",
        "predictions_lg = log_clf.predict(X_nm)\n",
        "metrics.accuracy_score(y, predictions_lg)"
      ],
      "execution_count": null,
      "outputs": [
        {
          "output_type": "stream",
          "text": [
            "/usr/local/lib/python3.6/dist-packages/sklearn/linear_model/_logistic.py:940: ConvergenceWarning: lbfgs failed to converge (status=1):\n",
            "STOP: TOTAL NO. of ITERATIONS REACHED LIMIT.\n",
            "\n",
            "Increase the number of iterations (max_iter) or scale the data as shown in:\n",
            "    https://scikit-learn.org/stable/modules/preprocessing.html\n",
            "Please also refer to the documentation for alternative solver options:\n",
            "    https://scikit-learn.org/stable/modules/linear_model.html#logistic-regression\n",
            "  extra_warning_msg=_LOGISTIC_SOLVER_CONVERGENCE_MSG)\n"
          ],
          "name": "stderr"
        },
        {
          "output_type": "execute_result",
          "data": {
            "text/plain": [
              "0.6784542471746263"
            ]
          },
          "metadata": {
            "tags": []
          },
          "execution_count": 46
        }
      ]
    },
    {
      "cell_type": "code",
      "metadata": {
        "colab": {
          "base_uri": "https://localhost:8080/"
        },
        "id": "X72TrUksmUa4",
        "outputId": "59c16ae5-2d9f-42f2-fb69-80321f6275e1"
      },
      "source": [
        "scores_log = cross_val_score(log_clf.fit(X_nm,y), X_nm, y, cv= 5)\n",
        "scores_log.mean()"
      ],
      "execution_count": null,
      "outputs": [
        {
          "output_type": "stream",
          "text": [
            "/usr/local/lib/python3.6/dist-packages/sklearn/linear_model/_logistic.py:940: ConvergenceWarning: lbfgs failed to converge (status=1):\n",
            "STOP: TOTAL NO. of ITERATIONS REACHED LIMIT.\n",
            "\n",
            "Increase the number of iterations (max_iter) or scale the data as shown in:\n",
            "    https://scikit-learn.org/stable/modules/preprocessing.html\n",
            "Please also refer to the documentation for alternative solver options:\n",
            "    https://scikit-learn.org/stable/modules/linear_model.html#logistic-regression\n",
            "  extra_warning_msg=_LOGISTIC_SOLVER_CONVERGENCE_MSG)\n",
            "/usr/local/lib/python3.6/dist-packages/sklearn/linear_model/_logistic.py:940: ConvergenceWarning: lbfgs failed to converge (status=1):\n",
            "STOP: TOTAL NO. of ITERATIONS REACHED LIMIT.\n",
            "\n",
            "Increase the number of iterations (max_iter) or scale the data as shown in:\n",
            "    https://scikit-learn.org/stable/modules/preprocessing.html\n",
            "Please also refer to the documentation for alternative solver options:\n",
            "    https://scikit-learn.org/stable/modules/linear_model.html#logistic-regression\n",
            "  extra_warning_msg=_LOGISTIC_SOLVER_CONVERGENCE_MSG)\n",
            "/usr/local/lib/python3.6/dist-packages/sklearn/linear_model/_logistic.py:940: ConvergenceWarning: lbfgs failed to converge (status=1):\n",
            "STOP: TOTAL NO. of ITERATIONS REACHED LIMIT.\n",
            "\n",
            "Increase the number of iterations (max_iter) or scale the data as shown in:\n",
            "    https://scikit-learn.org/stable/modules/preprocessing.html\n",
            "Please also refer to the documentation for alternative solver options:\n",
            "    https://scikit-learn.org/stable/modules/linear_model.html#logistic-regression\n",
            "  extra_warning_msg=_LOGISTIC_SOLVER_CONVERGENCE_MSG)\n",
            "/usr/local/lib/python3.6/dist-packages/sklearn/linear_model/_logistic.py:940: ConvergenceWarning: lbfgs failed to converge (status=1):\n",
            "STOP: TOTAL NO. of ITERATIONS REACHED LIMIT.\n",
            "\n",
            "Increase the number of iterations (max_iter) or scale the data as shown in:\n",
            "    https://scikit-learn.org/stable/modules/preprocessing.html\n",
            "Please also refer to the documentation for alternative solver options:\n",
            "    https://scikit-learn.org/stable/modules/linear_model.html#logistic-regression\n",
            "  extra_warning_msg=_LOGISTIC_SOLVER_CONVERGENCE_MSG)\n",
            "/usr/local/lib/python3.6/dist-packages/sklearn/linear_model/_logistic.py:940: ConvergenceWarning: lbfgs failed to converge (status=1):\n",
            "STOP: TOTAL NO. of ITERATIONS REACHED LIMIT.\n",
            "\n",
            "Increase the number of iterations (max_iter) or scale the data as shown in:\n",
            "    https://scikit-learn.org/stable/modules/preprocessing.html\n",
            "Please also refer to the documentation for alternative solver options:\n",
            "    https://scikit-learn.org/stable/modules/linear_model.html#logistic-regression\n",
            "  extra_warning_msg=_LOGISTIC_SOLVER_CONVERGENCE_MSG)\n",
            "/usr/local/lib/python3.6/dist-packages/sklearn/linear_model/_logistic.py:940: ConvergenceWarning: lbfgs failed to converge (status=1):\n",
            "STOP: TOTAL NO. of ITERATIONS REACHED LIMIT.\n",
            "\n",
            "Increase the number of iterations (max_iter) or scale the data as shown in:\n",
            "    https://scikit-learn.org/stable/modules/preprocessing.html\n",
            "Please also refer to the documentation for alternative solver options:\n",
            "    https://scikit-learn.org/stable/modules/linear_model.html#logistic-regression\n",
            "  extra_warning_msg=_LOGISTIC_SOLVER_CONVERGENCE_MSG)\n"
          ],
          "name": "stderr"
        },
        {
          "output_type": "execute_result",
          "data": {
            "text/plain": [
              "0.6715328467153285"
            ]
          },
          "metadata": {
            "tags": []
          },
          "execution_count": 47
        }
      ]
    },
    {
      "cell_type": "code",
      "metadata": {
        "colab": {
          "base_uri": "https://localhost:8080/"
        },
        "id": "_rMRSyjyJdlI",
        "outputId": "fced9241-f445-4d11-dba5-84f18c1f0503"
      },
      "source": [
        "# Naive Bayes\n",
        "na_clf = naive_bayes.GaussianNB()\n",
        "na_clf.fit(X_nm,y)\n",
        "predictions_na = na_clf.predict(X_nm)\n",
        "metrics.accuracy_score(y, predictions_na)"
      ],
      "execution_count": null,
      "outputs": [
        {
          "output_type": "execute_result",
          "data": {
            "text/plain": [
              "0.5446591323368575"
            ]
          },
          "metadata": {
            "tags": []
          },
          "execution_count": 48
        }
      ]
    },
    {
      "cell_type": "code",
      "metadata": {
        "colab": {
          "base_uri": "https://localhost:8080/"
        },
        "id": "5LCRzogbmdGX",
        "outputId": "b2840c5e-d211-43fc-faba-8ae3ca95aba6"
      },
      "source": [
        "scores_nai = cross_val_score(na_clf.fit(X_nm,y), X_nm, y, cv= 5)\n",
        "scores_nai.mean()"
      ],
      "execution_count": null,
      "outputs": [
        {
          "output_type": "execute_result",
          "data": {
            "text/plain": [
              "0.5260466940555488"
            ]
          },
          "metadata": {
            "tags": []
          },
          "execution_count": 49
        }
      ]
    },
    {
      "cell_type": "markdown",
      "metadata": {
        "id": "DpHFwG0vJmd2"
      },
      "source": [
        "Other Feature engineering approach to increase accuracy"
      ]
    },
    {
      "cell_type": "markdown",
      "metadata": {
        "id": "H_PxjSQlJzEF"
      },
      "source": [
        "1. Binarisation\n",
        "  - The PNUMUNCFL feature which records pupils whose first language are unclassified contains lots of zero values which means at this point where zero is recorded every student is classified , therefore Binarisation can be performed on this feature to create a new feature that indicates if the pupils first language are all classified or not (FILCLF)"
      ]
    },
    {
      "cell_type": "code",
      "metadata": {
        "colab": {
          "base_uri": "https://localhost:8080/",
          "height": 309
        },
        "id": "joHxGYI2gqXF",
        "outputId": "2c4d40ce-d6b7-4302-d131-0f72e5ea8142"
      },
      "source": [
        "b = preprocessing.Binarizer(threshold=0)\n",
        "final_df['FILCLF'] =  b.fit_transform(final_df['PNUMUNCFL'].values.reshape(-1,1))\n",
        "final_df.head()"
      ],
      "execution_count": null,
      "outputs": [
        {
          "output_type": "execute_result",
          "data": {
            "text/html": [
              "<div>\n",
              "<style scoped>\n",
              "    .dataframe tbody tr th:only-of-type {\n",
              "        vertical-align: middle;\n",
              "    }\n",
              "\n",
              "    .dataframe tbody tr th {\n",
              "        vertical-align: top;\n",
              "    }\n",
              "\n",
              "    .dataframe thead th {\n",
              "        text-align: right;\n",
              "    }\n",
              "</style>\n",
              "<table border=\"1\" class=\"dataframe\">\n",
              "  <thead>\n",
              "    <tr style=\"text-align: right;\">\n",
              "      <th></th>\n",
              "      <th>URN</th>\n",
              "      <th>LA</th>\n",
              "      <th>GENDER</th>\n",
              "      <th>RELCHAR</th>\n",
              "      <th>PNORG</th>\n",
              "      <th>PNORB</th>\n",
              "      <th>PSENELSE</th>\n",
              "      <th>PSENELK</th>\n",
              "      <th>PNUMEAL</th>\n",
              "      <th>PNUMENGFL</th>\n",
              "      <th>PNUMUNCFL</th>\n",
              "      <th>PNUMFSMEVER</th>\n",
              "      <th>PNUMFSM</th>\n",
              "      <th>PERCTOT</th>\n",
              "      <th>PPERSABS10</th>\n",
              "      <th>TPUP</th>\n",
              "      <th>P8PUP</th>\n",
              "      <th>ATT8SCR</th>\n",
              "      <th>P8MEA</th>\n",
              "      <th>P8CILOW</th>\n",
              "      <th>P8CIUPP</th>\n",
              "      <th>EBACCAPS</th>\n",
              "      <th>PTL2BASICS_94</th>\n",
              "      <th>PTL2BASICS_95</th>\n",
              "      <th>PTEBACC_E_PTQ_EE</th>\n",
              "      <th>PTEBACC_94</th>\n",
              "      <th>PTEBACC_95</th>\n",
              "      <th>PT5EM_94</th>\n",
              "      <th>P8_BANDING</th>\n",
              "      <th>OVERALL_DESTPER</th>\n",
              "      <th>NOT_SUSTAINEDPER</th>\n",
              "      <th>UNKNOWNPER</th>\n",
              "      <th>OVERALL_DESTPER_DIS</th>\n",
              "      <th>NOT_SUSTAINEDPER_DIS</th>\n",
              "      <th>UNKNOWNPER_DIS</th>\n",
              "      <th>Rating</th>\n",
              "      <th>Rating_Val</th>\n",
              "      <th>en_GENDER</th>\n",
              "      <th>en_RELCHAR</th>\n",
              "      <th>FILCLF</th>\n",
              "    </tr>\n",
              "  </thead>\n",
              "  <tbody>\n",
              "    <tr>\n",
              "      <th>0</th>\n",
              "      <td>100049</td>\n",
              "      <td>202</td>\n",
              "      <td>Mixed</td>\n",
              "      <td>non religious</td>\n",
              "      <td>41.4</td>\n",
              "      <td>58.6</td>\n",
              "      <td>3.2</td>\n",
              "      <td>11.8</td>\n",
              "      <td>73.1</td>\n",
              "      <td>26.8</td>\n",
              "      <td>0.1</td>\n",
              "      <td>64.5</td>\n",
              "      <td>41.2</td>\n",
              "      <td>6.9</td>\n",
              "      <td>18.8</td>\n",
              "      <td>199</td>\n",
              "      <td>178</td>\n",
              "      <td>42.4</td>\n",
              "      <td>-0.09</td>\n",
              "      <td>-0.28</td>\n",
              "      <td>0.09</td>\n",
              "      <td>3.72</td>\n",
              "      <td>0.588</td>\n",
              "      <td>0.432</td>\n",
              "      <td>0.241</td>\n",
              "      <td>0.191</td>\n",
              "      <td>0.141</td>\n",
              "      <td>0.533</td>\n",
              "      <td>3.0</td>\n",
              "      <td>0.90</td>\n",
              "      <td>0.09</td>\n",
              "      <td>0.01</td>\n",
              "      <td>0.89</td>\n",
              "      <td>0.11</td>\n",
              "      <td>0.01</td>\n",
              "      <td>Good</td>\n",
              "      <td>1</td>\n",
              "      <td>2</td>\n",
              "      <td>0</td>\n",
              "      <td>1.0</td>\n",
              "    </tr>\n",
              "    <tr>\n",
              "      <th>1</th>\n",
              "      <td>100050</td>\n",
              "      <td>202</td>\n",
              "      <td>Girls</td>\n",
              "      <td>non religious</td>\n",
              "      <td>96.0</td>\n",
              "      <td>4.0</td>\n",
              "      <td>1.3</td>\n",
              "      <td>10.2</td>\n",
              "      <td>38.1</td>\n",
              "      <td>60.9</td>\n",
              "      <td>0.9</td>\n",
              "      <td>49.6</td>\n",
              "      <td>26.9</td>\n",
              "      <td>5.3</td>\n",
              "      <td>12.5</td>\n",
              "      <td>175</td>\n",
              "      <td>164</td>\n",
              "      <td>58.6</td>\n",
              "      <td>0.77</td>\n",
              "      <td>0.58</td>\n",
              "      <td>0.97</td>\n",
              "      <td>5.33</td>\n",
              "      <td>0.760</td>\n",
              "      <td>0.577</td>\n",
              "      <td>0.577</td>\n",
              "      <td>0.417</td>\n",
              "      <td>0.326</td>\n",
              "      <td>0.749</td>\n",
              "      <td>1.0</td>\n",
              "      <td>0.94</td>\n",
              "      <td>0.04</td>\n",
              "      <td>0.02</td>\n",
              "      <td>0.95</td>\n",
              "      <td>0.04</td>\n",
              "      <td>0.01</td>\n",
              "      <td>Good</td>\n",
              "      <td>1</td>\n",
              "      <td>1</td>\n",
              "      <td>0</td>\n",
              "      <td>1.0</td>\n",
              "    </tr>\n",
              "    <tr>\n",
              "      <th>2</th>\n",
              "      <td>100051</td>\n",
              "      <td>202</td>\n",
              "      <td>Mixed</td>\n",
              "      <td>non religious</td>\n",
              "      <td>45.0</td>\n",
              "      <td>55.0</td>\n",
              "      <td>3.6</td>\n",
              "      <td>11.1</td>\n",
              "      <td>82.6</td>\n",
              "      <td>17.4</td>\n",
              "      <td>0.0</td>\n",
              "      <td>69.0</td>\n",
              "      <td>43.0</td>\n",
              "      <td>6.7</td>\n",
              "      <td>19.2</td>\n",
              "      <td>154</td>\n",
              "      <td>139</td>\n",
              "      <td>42.1</td>\n",
              "      <td>-0.18</td>\n",
              "      <td>-0.40</td>\n",
              "      <td>0.03</td>\n",
              "      <td>3.77</td>\n",
              "      <td>0.591</td>\n",
              "      <td>0.403</td>\n",
              "      <td>0.604</td>\n",
              "      <td>0.201</td>\n",
              "      <td>0.071</td>\n",
              "      <td>0.526</td>\n",
              "      <td>3.0</td>\n",
              "      <td>0.86</td>\n",
              "      <td>0.08</td>\n",
              "      <td>0.05</td>\n",
              "      <td>0.85</td>\n",
              "      <td>0.09</td>\n",
              "      <td>0.06</td>\n",
              "      <td>Good</td>\n",
              "      <td>1</td>\n",
              "      <td>2</td>\n",
              "      <td>0</td>\n",
              "      <td>0.0</td>\n",
              "    </tr>\n",
              "    <tr>\n",
              "      <th>3</th>\n",
              "      <td>100052</td>\n",
              "      <td>202</td>\n",
              "      <td>Mixed</td>\n",
              "      <td>non religious</td>\n",
              "      <td>47.5</td>\n",
              "      <td>52.5</td>\n",
              "      <td>2.4</td>\n",
              "      <td>6.9</td>\n",
              "      <td>55.8</td>\n",
              "      <td>44.2</td>\n",
              "      <td>0.0</td>\n",
              "      <td>54.2</td>\n",
              "      <td>22.8</td>\n",
              "      <td>5.4</td>\n",
              "      <td>14.0</td>\n",
              "      <td>200</td>\n",
              "      <td>188</td>\n",
              "      <td>44.6</td>\n",
              "      <td>-0.06</td>\n",
              "      <td>-0.24</td>\n",
              "      <td>0.13</td>\n",
              "      <td>4.08</td>\n",
              "      <td>0.630</td>\n",
              "      <td>0.315</td>\n",
              "      <td>0.585</td>\n",
              "      <td>0.240</td>\n",
              "      <td>0.120</td>\n",
              "      <td>0.570</td>\n",
              "      <td>3.0</td>\n",
              "      <td>0.91</td>\n",
              "      <td>0.08</td>\n",
              "      <td>0.01</td>\n",
              "      <td>0.87</td>\n",
              "      <td>0.13</td>\n",
              "      <td>0.00</td>\n",
              "      <td>Good</td>\n",
              "      <td>1</td>\n",
              "      <td>2</td>\n",
              "      <td>0</td>\n",
              "      <td>0.0</td>\n",
              "    </tr>\n",
              "    <tr>\n",
              "      <th>4</th>\n",
              "      <td>100053</td>\n",
              "      <td>202</td>\n",
              "      <td>Mixed</td>\n",
              "      <td>non religious</td>\n",
              "      <td>33.7</td>\n",
              "      <td>66.3</td>\n",
              "      <td>6.2</td>\n",
              "      <td>13.4</td>\n",
              "      <td>28.2</td>\n",
              "      <td>70.3</td>\n",
              "      <td>1.5</td>\n",
              "      <td>47.1</td>\n",
              "      <td>26.2</td>\n",
              "      <td>6.3</td>\n",
              "      <td>18.5</td>\n",
              "      <td>136</td>\n",
              "      <td>128</td>\n",
              "      <td>47.2</td>\n",
              "      <td>-0.08</td>\n",
              "      <td>-0.30</td>\n",
              "      <td>0.14</td>\n",
              "      <td>4.29</td>\n",
              "      <td>0.662</td>\n",
              "      <td>0.471</td>\n",
              "      <td>0.515</td>\n",
              "      <td>0.368</td>\n",
              "      <td>0.265</td>\n",
              "      <td>0.625</td>\n",
              "      <td>3.0</td>\n",
              "      <td>0.95</td>\n",
              "      <td>0.04</td>\n",
              "      <td>0.01</td>\n",
              "      <td>0.90</td>\n",
              "      <td>0.07</td>\n",
              "      <td>0.03</td>\n",
              "      <td>Good</td>\n",
              "      <td>1</td>\n",
              "      <td>2</td>\n",
              "      <td>0</td>\n",
              "      <td>1.0</td>\n",
              "    </tr>\n",
              "  </tbody>\n",
              "</table>\n",
              "</div>"
            ],
            "text/plain": [
              "      URN   LA GENDER        RELCHAR  ...  Rating_Val  en_GENDER  en_RELCHAR  FILCLF\n",
              "0  100049  202  Mixed  non religious  ...           1          2           0     1.0\n",
              "1  100050  202  Girls  non religious  ...           1          1           0     1.0\n",
              "2  100051  202  Mixed  non religious  ...           1          2           0     0.0\n",
              "3  100052  202  Mixed  non religious  ...           1          2           0     0.0\n",
              "4  100053  202  Mixed  non religious  ...           1          2           0     1.0\n",
              "\n",
              "[5 rows x 40 columns]"
            ]
          },
          "metadata": {
            "tags": []
          },
          "execution_count": 50
        }
      ]
    },
    {
      "cell_type": "code",
      "metadata": {
        "colab": {
          "base_uri": "https://localhost:8080/"
        },
        "id": "RfvFS-Wdkhu3",
        "outputId": "7e352198-7a84-4f83-bc4c-237805cbfd11"
      },
      "source": [
        "# K-NN\n",
        "new_X = final_df[['FILCLF','en_GENDER','en_RELCHAR','PNORG','PNORB','PSENELSE','PSENELK','PNUMEAL','PNUMENGFL','PNUMFSM','P8PUP','ATT8SCR','P8MEA','P8_BANDING', 'OVERALL_DESTPER', 'NOT_SUSTAINEDPER','UNKNOWNPER']].values\n",
        "y = final_df['Rating_Val'].values\n",
        "kn_clf = neighbors.KNeighborsClassifier()\n",
        "kn_clf.fit(new_X,y)\n",
        "predictions_kn = kn_clf.predict(new_X)\n",
        "metrics.accuracy_score(y, predictions_kn)"
      ],
      "execution_count": null,
      "outputs": [
        {
          "output_type": "execute_result",
          "data": {
            "text/plain": [
              "0.7309515129420343"
            ]
          },
          "metadata": {
            "tags": []
          },
          "execution_count": 51
        }
      ]
    },
    {
      "cell_type": "code",
      "metadata": {
        "colab": {
          "base_uri": "https://localhost:8080/"
        },
        "id": "Kjv370-QmpKg",
        "outputId": "25bacc74-cd0b-4adf-a01b-a9b2135cd6bd"
      },
      "source": [
        "scores_kN = cross_val_score(kn_clf.fit(new_X,y), new_X, y, cv= 5)\n",
        "scores_kN.mean()"
      ],
      "execution_count": null,
      "outputs": [
        {
          "output_type": "execute_result",
          "data": {
            "text/plain": [
              "0.5982702458351615"
            ]
          },
          "metadata": {
            "tags": []
          },
          "execution_count": 52
        }
      ]
    },
    {
      "cell_type": "markdown",
      "metadata": {
        "id": "E-fOcb-Eo3pZ"
      },
      "source": [
        "2. Log Transformation:\n",
        "  - This feature engineering approach is used to compress higher values or values skewed to a side, in order to lead to a more normal distribution.\n",
        "  we will try to apply this approach to the P8PUP feature which appears to be skewed to the left."
      ]
    },
    {
      "cell_type": "code",
      "metadata": {
        "colab": {
          "base_uri": "https://localhost:8080/",
          "height": 356
        },
        "id": "PS453zEQtL1Y",
        "outputId": "946b0784-f62c-407a-dae1-fa5279c4fcae"
      },
      "source": [
        "sns.distplot(final_df['P8PUP'])"
      ],
      "execution_count": null,
      "outputs": [
        {
          "output_type": "stream",
          "text": [
            "/usr/local/lib/python3.6/dist-packages/seaborn/distributions.py:2551: FutureWarning: `distplot` is a deprecated function and will be removed in a future version. Please adapt your code to use either `displot` (a figure-level function with similar flexibility) or `histplot` (an axes-level function for histograms).\n",
            "  warnings.warn(msg, FutureWarning)\n"
          ],
          "name": "stderr"
        },
        {
          "output_type": "execute_result",
          "data": {
            "text/plain": [
              "<matplotlib.axes._subplots.AxesSubplot at 0x7f66a88d1f28>"
            ]
          },
          "metadata": {
            "tags": []
          },
          "execution_count": 53
        },
        {
          "output_type": "display_data",
          "data": {
            "image/png": "[encoded data removed]",
            "text/plain": [
              "<Figure size 432x288 with 1 Axes>"
            ]
          },
          "metadata": {
            "tags": [],
            "needs_background": "light"
          }
        }
      ]
    },
    {
      "cell_type": "code",
      "metadata": {
        "colab": {
          "base_uri": "https://localhost:8080/",
          "height": 309
        },
        "id": "Hn0NQJXRq_xz",
        "outputId": "09983bb9-f502-49c8-8116-3c98cc7a6231"
      },
      "source": [
        "final_df['P8PUP_log'] = final_df['P8PUP'].apply(np.log10)\n",
        "final_df.head()"
      ],
      "execution_count": null,
      "outputs": [
        {
          "output_type": "execute_result",
          "data": {
            "text/html": [
              "<div>\n",
              "<style scoped>\n",
              "    .dataframe tbody tr th:only-of-type {\n",
              "        vertical-align: middle;\n",
              "    }\n",
              "\n",
              "    .dataframe tbody tr th {\n",
              "        vertical-align: top;\n",
              "    }\n",
              "\n",
              "    .dataframe thead th {\n",
              "        text-align: right;\n",
              "    }\n",
              "</style>\n",
              "<table border=\"1\" class=\"dataframe\">\n",
              "  <thead>\n",
              "    <tr style=\"text-align: right;\">\n",
              "      <th></th>\n",
              "      <th>URN</th>\n",
              "      <th>LA</th>\n",
              "      <th>GENDER</th>\n",
              "      <th>RELCHAR</th>\n",
              "      <th>PNORG</th>\n",
              "      <th>PNORB</th>\n",
              "      <th>PSENELSE</th>\n",
              "      <th>PSENELK</th>\n",
              "      <th>PNUMEAL</th>\n",
              "      <th>PNUMENGFL</th>\n",
              "      <th>PNUMUNCFL</th>\n",
              "      <th>PNUMFSMEVER</th>\n",
              "      <th>PNUMFSM</th>\n",
              "      <th>PERCTOT</th>\n",
              "      <th>PPERSABS10</th>\n",
              "      <th>TPUP</th>\n",
              "      <th>P8PUP</th>\n",
              "      <th>ATT8SCR</th>\n",
              "      <th>P8MEA</th>\n",
              "      <th>P8CILOW</th>\n",
              "      <th>P8CIUPP</th>\n",
              "      <th>EBACCAPS</th>\n",
              "      <th>PTL2BASICS_94</th>\n",
              "      <th>PTL2BASICS_95</th>\n",
              "      <th>PTEBACC_E_PTQ_EE</th>\n",
              "      <th>PTEBACC_94</th>\n",
              "      <th>PTEBACC_95</th>\n",
              "      <th>PT5EM_94</th>\n",
              "      <th>P8_BANDING</th>\n",
              "      <th>OVERALL_DESTPER</th>\n",
              "      <th>NOT_SUSTAINEDPER</th>\n",
              "      <th>UNKNOWNPER</th>\n",
              "      <th>OVERALL_DESTPER_DIS</th>\n",
              "      <th>NOT_SUSTAINEDPER_DIS</th>\n",
              "      <th>UNKNOWNPER_DIS</th>\n",
              "      <th>Rating</th>\n",
              "      <th>Rating_Val</th>\n",
              "      <th>en_GENDER</th>\n",
              "      <th>en_RELCHAR</th>\n",
              "      <th>FILCLF</th>\n",
              "      <th>P8PUP_log</th>\n",
              "    </tr>\n",
              "  </thead>\n",
              "  <tbody>\n",
              "    <tr>\n",
              "      <th>0</th>\n",
              "      <td>100049</td>\n",
              "      <td>202</td>\n",
              "      <td>Mixed</td>\n",
              "      <td>non religious</td>\n",
              "      <td>41.4</td>\n",
              "      <td>58.6</td>\n",
              "      <td>3.2</td>\n",
              "      <td>11.8</td>\n",
              "      <td>73.1</td>\n",
              "      <td>26.8</td>\n",
              "      <td>0.1</td>\n",
              "      <td>64.5</td>\n",
              "      <td>41.2</td>\n",
              "      <td>6.9</td>\n",
              "      <td>18.8</td>\n",
              "      <td>199</td>\n",
              "      <td>178</td>\n",
              "      <td>42.4</td>\n",
              "      <td>-0.09</td>\n",
              "      <td>-0.28</td>\n",
              "      <td>0.09</td>\n",
              "      <td>3.72</td>\n",
              "      <td>0.588</td>\n",
              "      <td>0.432</td>\n",
              "      <td>0.241</td>\n",
              "      <td>0.191</td>\n",
              "      <td>0.141</td>\n",
              "      <td>0.533</td>\n",
              "      <td>3.0</td>\n",
              "      <td>0.90</td>\n",
              "      <td>0.09</td>\n",
              "      <td>0.01</td>\n",
              "      <td>0.89</td>\n",
              "      <td>0.11</td>\n",
              "      <td>0.01</td>\n",
              "      <td>Good</td>\n",
              "      <td>1</td>\n",
              "      <td>2</td>\n",
              "      <td>0</td>\n",
              "      <td>1.0</td>\n",
              "      <td>2.250420</td>\n",
              "    </tr>\n",
              "    <tr>\n",
              "      <th>1</th>\n",
              "      <td>100050</td>\n",
              "      <td>202</td>\n",
              "      <td>Girls</td>\n",
              "      <td>non religious</td>\n",
              "      <td>96.0</td>\n",
              "      <td>4.0</td>\n",
              "      <td>1.3</td>\n",
              "      <td>10.2</td>\n",
              "      <td>38.1</td>\n",
              "      <td>60.9</td>\n",
              "      <td>0.9</td>\n",
              "      <td>49.6</td>\n",
              "      <td>26.9</td>\n",
              "      <td>5.3</td>\n",
              "      <td>12.5</td>\n",
              "      <td>175</td>\n",
              "      <td>164</td>\n",
              "      <td>58.6</td>\n",
              "      <td>0.77</td>\n",
              "      <td>0.58</td>\n",
              "      <td>0.97</td>\n",
              "      <td>5.33</td>\n",
              "      <td>0.760</td>\n",
              "      <td>0.577</td>\n",
              "      <td>0.577</td>\n",
              "      <td>0.417</td>\n",
              "      <td>0.326</td>\n",
              "      <td>0.749</td>\n",
              "      <td>1.0</td>\n",
              "      <td>0.94</td>\n",
              "      <td>0.04</td>\n",
              "      <td>0.02</td>\n",
              "      <td>0.95</td>\n",
              "      <td>0.04</td>\n",
              "      <td>0.01</td>\n",
              "      <td>Good</td>\n",
              "      <td>1</td>\n",
              "      <td>1</td>\n",
              "      <td>0</td>\n",
              "      <td>1.0</td>\n",
              "      <td>2.214844</td>\n",
              "    </tr>\n",
              "    <tr>\n",
              "      <th>2</th>\n",
              "      <td>100051</td>\n",
              "      <td>202</td>\n",
              "      <td>Mixed</td>\n",
              "      <td>non religious</td>\n",
              "      <td>45.0</td>\n",
              "      <td>55.0</td>\n",
              "      <td>3.6</td>\n",
              "      <td>11.1</td>\n",
              "      <td>82.6</td>\n",
              "      <td>17.4</td>\n",
              "      <td>0.0</td>\n",
              "      <td>69.0</td>\n",
              "      <td>43.0</td>\n",
              "      <td>6.7</td>\n",
              "      <td>19.2</td>\n",
              "      <td>154</td>\n",
              "      <td>139</td>\n",
              "      <td>42.1</td>\n",
              "      <td>-0.18</td>\n",
              "      <td>-0.40</td>\n",
              "      <td>0.03</td>\n",
              "      <td>3.77</td>\n",
              "      <td>0.591</td>\n",
              "      <td>0.403</td>\n",
              "      <td>0.604</td>\n",
              "      <td>0.201</td>\n",
              "      <td>0.071</td>\n",
              "      <td>0.526</td>\n",
              "      <td>3.0</td>\n",
              "      <td>0.86</td>\n",
              "      <td>0.08</td>\n",
              "      <td>0.05</td>\n",
              "      <td>0.85</td>\n",
              "      <td>0.09</td>\n",
              "      <td>0.06</td>\n",
              "      <td>Good</td>\n",
              "      <td>1</td>\n",
              "      <td>2</td>\n",
              "      <td>0</td>\n",
              "      <td>0.0</td>\n",
              "      <td>2.143015</td>\n",
              "    </tr>\n",
              "    <tr>\n",
              "      <th>3</th>\n",
              "      <td>100052</td>\n",
              "      <td>202</td>\n",
              "      <td>Mixed</td>\n",
              "      <td>non religious</td>\n",
              "      <td>47.5</td>\n",
              "      <td>52.5</td>\n",
              "      <td>2.4</td>\n",
              "      <td>6.9</td>\n",
              "      <td>55.8</td>\n",
              "      <td>44.2</td>\n",
              "      <td>0.0</td>\n",
              "      <td>54.2</td>\n",
              "      <td>22.8</td>\n",
              "      <td>5.4</td>\n",
              "      <td>14.0</td>\n",
              "      <td>200</td>\n",
              "      <td>188</td>\n",
              "      <td>44.6</td>\n",
              "      <td>-0.06</td>\n",
              "      <td>-0.24</td>\n",
              "      <td>0.13</td>\n",
              "      <td>4.08</td>\n",
              "      <td>0.630</td>\n",
              "      <td>0.315</td>\n",
              "      <td>0.585</td>\n",
              "      <td>0.240</td>\n",
              "      <td>0.120</td>\n",
              "      <td>0.570</td>\n",
              "      <td>3.0</td>\n",
              "      <td>0.91</td>\n",
              "      <td>0.08</td>\n",
              "      <td>0.01</td>\n",
              "      <td>0.87</td>\n",
              "      <td>0.13</td>\n",
              "      <td>0.00</td>\n",
              "      <td>Good</td>\n",
              "      <td>1</td>\n",
              "      <td>2</td>\n",
              "      <td>0</td>\n",
              "      <td>0.0</td>\n",
              "      <td>2.274158</td>\n",
              "    </tr>\n",
              "    <tr>\n",
              "      <th>4</th>\n",
              "      <td>100053</td>\n",
              "      <td>202</td>\n",
              "      <td>Mixed</td>\n",
              "      <td>non religious</td>\n",
              "      <td>33.7</td>\n",
              "      <td>66.3</td>\n",
              "      <td>6.2</td>\n",
              "      <td>13.4</td>\n",
              "      <td>28.2</td>\n",
              "      <td>70.3</td>\n",
              "      <td>1.5</td>\n",
              "      <td>47.1</td>\n",
              "      <td>26.2</td>\n",
              "      <td>6.3</td>\n",
              "      <td>18.5</td>\n",
              "      <td>136</td>\n",
              "      <td>128</td>\n",
              "      <td>47.2</td>\n",
              "      <td>-0.08</td>\n",
              "      <td>-0.30</td>\n",
              "      <td>0.14</td>\n",
              "      <td>4.29</td>\n",
              "      <td>0.662</td>\n",
              "      <td>0.471</td>\n",
              "      <td>0.515</td>\n",
              "      <td>0.368</td>\n",
              "      <td>0.265</td>\n",
              "      <td>0.625</td>\n",
              "      <td>3.0</td>\n",
              "      <td>0.95</td>\n",
              "      <td>0.04</td>\n",
              "      <td>0.01</td>\n",
              "      <td>0.90</td>\n",
              "      <td>0.07</td>\n",
              "      <td>0.03</td>\n",
              "      <td>Good</td>\n",
              "      <td>1</td>\n",
              "      <td>2</td>\n",
              "      <td>0</td>\n",
              "      <td>1.0</td>\n",
              "      <td>2.107210</td>\n",
              "    </tr>\n",
              "  </tbody>\n",
              "</table>\n",
              "</div>"
            ],
            "text/plain": [
              "      URN   LA GENDER        RELCHAR  ...  en_GENDER  en_RELCHAR  FILCLF  P8PUP_log\n",
              "0  100049  202  Mixed  non religious  ...          2           0     1.0   2.250420\n",
              "1  100050  202  Girls  non religious  ...          1           0     1.0   2.214844\n",
              "2  100051  202  Mixed  non religious  ...          2           0     0.0   2.143015\n",
              "3  100052  202  Mixed  non religious  ...          2           0     0.0   2.274158\n",
              "4  100053  202  Mixed  non religious  ...          2           0     1.0   2.107210\n",
              "\n",
              "[5 rows x 41 columns]"
            ]
          },
          "metadata": {
            "tags": []
          },
          "execution_count": 54
        }
      ]
    },
    {
      "cell_type": "code",
      "metadata": {
        "colab": {
          "base_uri": "https://localhost:8080/"
        },
        "id": "rRKud7D0ruKq",
        "outputId": "38e1ba60-cbb5-4160-f2da-0c4a93953665"
      },
      "source": [
        "# K-NN\n",
        "new_X = final_df[['P8PUP_log','FILCLF','en_GENDER','en_RELCHAR','PNORG','PNORB','PSENELSE','PSENELK','PNUMEAL','PNUMENGFL','PNUMFSM','ATT8SCR','P8MEA','P8_BANDING', 'OVERALL_DESTPER', 'NOT_SUSTAINEDPER','UNKNOWNPER']].values\n",
        "y = final_df['Rating_Val'].values\n",
        "kn_clf = neighbors.KNeighborsClassifier()\n",
        "kn_clf.fit(new_X,y)\n",
        "predictions_kn = kn_clf.predict(new_X)\n",
        "metrics.accuracy_score(y, predictions_kn)"
      ],
      "execution_count": null,
      "outputs": [
        {
          "output_type": "execute_result",
          "data": {
            "text/plain": [
              "0.7265767407947503"
            ]
          },
          "metadata": {
            "tags": []
          },
          "execution_count": 55
        }
      ]
    },
    {
      "cell_type": "code",
      "metadata": {
        "colab": {
          "base_uri": "https://localhost:8080/"
        },
        "id": "-m8WuAGum4k4",
        "outputId": "68f4c2c6-1419-4aba-a294-8a40cdb183fc"
      },
      "source": [
        "scores_kN = cross_val_score(kn_clf.fit(new_X,y), new_X, y, cv= 5)\n",
        "scores_kN.mean()"
      ],
      "execution_count": null,
      "outputs": [
        {
          "output_type": "execute_result",
          "data": {
            "text/plain": [
              "0.6077393535691968"
            ]
          },
          "metadata": {
            "tags": []
          },
          "execution_count": 56
        }
      ]
    },
    {
      "cell_type": "markdown",
      "metadata": {
        "id": "CqYKMsXmKzht"
      },
      "source": [
        "**Feature Selection Task**"
      ]
    },
    {
      "cell_type": "markdown",
      "metadata": {
        "id": "McJYXd2RK4CW"
      },
      "source": [
        "Difference between Filter and Wrapper Method\n",
        "- The Wrapper method gets to loop through every feature available via an algorithm, adding the features that gives the best result for the classifier which leads to a better accuracy while also removing the ones that gives less best result while going through the loop. An advantage is it gives the best accuracy while it interacts with the classifier, however a disadvantage is that it is slow in its process having to loop through every feature\n",
        "- The filter on the other hand uses objective statistics to rank each of the features in order to choose the best feature for the classifier, exmaple of this statistical approach is variance, correlation, independence, mutual information. An advantage of this method is that it is fast when compared with the wrapper method while a disadvantage of this approach is that it ignores interaction with the classifier and just focuses on ranking the features based on statistical means"
      ]
    },
    {
      "cell_type": "markdown",
      "metadata": {
        "id": "Lt1CNjG7R0o-"
      },
      "source": [
        "Filter Methods:\n",
        "- Variance: This filter method checks how much difference or variability there are in the feature values as it ignores the features with less variability because it doesn't help with predictions. Advantage of this approach is that it is easy to calculate and can work with unsupervised learning however not having correlation between features which is the feature we are trying to predict is a disadvantage.\n",
        "- Correlation: This checks how much covariance is between features and label, which is checking how much they vary together. That is, how much of the variance in one feature is because of the variance in the other feature.\n",
        "- Mutual information: This filter method measure the amount of information shared between two variables, that is the amount of information one feature tells about another feature. The information in this sense is the measure of entropy in a random selection of a feature value."
      ]
    },
    {
      "cell_type": "markdown",
      "metadata": {
        "id": "wkX9_xszcr2y"
      },
      "source": [
        "Chosen filter method is the Correlation Method."
      ]
    },
    {
      "cell_type": "code",
      "metadata": {
        "colab": {
          "base_uri": "https://localhost:8080/"
        },
        "id": "HTGlnMgxUBUQ",
        "outputId": "d113ad3e-0f15-426f-fccf-ebe10f3d4c73"
      },
      "source": [
        "fs = feature_selection.SelectKBest(score_func=feature_selection.f_regression, k=10)\n",
        "X_fs = fs.fit_transform(new_X, y)\n",
        "y = final_df['Rating_Val'].values\n",
        "kn_clf = neighbors.KNeighborsClassifier()\n",
        "kn_clf.fit(X_fs,y)\n",
        "predictions_kn = kn_clf.predict(X_fs)\n",
        "metrics.accuracy_score(y, predictions_kn)"
      ],
      "execution_count": null,
      "outputs": [
        {
          "output_type": "execute_result",
          "data": {
            "text/plain": [
              "0.7324097703244623"
            ]
          },
          "metadata": {
            "tags": []
          },
          "execution_count": 57
        }
      ]
    },
    {
      "cell_type": "code",
      "metadata": {
        "colab": {
          "base_uri": "https://localhost:8080/"
        },
        "id": "gWO0cl4znGhx",
        "outputId": "8bd90cdb-777c-4507-a33a-a05c9a14c127"
      },
      "source": [
        "scores_kN = cross_val_score(kn_clf.fit(X_fs,y), X_fs, y, cv= 5)\n",
        "scores_kN.mean()"
      ],
      "execution_count": null,
      "outputs": [
        {
          "output_type": "execute_result",
          "data": {
            "text/plain": [
              "0.6084652919043251"
            ]
          },
          "metadata": {
            "tags": []
          },
          "execution_count": 58
        }
      ]
    },
    {
      "cell_type": "code",
      "metadata": {
        "colab": {
          "base_uri": "https://localhost:8080/"
        },
        "id": "DoYuc9igcRG7",
        "outputId": "c0d69358-eb4d-4a14-ba9d-570d7d311a32"
      },
      "source": [
        "# Logistic Regression\n",
        "log_clf = linear_model.LogisticRegression()\n",
        "log_clf.fit(X_fs,y)\n",
        "predictions_lg = log_clf.predict(X_fs)\n",
        "metrics.accuracy_score(y, predictions_lg)"
      ],
      "execution_count": null,
      "outputs": [
        {
          "output_type": "stream",
          "text": [
            "/usr/local/lib/python3.6/dist-packages/sklearn/linear_model/_logistic.py:940: ConvergenceWarning: lbfgs failed to converge (status=1):\n",
            "STOP: TOTAL NO. of ITERATIONS REACHED LIMIT.\n",
            "\n",
            "Increase the number of iterations (max_iter) or scale the data as shown in:\n",
            "    https://scikit-learn.org/stable/modules/preprocessing.html\n",
            "Please also refer to the documentation for alternative solver options:\n",
            "    https://scikit-learn.org/stable/modules/linear_model.html#logistic-regression\n",
            "  extra_warning_msg=_LOGISTIC_SOLVER_CONVERGENCE_MSG)\n"
          ],
          "name": "stderr"
        },
        {
          "output_type": "execute_result",
          "data": {
            "text/plain": [
              "0.6401749908858914"
            ]
          },
          "metadata": {
            "tags": []
          },
          "execution_count": 59
        }
      ]
    },
    {
      "cell_type": "code",
      "metadata": {
        "colab": {
          "base_uri": "https://localhost:8080/"
        },
        "id": "7c81pZkMnRlz",
        "outputId": "85debfe7-fe90-4037-c32e-6a75e3152589"
      },
      "source": [
        "scores_log = cross_val_score(log_clf.fit(X_fs,y), X_fs, y, cv= 5)\n",
        "scores_log.mean()"
      ],
      "execution_count": null,
      "outputs": [
        {
          "output_type": "stream",
          "text": [
            "/usr/local/lib/python3.6/dist-packages/sklearn/linear_model/_logistic.py:940: ConvergenceWarning: lbfgs failed to converge (status=1):\n",
            "STOP: TOTAL NO. of ITERATIONS REACHED LIMIT.\n",
            "\n",
            "Increase the number of iterations (max_iter) or scale the data as shown in:\n",
            "    https://scikit-learn.org/stable/modules/preprocessing.html\n",
            "Please also refer to the documentation for alternative solver options:\n",
            "    https://scikit-learn.org/stable/modules/linear_model.html#logistic-regression\n",
            "  extra_warning_msg=_LOGISTIC_SOLVER_CONVERGENCE_MSG)\n",
            "/usr/local/lib/python3.6/dist-packages/sklearn/linear_model/_logistic.py:940: ConvergenceWarning: lbfgs failed to converge (status=1):\n",
            "STOP: TOTAL NO. of ITERATIONS REACHED LIMIT.\n",
            "\n",
            "Increase the number of iterations (max_iter) or scale the data as shown in:\n",
            "    https://scikit-learn.org/stable/modules/preprocessing.html\n",
            "Please also refer to the documentation for alternative solver options:\n",
            "    https://scikit-learn.org/stable/modules/linear_model.html#logistic-regression\n",
            "  extra_warning_msg=_LOGISTIC_SOLVER_CONVERGENCE_MSG)\n",
            "/usr/local/lib/python3.6/dist-packages/sklearn/linear_model/_logistic.py:940: ConvergenceWarning: lbfgs failed to converge (status=1):\n",
            "STOP: TOTAL NO. of ITERATIONS REACHED LIMIT.\n",
            "\n",
            "Increase the number of iterations (max_iter) or scale the data as shown in:\n",
            "    https://scikit-learn.org/stable/modules/preprocessing.html\n",
            "Please also refer to the documentation for alternative solver options:\n",
            "    https://scikit-learn.org/stable/modules/linear_model.html#logistic-regression\n",
            "  extra_warning_msg=_LOGISTIC_SOLVER_CONVERGENCE_MSG)\n",
            "/usr/local/lib/python3.6/dist-packages/sklearn/linear_model/_logistic.py:940: ConvergenceWarning: lbfgs failed to converge (status=1):\n",
            "STOP: TOTAL NO. of ITERATIONS REACHED LIMIT.\n",
            "\n",
            "Increase the number of iterations (max_iter) or scale the data as shown in:\n",
            "    https://scikit-learn.org/stable/modules/preprocessing.html\n",
            "Please also refer to the documentation for alternative solver options:\n",
            "    https://scikit-learn.org/stable/modules/linear_model.html#logistic-regression\n",
            "  extra_warning_msg=_LOGISTIC_SOLVER_CONVERGENCE_MSG)\n",
            "/usr/local/lib/python3.6/dist-packages/sklearn/linear_model/_logistic.py:940: ConvergenceWarning: lbfgs failed to converge (status=1):\n",
            "STOP: TOTAL NO. of ITERATIONS REACHED LIMIT.\n",
            "\n",
            "Increase the number of iterations (max_iter) or scale the data as shown in:\n",
            "    https://scikit-learn.org/stable/modules/preprocessing.html\n",
            "Please also refer to the documentation for alternative solver options:\n",
            "    https://scikit-learn.org/stable/modules/linear_model.html#logistic-regression\n",
            "  extra_warning_msg=_LOGISTIC_SOLVER_CONVERGENCE_MSG)\n",
            "/usr/local/lib/python3.6/dist-packages/sklearn/linear_model/_logistic.py:940: ConvergenceWarning: lbfgs failed to converge (status=1):\n",
            "STOP: TOTAL NO. of ITERATIONS REACHED LIMIT.\n",
            "\n",
            "Increase the number of iterations (max_iter) or scale the data as shown in:\n",
            "    https://scikit-learn.org/stable/modules/preprocessing.html\n",
            "Please also refer to the documentation for alternative solver options:\n",
            "    https://scikit-learn.org/stable/modules/linear_model.html#logistic-regression\n",
            "  extra_warning_msg=_LOGISTIC_SOLVER_CONVERGENCE_MSG)\n"
          ],
          "name": "stderr"
        },
        {
          "output_type": "execute_result",
          "data": {
            "text/plain": [
              "0.6405408639463923"
            ]
          },
          "metadata": {
            "tags": []
          },
          "execution_count": 60
        }
      ]
    },
    {
      "cell_type": "code",
      "metadata": {
        "colab": {
          "base_uri": "https://localhost:8080/"
        },
        "id": "iquKfvofcf9D",
        "outputId": "5100afd6-ae42-4ef0-fe27-38768de47a96"
      },
      "source": [
        "# Naive Bayes\n",
        "na_clf = naive_bayes.GaussianNB()\n",
        "na_clf.fit(X_fs,y)\n",
        "predictions_na = na_clf.predict(X_fs)\n",
        "metrics.accuracy_score(y, predictions_na)"
      ],
      "execution_count": null,
      "outputs": [
        {
          "output_type": "execute_result",
          "data": {
            "text/plain": [
              "0.6193948231862924"
            ]
          },
          "metadata": {
            "tags": []
          },
          "execution_count": 61
        }
      ]
    },
    {
      "cell_type": "code",
      "metadata": {
        "colab": {
          "base_uri": "https://localhost:8080/"
        },
        "id": "bmYtZDAKnbEk",
        "outputId": "340704bd-5548-4a4d-dee3-d02787b8453f"
      },
      "source": [
        "scores_nai = cross_val_score(na_clf.fit(X_fs,y), X_fs, y, cv= 5)\n",
        "scores_nai.mean()"
      ],
      "execution_count": null,
      "outputs": [
        {
          "output_type": "execute_result",
          "data": {
            "text/plain": [
              "0.6099218220254478"
            ]
          },
          "metadata": {
            "tags": []
          },
          "execution_count": 62
        }
      ]
    },
    {
      "cell_type": "markdown",
      "metadata": {
        "id": "CMKkh2uodJsE"
      },
      "source": [
        "Applying Wrapper Method using Forward Selection with a random forest classifier"
      ]
    },
    {
      "cell_type": "markdown",
      "metadata": {
        "id": "CAwN6Ac1f-b3"
      },
      "source": [
        "- using a train test split for the data for accuracy."
      ]
    },
    {
      "cell_type": "code",
      "metadata": {
        "id": "va06PU84Z0YR"
      },
      "source": [
        "from sklearn.model_selection import train_test_split\n",
        "X_train,X_test,y_train,y_test=train_test_split(final_df.drop(['Rating_Val','GENDER','URN','LA','RELCHAR','Rating'],axis=1),final_df['Rating_Val'],test_size=.2,random_state=1)"
      ],
      "execution_count": null,
      "outputs": []
    },
    {
      "cell_type": "code",
      "metadata": {
        "colab": {
          "base_uri": "https://localhost:8080/"
        },
        "id": "HpdgApaeilW5",
        "outputId": "ec22599d-8263-4e80-8c0c-830012fd548a"
      },
      "source": [
        "from mlxtend.feature_selection import SequentialFeatureSelector as SFS\n",
        "from sklearn.ensemble import RandomForestClassifier\n",
        "# Sequential Forward Selection(sfs)\n",
        "sfs = SFS(RandomForestClassifier(),\n",
        "          k_features=15,\n",
        "          forward=True,\n",
        "          floating=False,\n",
        "          scoring = 'accuracy',\n",
        "          cv = 5)\n",
        "sfs.fit(X_train, y_train)\n"
      ],
      "execution_count": null,
      "outputs": [
        {
          "output_type": "stream",
          "text": [
            "/usr/local/lib/python3.6/dist-packages/sklearn/externals/joblib/__init__.py:15: FutureWarning: sklearn.externals.joblib is deprecated in 0.21 and will be removed in 0.23. Please import this functionality directly from joblib, which can be installed with: pip install joblib. If this warning is raised when loading pickled models, you may need to re-serialize those models with scikit-learn 0.21+.\n",
            "  warnings.warn(msg, category=FutureWarning)\n"
          ],
          "name": "stderr"
        },
        {
          "output_type": "execute_result",
          "data": {
            "text/plain": [
              "SequentialFeatureSelector(clone_estimator=True, cv=5,\n",
              "                          estimator=RandomForestClassifier(bootstrap=True,\n",
              "                                                           ccp_alpha=0.0,\n",
              "                                                           class_weight=None,\n",
              "                                                           criterion='gini',\n",
              "                                                           max_depth=None,\n",
              "                                                           max_features='auto',\n",
              "                                                           max_leaf_nodes=None,\n",
              "                                                           max_samples=None,\n",
              "                                                           min_impurity_decrease=0.0,\n",
              "                                                           min_impurity_split=None,\n",
              "                                                           min_samples_leaf=1,\n",
              "                                                           min_samples_split=2,\n",
              "                                                           min_weight_fraction_leaf=0.0,\n",
              "                                                           n_estimators=100,\n",
              "                                                           n_jobs=None,\n",
              "                                                           oob_score=False,\n",
              "                                                           random_state=None,\n",
              "                                                           verbose=0,\n",
              "                                                           warm_start=False),\n",
              "                          floating=False, forward=True, k_features=15, n_jobs=1,\n",
              "                          pre_dispatch='2*n_jobs', scoring='accuracy',\n",
              "                          verbose=0)"
            ]
          },
          "metadata": {
            "tags": []
          },
          "execution_count": 64
        }
      ]
    },
    {
      "cell_type": "code",
      "metadata": {
        "colab": {
          "base_uri": "https://localhost:8080/"
        },
        "id": "BXnj8FhEp7Kh",
        "outputId": "918df3b1-dc75-4c56-9ba3-1440bb925c11"
      },
      "source": [
        "selected_features = X_train.columns[list(sfs.k_feature_idx_)]\n",
        "print(selected_features)"
      ],
      "execution_count": null,
      "outputs": [
        {
          "output_type": "stream",
          "text": [
            "Index(['PNORG', 'PNUMEAL', 'PNUMFSM', 'PPERSABS10', 'P8CILOW', 'EBACCAPS',\n",
            "       'PTL2BASICS_95', 'P8_BANDING', 'UNKNOWNPER', 'NOT_SUSTAINEDPER_DIS',\n",
            "       'UNKNOWNPER_DIS', 'en_GENDER', 'en_RELCHAR', 'FILCLF', 'P8PUP_log'],\n",
            "      dtype='object')\n"
          ],
          "name": "stdout"
        }
      ]
    },
    {
      "cell_type": "code",
      "metadata": {
        "colab": {
          "base_uri": "https://localhost:8080/"
        },
        "id": "dC12rNRug-UH",
        "outputId": "e7f6ae86-b1f7-4e65-b56d-3dc46a526751"
      },
      "source": [
        "print(sfs.k_score_)"
      ],
      "execution_count": null,
      "outputs": [
        {
          "output_type": "stream",
          "text": [
            "0.6768485869712193\n"
          ],
          "name": "stdout"
        }
      ]
    },
    {
      "cell_type": "markdown",
      "metadata": {
        "id": "PnkDjO9dgwiV"
      },
      "source": [
        "Now using the K-NN classifier using the features produced in the wrapper method above(This changes after every run) to get the best accuracy."
      ]
    },
    {
      "cell_type": "code",
      "metadata": {
        "colab": {
          "base_uri": "https://localhost:8080/"
        },
        "id": "fUsCYByRhKld",
        "outputId": "db260cd3-7d17-415f-8c35-cf9215e1ca76"
      },
      "source": [
        "X_wrp = final_df[['PSENELSE', 'PSENELK', 'PNUMENGFL', 'PNUMFSM', 'PPERSABS10', 'P8PUP',\n",
        "       'ATT8SCR', 'PTL2BASICS_95', 'PTEBACC_E_PTQ_EE', 'P8_BANDING',\n",
        "       'UNKNOWNPER', 'UNKNOWNPER_DIS', 'en_GENDER', 'en_RELCHAR', 'FILCLF']].values\n",
        "y = final_df['Rating_Val'].values\n",
        "kn_clf = neighbors.KNeighborsClassifier()\n",
        "kn_clf.fit(X_wrp,y)\n",
        "predictions_kn = kn_clf.predict(X_wrp)\n",
        "metrics.accuracy_score(y, predictions_kn)"
      ],
      "execution_count": null,
      "outputs": [
        {
          "output_type": "execute_result",
          "data": {
            "text/plain": [
              "0.7400656215822092"
            ]
          },
          "metadata": {
            "tags": []
          },
          "execution_count": 71
        }
      ]
    },
    {
      "cell_type": "code",
      "metadata": {
        "colab": {
          "base_uri": "https://localhost:8080/"
        },
        "id": "577HTmWVnoFY",
        "outputId": "62e36b8a-0691-41da-d79c-e893c53d896a"
      },
      "source": [
        "scores_kN = cross_val_score(kn_clf.fit(X_wrp,y), X_wrp, y, cv= 5)\n",
        "scores_kN.mean()"
      ],
      "execution_count": null,
      "outputs": [
        {
          "output_type": "execute_result",
          "data": {
            "text/plain": [
              "0.6073810378524989"
            ]
          },
          "metadata": {
            "tags": []
          },
          "execution_count": 72
        }
      ]
    }
  ]
}