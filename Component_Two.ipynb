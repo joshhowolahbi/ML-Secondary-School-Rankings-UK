{
  "nbformat": 4,
  "nbformat_minor": 0,
  "metadata": {
    "colab": {
      "name": "Component Two",
      "provenance": [],
      "collapsed_sections": [],
      "authorship_tag": "ABX9TyMAHHpjC47BcCiOlhTc2FN4",
      "include_colab_link": true
    },
    "kernelspec": {
      "name": "python3",
      "display_name": "Python 3"
    }
  },
  "cells": [
    {
      "cell_type": "markdown",
      "metadata": {
        "id": "view-in-github",
        "colab_type": "text"
      },
      "source": [
        "<a href=\"https://colab.research.google.com/github/joshhowolahbi/ML-Secondary-School-Rankings-UK/blob/main/Component_Two.ipynb\" target=\"_parent\"><img src=\"https://colab.research.google.com/assets/colab-badge.svg\" alt=\"Open In Colab\"/></a>"
      ]
    },
    {
      "cell_type": "markdown",
      "metadata": {
        "id": "gkc4a0_j4Qji"
      },
      "source": [
        "# Component 2"
      ]
    },
    {
      "cell_type": "code",
      "metadata": {
        "id": "rxW6fhRVb-Kx",
        "colab": {
          "base_uri": "https://localhost:8080/"
        },
        "outputId": "f77b72f6-57da-4a31-a77c-e5d2ad0eef2d"
      },
      "source": [
        "import pandas as pd\n",
        "import numpy as np\n",
        "import matplotlib as mpl\n",
        "import matplotlib.pyplot as plt\n",
        "%matplotlib inline\n",
        "import seaborn as sns\n",
        "sns.set()\n",
        "from sklearn import metrics, neighbors, naive_bayes, preprocessing, linear_model\n",
        "from matplotlib.ticker import PercentFormatter\n",
        "print('setup complete')"
      ],
      "execution_count": null,
      "outputs": [
        {
          "output_type": "stream",
          "text": [
            "setup complete\n"
          ],
          "name": "stdout"
        }
      ]
    },
    {
      "cell_type": "markdown",
      "metadata": {
        "id": "1SDwI7rk4Lsr"
      },
      "source": [
        "Examining the distributions of all numeric features."
      ]
    },
    {
      "cell_type": "code",
      "metadata": {
        "colab": {
          "base_uri": "https://localhost:8080/",
          "height": 394
        },
        "id": "jRpmWiKs4jpB",
        "outputId": "e4bfcab7-639b-4b10-8c51-87a2229b821b"
      },
      "source": [
        "com_ofsted_df = pd.read_excel(\"./Clean Combined OFSTED.xlsx\")\n",
        "com_ofsted_df.head()"
      ],
      "execution_count": null,
      "outputs": [
        {
          "output_type": "execute_result",
          "data": {
            "text/html": [
              "<div>\n",
              "<style scoped>\n",
              "    .dataframe tbody tr th:only-of-type {\n",
              "        vertical-align: middle;\n",
              "    }\n",
              "\n",
              "    .dataframe tbody tr th {\n",
              "        vertical-align: top;\n",
              "    }\n",
              "\n",
              "    .dataframe thead th {\n",
              "        text-align: right;\n",
              "    }\n",
              "</style>\n",
              "<table border=\"1\" class=\"dataframe\">\n",
              "  <thead>\n",
              "    <tr style=\"text-align: right;\">\n",
              "      <th></th>\n",
              "      <th>URN</th>\n",
              "      <th>LA</th>\n",
              "      <th>GENDER</th>\n",
              "      <th>RELCHAR</th>\n",
              "      <th>PNORG</th>\n",
              "      <th>PNORB</th>\n",
              "      <th>PSENELSE</th>\n",
              "      <th>PSENELK</th>\n",
              "      <th>PNUMEAL</th>\n",
              "      <th>PNUMENGFL</th>\n",
              "      <th>PNUMUNCFL</th>\n",
              "      <th>PNUMFSMEVER</th>\n",
              "      <th>PNUMFSM</th>\n",
              "      <th>PERCTOT</th>\n",
              "      <th>PPERSABS10</th>\n",
              "      <th>TPUP</th>\n",
              "      <th>P8PUP</th>\n",
              "      <th>ATT8SCR</th>\n",
              "      <th>P8MEA</th>\n",
              "      <th>P8CILOW</th>\n",
              "      <th>P8CIUPP</th>\n",
              "      <th>EBACCAPS</th>\n",
              "      <th>PTL2BASICS_94</th>\n",
              "      <th>PTL2BASICS_95</th>\n",
              "      <th>PTEBACC_E_PTQ_EE</th>\n",
              "      <th>PTEBACC_94</th>\n",
              "      <th>PTEBACC_95</th>\n",
              "      <th>PT5EM_94</th>\n",
              "      <th>P8_BANDING</th>\n",
              "      <th>OVERALL_DESTPER</th>\n",
              "      <th>NOT_SUSTAINEDPER</th>\n",
              "      <th>UNKNOWNPER</th>\n",
              "      <th>OVERALL_DESTPER_DIS</th>\n",
              "      <th>NOT_SUSTAINEDPER_DIS</th>\n",
              "      <th>UNKNOWNPER_DIS</th>\n",
              "      <th>Rating</th>\n",
              "    </tr>\n",
              "  </thead>\n",
              "  <tbody>\n",
              "    <tr>\n",
              "      <th>0</th>\n",
              "      <td>100049</td>\n",
              "      <td>202</td>\n",
              "      <td>Mixed</td>\n",
              "      <td>Does not apply</td>\n",
              "      <td>41.4</td>\n",
              "      <td>58.6</td>\n",
              "      <td>3.2</td>\n",
              "      <td>11.8</td>\n",
              "      <td>73.1</td>\n",
              "      <td>26.8</td>\n",
              "      <td>0.1</td>\n",
              "      <td>64.5</td>\n",
              "      <td>41.2</td>\n",
              "      <td>6.9</td>\n",
              "      <td>18.8</td>\n",
              "      <td>199</td>\n",
              "      <td>178</td>\n",
              "      <td>42.4</td>\n",
              "      <td>-0.09</td>\n",
              "      <td>-0.28</td>\n",
              "      <td>0.09</td>\n",
              "      <td>3.72</td>\n",
              "      <td>0.588</td>\n",
              "      <td>0.432</td>\n",
              "      <td>0.241</td>\n",
              "      <td>0.191</td>\n",
              "      <td>0.141</td>\n",
              "      <td>0.533</td>\n",
              "      <td>3</td>\n",
              "      <td>0.9</td>\n",
              "      <td>0.09</td>\n",
              "      <td>0.01</td>\n",
              "      <td>0.89</td>\n",
              "      <td>0.11</td>\n",
              "      <td>0.01</td>\n",
              "      <td>Good</td>\n",
              "    </tr>\n",
              "    <tr>\n",
              "      <th>1</th>\n",
              "      <td>100050</td>\n",
              "      <td>202</td>\n",
              "      <td>Girls</td>\n",
              "      <td>Does not apply</td>\n",
              "      <td>96.0</td>\n",
              "      <td>4.0</td>\n",
              "      <td>1.3</td>\n",
              "      <td>10.2</td>\n",
              "      <td>38.1</td>\n",
              "      <td>60.9</td>\n",
              "      <td>0.9</td>\n",
              "      <td>49.6</td>\n",
              "      <td>26.9</td>\n",
              "      <td>5.3</td>\n",
              "      <td>12.5</td>\n",
              "      <td>175</td>\n",
              "      <td>164</td>\n",
              "      <td>58.6</td>\n",
              "      <td>0.77</td>\n",
              "      <td>0.58</td>\n",
              "      <td>0.97</td>\n",
              "      <td>5.33</td>\n",
              "      <td>0.760</td>\n",
              "      <td>0.577</td>\n",
              "      <td>0.577</td>\n",
              "      <td>0.417</td>\n",
              "      <td>0.326</td>\n",
              "      <td>0.749</td>\n",
              "      <td>1</td>\n",
              "      <td>0.94</td>\n",
              "      <td>0.04</td>\n",
              "      <td>0.02</td>\n",
              "      <td>0.95</td>\n",
              "      <td>0.04</td>\n",
              "      <td>0.01</td>\n",
              "      <td>Good</td>\n",
              "    </tr>\n",
              "    <tr>\n",
              "      <th>2</th>\n",
              "      <td>100051</td>\n",
              "      <td>202</td>\n",
              "      <td>Mixed</td>\n",
              "      <td>Does not apply</td>\n",
              "      <td>45.0</td>\n",
              "      <td>55.0</td>\n",
              "      <td>3.6</td>\n",
              "      <td>11.1</td>\n",
              "      <td>82.6</td>\n",
              "      <td>17.4</td>\n",
              "      <td>0.0</td>\n",
              "      <td>69.0</td>\n",
              "      <td>43.0</td>\n",
              "      <td>6.7</td>\n",
              "      <td>19.2</td>\n",
              "      <td>154</td>\n",
              "      <td>139</td>\n",
              "      <td>42.1</td>\n",
              "      <td>-0.18</td>\n",
              "      <td>-0.40</td>\n",
              "      <td>0.03</td>\n",
              "      <td>3.77</td>\n",
              "      <td>0.591</td>\n",
              "      <td>0.403</td>\n",
              "      <td>0.604</td>\n",
              "      <td>0.201</td>\n",
              "      <td>0.071</td>\n",
              "      <td>0.526</td>\n",
              "      <td>3</td>\n",
              "      <td>0.86</td>\n",
              "      <td>0.08</td>\n",
              "      <td>0.05</td>\n",
              "      <td>0.85</td>\n",
              "      <td>0.09</td>\n",
              "      <td>0.06</td>\n",
              "      <td>Good</td>\n",
              "    </tr>\n",
              "    <tr>\n",
              "      <th>3</th>\n",
              "      <td>100052</td>\n",
              "      <td>202</td>\n",
              "      <td>Mixed</td>\n",
              "      <td>Does not apply</td>\n",
              "      <td>47.5</td>\n",
              "      <td>52.5</td>\n",
              "      <td>2.4</td>\n",
              "      <td>6.9</td>\n",
              "      <td>55.8</td>\n",
              "      <td>44.2</td>\n",
              "      <td>0.0</td>\n",
              "      <td>54.2</td>\n",
              "      <td>22.8</td>\n",
              "      <td>5.4</td>\n",
              "      <td>14</td>\n",
              "      <td>200</td>\n",
              "      <td>188</td>\n",
              "      <td>44.6</td>\n",
              "      <td>-0.06</td>\n",
              "      <td>-0.24</td>\n",
              "      <td>0.13</td>\n",
              "      <td>4.08</td>\n",
              "      <td>0.630</td>\n",
              "      <td>0.315</td>\n",
              "      <td>0.585</td>\n",
              "      <td>0.240</td>\n",
              "      <td>0.120</td>\n",
              "      <td>0.570</td>\n",
              "      <td>3</td>\n",
              "      <td>0.91</td>\n",
              "      <td>0.08</td>\n",
              "      <td>0.01</td>\n",
              "      <td>0.87</td>\n",
              "      <td>0.13</td>\n",
              "      <td>0</td>\n",
              "      <td>Good</td>\n",
              "    </tr>\n",
              "    <tr>\n",
              "      <th>4</th>\n",
              "      <td>100053</td>\n",
              "      <td>202</td>\n",
              "      <td>Mixed</td>\n",
              "      <td>Does not apply</td>\n",
              "      <td>33.7</td>\n",
              "      <td>66.3</td>\n",
              "      <td>6.2</td>\n",
              "      <td>13.4</td>\n",
              "      <td>28.2</td>\n",
              "      <td>70.3</td>\n",
              "      <td>1.5</td>\n",
              "      <td>47.1</td>\n",
              "      <td>26.2</td>\n",
              "      <td>6.3</td>\n",
              "      <td>18.5</td>\n",
              "      <td>136</td>\n",
              "      <td>128</td>\n",
              "      <td>47.2</td>\n",
              "      <td>-0.08</td>\n",
              "      <td>-0.30</td>\n",
              "      <td>0.14</td>\n",
              "      <td>4.29</td>\n",
              "      <td>0.662</td>\n",
              "      <td>0.471</td>\n",
              "      <td>0.515</td>\n",
              "      <td>0.368</td>\n",
              "      <td>0.265</td>\n",
              "      <td>0.625</td>\n",
              "      <td>3</td>\n",
              "      <td>0.95</td>\n",
              "      <td>0.04</td>\n",
              "      <td>0.01</td>\n",
              "      <td>0.9</td>\n",
              "      <td>0.07</td>\n",
              "      <td>0.03</td>\n",
              "      <td>Good</td>\n",
              "    </tr>\n",
              "  </tbody>\n",
              "</table>\n",
              "</div>"
            ],
            "text/plain": [
              "      URN   LA GENDER  ... NOT_SUSTAINEDPER_DIS  UNKNOWNPER_DIS  Rating\n",
              "0  100049  202  Mixed  ...                 0.11            0.01    Good\n",
              "1  100050  202  Girls  ...                 0.04            0.01    Good\n",
              "2  100051  202  Mixed  ...                 0.09            0.06    Good\n",
              "3  100052  202  Mixed  ...                 0.13               0    Good\n",
              "4  100053  202  Mixed  ...                 0.07            0.03    Good\n",
              "\n",
              "[5 rows x 36 columns]"
            ]
          },
          "metadata": {
            "tags": []
          },
          "execution_count": 2
        }
      ]
    },
    {
      "cell_type": "code",
      "metadata": {
        "colab": {
          "base_uri": "https://localhost:8080/"
        },
        "id": "qVnXzDHV6nR-",
        "outputId": "117bc67e-f4d7-4326-98bb-cc974d56dba4"
      },
      "source": [
        "com_ofsted_df.shape"
      ],
      "execution_count": null,
      "outputs": [
        {
          "output_type": "execute_result",
          "data": {
            "text/plain": [
              "(3167, 36)"
            ]
          },
          "metadata": {
            "tags": []
          },
          "execution_count": 3
        }
      ]
    },
    {
      "cell_type": "markdown",
      "metadata": {
        "id": "WsOvbTSn5I1v"
      },
      "source": [
        "- dropping non-numeric features"
      ]
    },
    {
      "cell_type": "code",
      "metadata": {
        "colab": {
          "base_uri": "https://localhost:8080/",
          "height": 224
        },
        "id": "-KdsCJ5X5T2l",
        "outputId": "ad61476f-d105-4a4e-b32d-6f2bcb6a347b"
      },
      "source": [
        "num_df = com_ofsted_df.drop(columns=[\"GENDER\", \"RELCHAR\", \"Rating\"])\n",
        "num_df.head()"
      ],
      "execution_count": null,
      "outputs": [
        {
          "output_type": "execute_result",
          "data": {
            "text/html": [
              "<div>\n",
              "<style scoped>\n",
              "    .dataframe tbody tr th:only-of-type {\n",
              "        vertical-align: middle;\n",
              "    }\n",
              "\n",
              "    .dataframe tbody tr th {\n",
              "        vertical-align: top;\n",
              "    }\n",
              "\n",
              "    .dataframe thead th {\n",
              "        text-align: right;\n",
              "    }\n",
              "</style>\n",
              "<table border=\"1\" class=\"dataframe\">\n",
              "  <thead>\n",
              "    <tr style=\"text-align: right;\">\n",
              "      <th></th>\n",
              "      <th>URN</th>\n",
              "      <th>LA</th>\n",
              "      <th>PNORG</th>\n",
              "      <th>PNORB</th>\n",
              "      <th>PSENELSE</th>\n",
              "      <th>PSENELK</th>\n",
              "      <th>PNUMEAL</th>\n",
              "      <th>PNUMENGFL</th>\n",
              "      <th>PNUMUNCFL</th>\n",
              "      <th>PNUMFSMEVER</th>\n",
              "      <th>PNUMFSM</th>\n",
              "      <th>PERCTOT</th>\n",
              "      <th>PPERSABS10</th>\n",
              "      <th>TPUP</th>\n",
              "      <th>P8PUP</th>\n",
              "      <th>ATT8SCR</th>\n",
              "      <th>P8MEA</th>\n",
              "      <th>P8CILOW</th>\n",
              "      <th>P8CIUPP</th>\n",
              "      <th>EBACCAPS</th>\n",
              "      <th>PTL2BASICS_94</th>\n",
              "      <th>PTL2BASICS_95</th>\n",
              "      <th>PTEBACC_E_PTQ_EE</th>\n",
              "      <th>PTEBACC_94</th>\n",
              "      <th>PTEBACC_95</th>\n",
              "      <th>PT5EM_94</th>\n",
              "      <th>P8_BANDING</th>\n",
              "      <th>OVERALL_DESTPER</th>\n",
              "      <th>NOT_SUSTAINEDPER</th>\n",
              "      <th>UNKNOWNPER</th>\n",
              "      <th>OVERALL_DESTPER_DIS</th>\n",
              "      <th>NOT_SUSTAINEDPER_DIS</th>\n",
              "      <th>UNKNOWNPER_DIS</th>\n",
              "    </tr>\n",
              "  </thead>\n",
              "  <tbody>\n",
              "    <tr>\n",
              "      <th>0</th>\n",
              "      <td>100049</td>\n",
              "      <td>202</td>\n",
              "      <td>41.4</td>\n",
              "      <td>58.6</td>\n",
              "      <td>3.2</td>\n",
              "      <td>11.8</td>\n",
              "      <td>73.1</td>\n",
              "      <td>26.8</td>\n",
              "      <td>0.1</td>\n",
              "      <td>64.5</td>\n",
              "      <td>41.2</td>\n",
              "      <td>6.9</td>\n",
              "      <td>18.8</td>\n",
              "      <td>199</td>\n",
              "      <td>178</td>\n",
              "      <td>42.4</td>\n",
              "      <td>-0.09</td>\n",
              "      <td>-0.28</td>\n",
              "      <td>0.09</td>\n",
              "      <td>3.72</td>\n",
              "      <td>0.588</td>\n",
              "      <td>0.432</td>\n",
              "      <td>0.241</td>\n",
              "      <td>0.191</td>\n",
              "      <td>0.141</td>\n",
              "      <td>0.533</td>\n",
              "      <td>3</td>\n",
              "      <td>0.9</td>\n",
              "      <td>0.09</td>\n",
              "      <td>0.01</td>\n",
              "      <td>0.89</td>\n",
              "      <td>0.11</td>\n",
              "      <td>0.01</td>\n",
              "    </tr>\n",
              "    <tr>\n",
              "      <th>1</th>\n",
              "      <td>100050</td>\n",
              "      <td>202</td>\n",
              "      <td>96.0</td>\n",
              "      <td>4.0</td>\n",
              "      <td>1.3</td>\n",
              "      <td>10.2</td>\n",
              "      <td>38.1</td>\n",
              "      <td>60.9</td>\n",
              "      <td>0.9</td>\n",
              "      <td>49.6</td>\n",
              "      <td>26.9</td>\n",
              "      <td>5.3</td>\n",
              "      <td>12.5</td>\n",
              "      <td>175</td>\n",
              "      <td>164</td>\n",
              "      <td>58.6</td>\n",
              "      <td>0.77</td>\n",
              "      <td>0.58</td>\n",
              "      <td>0.97</td>\n",
              "      <td>5.33</td>\n",
              "      <td>0.760</td>\n",
              "      <td>0.577</td>\n",
              "      <td>0.577</td>\n",
              "      <td>0.417</td>\n",
              "      <td>0.326</td>\n",
              "      <td>0.749</td>\n",
              "      <td>1</td>\n",
              "      <td>0.94</td>\n",
              "      <td>0.04</td>\n",
              "      <td>0.02</td>\n",
              "      <td>0.95</td>\n",
              "      <td>0.04</td>\n",
              "      <td>0.01</td>\n",
              "    </tr>\n",
              "    <tr>\n",
              "      <th>2</th>\n",
              "      <td>100051</td>\n",
              "      <td>202</td>\n",
              "      <td>45.0</td>\n",
              "      <td>55.0</td>\n",
              "      <td>3.6</td>\n",
              "      <td>11.1</td>\n",
              "      <td>82.6</td>\n",
              "      <td>17.4</td>\n",
              "      <td>0.0</td>\n",
              "      <td>69.0</td>\n",
              "      <td>43.0</td>\n",
              "      <td>6.7</td>\n",
              "      <td>19.2</td>\n",
              "      <td>154</td>\n",
              "      <td>139</td>\n",
              "      <td>42.1</td>\n",
              "      <td>-0.18</td>\n",
              "      <td>-0.40</td>\n",
              "      <td>0.03</td>\n",
              "      <td>3.77</td>\n",
              "      <td>0.591</td>\n",
              "      <td>0.403</td>\n",
              "      <td>0.604</td>\n",
              "      <td>0.201</td>\n",
              "      <td>0.071</td>\n",
              "      <td>0.526</td>\n",
              "      <td>3</td>\n",
              "      <td>0.86</td>\n",
              "      <td>0.08</td>\n",
              "      <td>0.05</td>\n",
              "      <td>0.85</td>\n",
              "      <td>0.09</td>\n",
              "      <td>0.06</td>\n",
              "    </tr>\n",
              "    <tr>\n",
              "      <th>3</th>\n",
              "      <td>100052</td>\n",
              "      <td>202</td>\n",
              "      <td>47.5</td>\n",
              "      <td>52.5</td>\n",
              "      <td>2.4</td>\n",
              "      <td>6.9</td>\n",
              "      <td>55.8</td>\n",
              "      <td>44.2</td>\n",
              "      <td>0.0</td>\n",
              "      <td>54.2</td>\n",
              "      <td>22.8</td>\n",
              "      <td>5.4</td>\n",
              "      <td>14</td>\n",
              "      <td>200</td>\n",
              "      <td>188</td>\n",
              "      <td>44.6</td>\n",
              "      <td>-0.06</td>\n",
              "      <td>-0.24</td>\n",
              "      <td>0.13</td>\n",
              "      <td>4.08</td>\n",
              "      <td>0.630</td>\n",
              "      <td>0.315</td>\n",
              "      <td>0.585</td>\n",
              "      <td>0.240</td>\n",
              "      <td>0.120</td>\n",
              "      <td>0.570</td>\n",
              "      <td>3</td>\n",
              "      <td>0.91</td>\n",
              "      <td>0.08</td>\n",
              "      <td>0.01</td>\n",
              "      <td>0.87</td>\n",
              "      <td>0.13</td>\n",
              "      <td>0</td>\n",
              "    </tr>\n",
              "    <tr>\n",
              "      <th>4</th>\n",
              "      <td>100053</td>\n",
              "      <td>202</td>\n",
              "      <td>33.7</td>\n",
              "      <td>66.3</td>\n",
              "      <td>6.2</td>\n",
              "      <td>13.4</td>\n",
              "      <td>28.2</td>\n",
              "      <td>70.3</td>\n",
              "      <td>1.5</td>\n",
              "      <td>47.1</td>\n",
              "      <td>26.2</td>\n",
              "      <td>6.3</td>\n",
              "      <td>18.5</td>\n",
              "      <td>136</td>\n",
              "      <td>128</td>\n",
              "      <td>47.2</td>\n",
              "      <td>-0.08</td>\n",
              "      <td>-0.30</td>\n",
              "      <td>0.14</td>\n",
              "      <td>4.29</td>\n",
              "      <td>0.662</td>\n",
              "      <td>0.471</td>\n",
              "      <td>0.515</td>\n",
              "      <td>0.368</td>\n",
              "      <td>0.265</td>\n",
              "      <td>0.625</td>\n",
              "      <td>3</td>\n",
              "      <td>0.95</td>\n",
              "      <td>0.04</td>\n",
              "      <td>0.01</td>\n",
              "      <td>0.9</td>\n",
              "      <td>0.07</td>\n",
              "      <td>0.03</td>\n",
              "    </tr>\n",
              "  </tbody>\n",
              "</table>\n",
              "</div>"
            ],
            "text/plain": [
              "      URN   LA  PNORG  ...  OVERALL_DESTPER_DIS  NOT_SUSTAINEDPER_DIS  UNKNOWNPER_DIS\n",
              "0  100049  202   41.4  ...                 0.89                  0.11            0.01\n",
              "1  100050  202   96.0  ...                 0.95                  0.04            0.01\n",
              "2  100051  202   45.0  ...                 0.85                  0.09            0.06\n",
              "3  100052  202   47.5  ...                 0.87                  0.13               0\n",
              "4  100053  202   33.7  ...                  0.9                  0.07            0.03\n",
              "\n",
              "[5 rows x 33 columns]"
            ]
          },
          "metadata": {
            "tags": []
          },
          "execution_count": 4
        }
      ]
    },
    {
      "cell_type": "code",
      "metadata": {
        "colab": {
          "base_uri": "https://localhost:8080/"
        },
        "id": "xWJ3HNCBCmT6",
        "outputId": "5d4f4b23-e7a9-4ed7-e8da-80edc8279e08"
      },
      "source": [
        "num_df.shape"
      ],
      "execution_count": null,
      "outputs": [
        {
          "output_type": "execute_result",
          "data": {
            "text/plain": [
              "(3167, 33)"
            ]
          },
          "metadata": {
            "tags": []
          },
          "execution_count": 5
        }
      ]
    },
    {
      "cell_type": "markdown",
      "metadata": {
        "id": "Pyin-93FCfFK"
      },
      "source": [
        "- we are unable to plot the histograms using the for loop for some feature because of the non-numeric values present in some rows (i.e string value like SUPP, NE, LOWCOV). Hence, we are removing rows containing this non-numeric values to be able to run the loop"
      ]
    },
    {
      "cell_type": "code",
      "metadata": {
        "colab": {
          "base_uri": "https://localhost:8080/"
        },
        "id": "mxUGmwglC_Kj",
        "outputId": "38b0c5de-2954-4d7e-94a4-0026c5bd6a3c"
      },
      "source": [
        "string_row  = num_df.apply(lambda row : any([ isinstance(e, str) for e in row ]), axis=1)\n",
        "new_num_df = num_df[~string_row]\n",
        "new_num_df.shape"
      ],
      "execution_count": null,
      "outputs": [
        {
          "output_type": "execute_result",
          "data": {
            "text/plain": [
              "(2572, 33)"
            ]
          },
          "metadata": {
            "tags": []
          },
          "execution_count": 6
        }
      ]
    },
    {
      "cell_type": "markdown",
      "metadata": {
        "id": "mOc_7xeM8YqV"
      },
      "source": [
        "- plotting each feature"
      ]
    },
    {
      "cell_type": "code",
      "metadata": {
        "colab": {
          "base_uri": "https://localhost:8080/",
          "height": 1000
        },
        "id": "dwS8OLy08bvY",
        "outputId": "d98a8615-fbdc-46c4-ab1c-34edb759480a"
      },
      "source": [
        "col = new_num_df.columns\n",
        "for i in col:\n",
        "  print(i)\n",
        "  new_num_df[i].plot.hist(bins = 20);\n",
        "  plt.show()"
      ],
      "execution_count": null,
      "outputs": [
        {
          "output_type": "stream",
          "text": [
            "URN\n"
          ],
          "name": "stdout"
        },
        {
          "output_type": "display_data",
          "data": {
            "image/png": "[encoded data removed]",
            "text/plain": [
              "<Figure size 432x288 with 1 Axes>"
            ]
          },
          "metadata": {
            "tags": [],
            "needs_background": "light"
          }
        },
        {
          "output_type": "stream",
          "text": [
            "LA\n"
          ],
          "name": "stdout"
        },
        {
          "output_type": "display_data",
          "data": {
            "image/png": "[encoded data removed]",
            "text/plain": [
              "<Figure size 432x288 with 1 Axes>"
            ]
          },
          "metadata": {
            "tags": [],
            "needs_background": "light"
          }
        },
        {
          "output_type": "stream",
          "text": [
            "PNORG\n"
          ],
          "name": "stdout"
        },
        {
          "output_type": "display_data",
          "data": {
            "image/png": "[encoded data removed]",
            "text/plain": [
              "<Figure size 432x288 with 1 Axes>"
            ]
          },
          "metadata": {
            "tags": [],
            "needs_background": "light"
          }
        },
        {
          "output_type": "stream",
          "text": [
            "PNORB\n"
          ],
          "name": "stdout"
        },
        {
          "output_type": "display_data",
          "data": {
            "image/png": "[encoded data removed]",
            "text/plain": [
              "<Figure size 432x288 with 1 Axes>"
            ]
          },
          "metadata": {
            "tags": [],
            "needs_background": "light"
          }
        },
        {
          "output_type": "stream",
          "text": [
            "PSENELSE\n"
          ],
          "name": "stdout"
        },
        {
          "output_type": "display_data",
          "data": {
            "image/png": "[encoded data removed]",
            "text/plain": [
              "<Figure size 432x288 with 1 Axes>"
            ]
          },
          "metadata": {
            "tags": [],
            "needs_background": "light"
          }
        },
        {
          "output_type": "stream",
          "text": [
            "PSENELK\n"
          ],
          "name": "stdout"
        },
        {
          "output_type": "display_data",
          "data": {
            "image/png": "[encoded data removed]",
            "text/plain": [
              "<Figure size 432x288 with 1 Axes>"
            ]
          },
          "metadata": {
            "tags": [],
            "needs_background": "light"
          }
        },
        {
          "output_type": "stream",
          "text": [
            "PNUMEAL\n"
          ],
          "name": "stdout"
        },
        {
          "output_type": "display_data",
          "data": {
            "image/png": "[encoded data removed]",
            "text/plain": [
              "<Figure size 432x288 with 1 Axes>"
            ]
          },
          "metadata": {
            "tags": [],
            "needs_background": "light"
          }
        },
        {
          "output_type": "stream",
          "text": [
            "PNUMENGFL\n"
          ],
          "name": "stdout"
        },
        {
          "output_type": "display_data",
          "data": {
            "image/png": "[encoded data removed]",
            "text/plain": [
              "<Figure size 432x288 with 1 Axes>"
            ]
          },
          "metadata": {
            "tags": [],
            "needs_background": "light"
          }
        },
        {
          "output_type": "stream",
          "text": [
            "PNUMUNCFL\n"
          ],
          "name": "stdout"
        },
        {
          "output_type": "display_data",
          "data": {
            "image/png": "[encoded data removed]",
            "text/plain": [
              "<Figure size 432x288 with 1 Axes>"
            ]
          },
          "metadata": {
            "tags": [],
            "needs_background": "light"
          }
        },
        {
          "output_type": "stream",
          "text": [
            "PNUMFSMEVER\n"
          ],
          "name": "stdout"
        },
        {
          "output_type": "display_data",
          "data": {
            "image/png": "[encoded data removed]",
            "text/plain": [
              "<Figure size 432x288 with 1 Axes>"
            ]
          },
          "metadata": {
            "tags": [],
            "needs_background": "light"
          }
        },
        {
          "output_type": "stream",
          "text": [
            "PNUMFSM\n"
          ],
          "name": "stdout"
        },
        {
          "output_type": "display_data",
          "data": {
            "image/png": "[encoded data removed]",
            "text/plain": [
              "<Figure size 432x288 with 1 Axes>"
            ]
          },
          "metadata": {
            "tags": [],
            "needs_background": "light"
          }
        },
        {
          "output_type": "stream",
          "text": [
            "PERCTOT\n"
          ],
          "name": "stdout"
        },
        {
          "output_type": "display_data",
          "data": {
            "image/png": "[encoded data removed]",
            "text/plain": [
              "<Figure size 432x288 with 1 Axes>"
            ]
          },
          "metadata": {
            "tags": [],
            "needs_background": "light"
          }
        },
        {
          "output_type": "stream",
          "text": [
            "PPERSABS10\n"
          ],
          "name": "stdout"
        },
        {
          "output_type": "display_data",
          "data": {
            "image/png": "[encoded data removed]",
            "text/plain": [
              "<Figure size 432x288 with 1 Axes>"
            ]
          },
          "metadata": {
            "tags": [],
            "needs_background": "light"
          }
        },
        {
          "output_type": "stream",
          "text": [
            "TPUP\n"
          ],
          "name": "stdout"
        },
        {
          "output_type": "display_data",
          "data": {
            "image/png": "[encoded data removed]",
            "text/plain": [
              "<Figure size 432x288 with 1 Axes>"
            ]
          },
          "metadata": {
            "tags": [],
            "needs_background": "light"
          }
        },
        {
          "output_type": "stream",
          "text": [
            "P8PUP\n"
          ],
          "name": "stdout"
        },
        {
          "output_type": "display_data",
          "data": {
            "image/png": "[encoded data removed]",
            "text/plain": [
              "<Figure size 432x288 with 1 Axes>"
            ]
          },
          "metadata": {
            "tags": [],
            "needs_background": "light"
          }
        },
        {
          "output_type": "stream",
          "text": [
            "ATT8SCR\n"
          ],
          "name": "stdout"
        },
        {
          "output_type": "display_data",
          "data": {
            "image/png": "[encoded data removed]",
            "text/plain": [
              "<Figure size 432x288 with 1 Axes>"
            ]
          },
          "metadata": {
            "tags": [],
            "needs_background": "light"
          }
        },
        {
          "output_type": "stream",
          "text": [
            "P8MEA\n"
          ],
          "name": "stdout"
        },
        {
          "output_type": "display_data",
          "data": {
            "image/png": "[encoded data removed]",
            "text/plain": [
              "<Figure size 432x288 with 1 Axes>"
            ]
          },
          "metadata": {
            "tags": [],
            "needs_background": "light"
          }
        },
        {
          "output_type": "stream",
          "text": [
            "P8CILOW\n"
          ],
          "name": "stdout"
        },
        {
          "output_type": "display_data",
          "data": {
            "image/png": "[encoded data removed]",
            "text/plain": [
              "<Figure size 432x288 with 1 Axes>"
            ]
          },
          "metadata": {
            "tags": [],
            "needs_background": "light"
          }
        },
        {
          "output_type": "stream",
          "text": [
            "P8CIUPP\n"
          ],
          "name": "stdout"
        },
        {
          "output_type": "display_data",
          "data": {
            "image/png": "[encoded data removed]",
            "text/plain": [
              "<Figure size 432x288 with 1 Axes>"
            ]
          },
          "metadata": {
            "tags": [],
            "needs_background": "light"
          }
        },
        {
          "output_type": "stream",
          "text": [
            "EBACCAPS\n"
          ],
          "name": "stdout"
        },
        {
          "output_type": "display_data",
          "data": {
            "image/png": "[encoded data removed]",
            "text/plain": [
              "<Figure size 432x288 with 1 Axes>"
            ]
          },
          "metadata": {
            "tags": [],
            "needs_background": "light"
          }
        },
        {
          "output_type": "stream",
          "text": [
            "PTL2BASICS_94\n"
          ],
          "name": "stdout"
        },
        {
          "output_type": "display_data",
          "data": {
            "image/png": "[encoded data removed]",
            "text/plain": [
              "<Figure size 432x288 with 1 Axes>"
            ]
          },
          "metadata": {
            "tags": [],
            "needs_background": "light"
          }
        },
        {
          "output_type": "stream",
          "text": [
            "PTL2BASICS_95\n"
          ],
          "name": "stdout"
        },
        {
          "output_type": "display_data",
          "data": {
            "image/png": "[encoded data removed]",
            "text/plain": [
              "<Figure size 432x288 with 1 Axes>"
            ]
          },
          "metadata": {
            "tags": [],
            "needs_background": "light"
          }
        },
        {
          "output_type": "stream",
          "text": [
            "PTEBACC_E_PTQ_EE\n"
          ],
          "name": "stdout"
        },
        {
          "output_type": "display_data",
          "data": {
            "image/png": "[encoded data removed]",
            "text/plain": [
              "<Figure size 432x288 with 1 Axes>"
            ]
          },
          "metadata": {
            "tags": [],
            "needs_background": "light"
          }
        },
        {
          "output_type": "stream",
          "text": [
            "PTEBACC_94\n"
          ],
          "name": "stdout"
        },
        {
          "output_type": "display_data",
          "data": {
            "image/png": "[encoded data removed]",
            "text/plain": [
              "<Figure size 432x288 with 1 Axes>"
            ]
          },
          "metadata": {
            "tags": [],
            "needs_background": "light"
          }
        },
        {
          "output_type": "stream",
          "text": [
            "PTEBACC_95\n"
          ],
          "name": "stdout"
        },
        {
          "output_type": "display_data",
          "data": {
            "image/png": "[encoded data removed]",
            "text/plain": [
              "<Figure size 432x288 with 1 Axes>"
            ]
          },
          "metadata": {
            "tags": [],
            "needs_background": "light"
          }
        },
        {
          "output_type": "stream",
          "text": [
            "PT5EM_94\n"
          ],
          "name": "stdout"
        },
        {
          "output_type": "display_data",
          "data": {
            "image/png": "[encoded data removed]",
            "text/plain": [
              "<Figure size 432x288 with 1 Axes>"
            ]
          },
          "metadata": {
            "tags": [],
            "needs_background": "light"
          }
        },
        {
          "output_type": "stream",
          "text": [
            "P8_BANDING\n"
          ],
          "name": "stdout"
        },
        {
          "output_type": "display_data",
          "data": {
            "image/png": "[encoded data removed]",
            "text/plain": [
              "<Figure size 432x288 with 1 Axes>"
            ]
          },
          "metadata": {
            "tags": [],
            "needs_background": "light"
          }
        },
        {
          "output_type": "stream",
          "text": [
            "OVERALL_DESTPER\n"
          ],
          "name": "stdout"
        },
        {
          "output_type": "display_data",
          "data": {
            "image/png": "[encoded data removed]",
            "text/plain": [
              "<Figure size 432x288 with 1 Axes>"
            ]
          },
          "metadata": {
            "tags": [],
            "needs_background": "light"
          }
        },
        {
          "output_type": "stream",
          "text": [
            "NOT_SUSTAINEDPER\n"
          ],
          "name": "stdout"
        },
        {
          "output_type": "display_data",
          "data": {
            "image/png": "[encoded data removed]",
            "text/plain": [
              "<Figure size 432x288 with 1 Axes>"
            ]
          },
          "metadata": {
            "tags": [],
            "needs_background": "light"
          }
        },
        {
          "output_type": "stream",
          "text": [
            "UNKNOWNPER\n"
          ],
          "name": "stdout"
        },
        {
          "output_type": "display_data",
          "data": {
            "image/png": "[encoded data removed]",
            "text/plain": [
              "<Figure size 432x288 with 1 Axes>"
            ]
          },
          "metadata": {
            "tags": [],
            "needs_background": "light"
          }
        },
        {
          "output_type": "stream",
          "text": [
            "OVERALL_DESTPER_DIS\n"
          ],
          "name": "stdout"
        },
        {
          "output_type": "display_data",
          "data": {
            "image/png": "[encoded data removed]",
            "text/plain": [
              "<Figure size 432x288 with 1 Axes>"
            ]
          },
          "metadata": {
            "tags": [],
            "needs_background": "light"
          }
        },
        {
          "output_type": "stream",
          "text": [
            "NOT_SUSTAINEDPER_DIS\n"
          ],
          "name": "stdout"
        },
        {
          "output_type": "display_data",
          "data": {
            "image/png": "[encoded data removed]",
            "text/plain": [
              "<Figure size 432x288 with 1 Axes>"
            ]
          },
          "metadata": {
            "tags": [],
            "needs_background": "light"
          }
        },
        {
          "output_type": "stream",
          "text": [
            "UNKNOWNPER_DIS\n"
          ],
          "name": "stdout"
        },
        {
          "output_type": "display_data",
          "data": {
            "image/png": "[encoded data removed]",
            "text/plain": [
              "<Figure size 432x288 with 1 Axes>"
            ]
          },
          "metadata": {
            "tags": [],
            "needs_background": "light"
          }
        }
      ]
    },
    {
      "cell_type": "markdown",
      "metadata": {
        "id": "q5XpDDS5LmYw"
      },
      "source": [
        "comments\n",
        "- The LA feature is concentrated at the edges of the plot leaving the center void\n",
        "- The PNORG and PNORB feature have their peak at the centre with outliers on both sides\n",
        "- The PSENELSE feature have outliers at 100\n",
        "- The ATT8SCR feature has outliers at the begining of the distribution\n",
        "- The EBACCAPS feature have outliers at the begining of the distribution\n",
        "- The PTEBACC_E_PTQ_EE feature have multiple peaks\n",
        "- the OVERALL_DESTPER feature have multiple peaks"
      ]
    },
    {
      "cell_type": "markdown",
      "metadata": {
        "id": "dOci8_maP-iy"
      },
      "source": [
        "Visualisation of the distribution of PNORG feature"
      ]
    },
    {
      "cell_type": "code",
      "metadata": {
        "colab": {
          "base_uri": "https://localhost:8080/",
          "height": 340
        },
        "id": "QUwMn0h4QHCn",
        "outputId": "7897025b-be02-4d02-fd34-73494c1f3581"
      },
      "source": [
        "pnorg_mean = num_df['PNORG'].mean()\n",
        "pnorg_med = num_df['PNORG'].median()\n",
        "plt.figure(figsize=(10,5))\n",
        "num_df['PNORG'].plot.hist(bins=50, alpha=0.4)\n",
        "plt.axvline(pnorg_mean, color = 'r')\n",
        "plt.axvline(pnorg_med, color = 'b', linestyle = 'dashed')\n",
        "plt.xlabel('Percentage of Girls on Roll')\n",
        "plt.ylabel('Number of Schools')\n",
        "plt.gca().xaxis.set_major_formatter(PercentFormatter(100))\n",
        "plt.legend({'Mean= '+ str(round(pnorg_mean,1))+'%': pnorg_mean, 'Median= '+ str(round(pnorg_med,1))+'%': pnorg_med})\n",
        "plt.show()"
      ],
      "execution_count": null,
      "outputs": [
        {
          "output_type": "display_data",
          "data": {
            "image/png": "[encoded data removed]",
            "text/plain": [
              "<Figure size 720x360 with 1 Axes>"
            ]
          },
          "metadata": {
            "tags": [],
            "needs_background": "light"
          }
        }
      ]
    },
    {
      "cell_type": "markdown",
      "metadata": {
        "id": "ZvD7bWAwlVU2"
      },
      "source": [
        "Examining the mixed features\n",
        "> As seen above while trying to use the loop to plot the distribution for each features, we got error causing the loop to break because non-numeric values were mixed in some numeric features, these were handled in order for the loop to work\n",
        "- Replacing non-numeric distribution with special numeric value\n",
        "- From previous approach to finding the rows with non-numeric value, below is a dataframe containing them"
      ]
    },
    {
      "cell_type": "code",
      "metadata": {
        "colab": {
          "base_uri": "https://localhost:8080/",
          "height": 224
        },
        "id": "vGIGJGufvZgw",
        "outputId": "f3fd9ad4-72fc-4885-83e2-e7b18c134a91"
      },
      "source": [
        "string_df= num_df[string_row]\n",
        "string_df.head()"
      ],
      "execution_count": null,
      "outputs": [
        {
          "output_type": "execute_result",
          "data": {
            "text/html": [
              "<div>\n",
              "<style scoped>\n",
              "    .dataframe tbody tr th:only-of-type {\n",
              "        vertical-align: middle;\n",
              "    }\n",
              "\n",
              "    .dataframe tbody tr th {\n",
              "        vertical-align: top;\n",
              "    }\n",
              "\n",
              "    .dataframe thead th {\n",
              "        text-align: right;\n",
              "    }\n",
              "</style>\n",
              "<table border=\"1\" class=\"dataframe\">\n",
              "  <thead>\n",
              "    <tr style=\"text-align: right;\">\n",
              "      <th></th>\n",
              "      <th>URN</th>\n",
              "      <th>LA</th>\n",
              "      <th>PNORG</th>\n",
              "      <th>PNORB</th>\n",
              "      <th>PSENELSE</th>\n",
              "      <th>PSENELK</th>\n",
              "      <th>PNUMEAL</th>\n",
              "      <th>PNUMENGFL</th>\n",
              "      <th>PNUMUNCFL</th>\n",
              "      <th>PNUMFSMEVER</th>\n",
              "      <th>PNUMFSM</th>\n",
              "      <th>PERCTOT</th>\n",
              "      <th>PPERSABS10</th>\n",
              "      <th>TPUP</th>\n",
              "      <th>P8PUP</th>\n",
              "      <th>ATT8SCR</th>\n",
              "      <th>P8MEA</th>\n",
              "      <th>P8CILOW</th>\n",
              "      <th>P8CIUPP</th>\n",
              "      <th>EBACCAPS</th>\n",
              "      <th>PTL2BASICS_94</th>\n",
              "      <th>PTL2BASICS_95</th>\n",
              "      <th>PTEBACC_E_PTQ_EE</th>\n",
              "      <th>PTEBACC_94</th>\n",
              "      <th>PTEBACC_95</th>\n",
              "      <th>PT5EM_94</th>\n",
              "      <th>P8_BANDING</th>\n",
              "      <th>OVERALL_DESTPER</th>\n",
              "      <th>NOT_SUSTAINEDPER</th>\n",
              "      <th>UNKNOWNPER</th>\n",
              "      <th>OVERALL_DESTPER_DIS</th>\n",
              "      <th>NOT_SUSTAINEDPER_DIS</th>\n",
              "      <th>UNKNOWNPER_DIS</th>\n",
              "    </tr>\n",
              "  </thead>\n",
              "  <tbody>\n",
              "    <tr>\n",
              "      <th>9</th>\n",
              "      <td>100092</td>\n",
              "      <td>202</td>\n",
              "      <td>11.8</td>\n",
              "      <td>88.2</td>\n",
              "      <td>100.0</td>\n",
              "      <td>0.0</td>\n",
              "      <td>20.6</td>\n",
              "      <td>79.4</td>\n",
              "      <td>0.0</td>\n",
              "      <td>91.2</td>\n",
              "      <td>67.6</td>\n",
              "      <td>27.9</td>\n",
              "      <td>81.4</td>\n",
              "      <td>17</td>\n",
              "      <td>16</td>\n",
              "      <td>3.4</td>\n",
              "      <td>-2.98</td>\n",
              "      <td>-3.60</td>\n",
              "      <td>-2.35</td>\n",
              "      <td>0.23</td>\n",
              "      <td>0.059</td>\n",
              "      <td>0.0</td>\n",
              "      <td>0.0</td>\n",
              "      <td>0.0</td>\n",
              "      <td>0.0</td>\n",
              "      <td>0.0</td>\n",
              "      <td>5</td>\n",
              "      <td>0.63</td>\n",
              "      <td>0.25</td>\n",
              "      <td>0.13</td>\n",
              "      <td>SUPP</td>\n",
              "      <td>SUPP</td>\n",
              "      <td>SUPP</td>\n",
              "    </tr>\n",
              "    <tr>\n",
              "      <th>15</th>\n",
              "      <td>100204</td>\n",
              "      <td>203</td>\n",
              "      <td>0.0</td>\n",
              "      <td>100.0</td>\n",
              "      <td>100.0</td>\n",
              "      <td>0.0</td>\n",
              "      <td>0.0</td>\n",
              "      <td>100.0</td>\n",
              "      <td>0.0</td>\n",
              "      <td>90.9</td>\n",
              "      <td>51.5</td>\n",
              "      <td>20.8</td>\n",
              "      <td>60</td>\n",
              "      <td>9</td>\n",
              "      <td>8</td>\n",
              "      <td>9.6</td>\n",
              "      <td>-1.90</td>\n",
              "      <td>-2.79</td>\n",
              "      <td>-1.01</td>\n",
              "      <td>0.19</td>\n",
              "      <td>0.000</td>\n",
              "      <td>0.0</td>\n",
              "      <td>0.0</td>\n",
              "      <td>0.0</td>\n",
              "      <td>0.0</td>\n",
              "      <td>0.0</td>\n",
              "      <td>5</td>\n",
              "      <td>0.7</td>\n",
              "      <td>0.3</td>\n",
              "      <td>0</td>\n",
              "      <td>SUPP</td>\n",
              "      <td>SUPP</td>\n",
              "      <td>SUPP</td>\n",
              "    </tr>\n",
              "    <tr>\n",
              "      <th>21</th>\n",
              "      <td>100307</td>\n",
              "      <td>204</td>\n",
              "      <td>34.8</td>\n",
              "      <td>65.2</td>\n",
              "      <td>100.0</td>\n",
              "      <td>0.0</td>\n",
              "      <td>23.5</td>\n",
              "      <td>76.5</td>\n",
              "      <td>0.0</td>\n",
              "      <td>74.1</td>\n",
              "      <td>65.9</td>\n",
              "      <td>5.6</td>\n",
              "      <td>15.2</td>\n",
              "      <td>22</td>\n",
              "      <td>21</td>\n",
              "      <td>1.3</td>\n",
              "      <td>-1.69</td>\n",
              "      <td>-2.24</td>\n",
              "      <td>-1.14</td>\n",
              "      <td>0.00</td>\n",
              "      <td>0.000</td>\n",
              "      <td>0.0</td>\n",
              "      <td>0.0</td>\n",
              "      <td>0.0</td>\n",
              "      <td>0.0</td>\n",
              "      <td>0.0</td>\n",
              "      <td>5</td>\n",
              "      <td>1</td>\n",
              "      <td>0</td>\n",
              "      <td>0</td>\n",
              "      <td>SUPP</td>\n",
              "      <td>SUPP</td>\n",
              "      <td>SUPP</td>\n",
              "    </tr>\n",
              "    <tr>\n",
              "      <th>22</th>\n",
              "      <td>100378</td>\n",
              "      <td>205</td>\n",
              "      <td>17.0</td>\n",
              "      <td>83.0</td>\n",
              "      <td>100.0</td>\n",
              "      <td>0.0</td>\n",
              "      <td>43.7</td>\n",
              "      <td>55.9</td>\n",
              "      <td>0.4</td>\n",
              "      <td>65.7</td>\n",
              "      <td>48.9</td>\n",
              "      <td>6.2</td>\n",
              "      <td>15.8</td>\n",
              "      <td>10</td>\n",
              "      <td>8</td>\n",
              "      <td>3.8</td>\n",
              "      <td>-1.52</td>\n",
              "      <td>-2.40</td>\n",
              "      <td>-0.63</td>\n",
              "      <td>0.25</td>\n",
              "      <td>0.000</td>\n",
              "      <td>0.0</td>\n",
              "      <td>0.0</td>\n",
              "      <td>0.0</td>\n",
              "      <td>0.0</td>\n",
              "      <td>0.0</td>\n",
              "      <td>5</td>\n",
              "      <td>1</td>\n",
              "      <td>0</td>\n",
              "      <td>0</td>\n",
              "      <td>SUPP</td>\n",
              "      <td>SUPP</td>\n",
              "      <td>SUPP</td>\n",
              "    </tr>\n",
              "    <tr>\n",
              "      <th>37</th>\n",
              "      <td>100654</td>\n",
              "      <td>208</td>\n",
              "      <td>27.3</td>\n",
              "      <td>72.7</td>\n",
              "      <td>100.0</td>\n",
              "      <td>0.0</td>\n",
              "      <td>34.7</td>\n",
              "      <td>65.3</td>\n",
              "      <td>0.0</td>\n",
              "      <td>76.9</td>\n",
              "      <td>66.9</td>\n",
              "      <td>8.9</td>\n",
              "      <td>19.8</td>\n",
              "      <td>15</td>\n",
              "      <td>11</td>\n",
              "      <td>1.2</td>\n",
              "      <td>-1.61</td>\n",
              "      <td>-2.37</td>\n",
              "      <td>-0.85</td>\n",
              "      <td>0.00</td>\n",
              "      <td>0.000</td>\n",
              "      <td>0.0</td>\n",
              "      <td>0.0</td>\n",
              "      <td>0.0</td>\n",
              "      <td>0.0</td>\n",
              "      <td>0.0</td>\n",
              "      <td>5</td>\n",
              "      <td>1</td>\n",
              "      <td>0</td>\n",
              "      <td>0</td>\n",
              "      <td>SUPP</td>\n",
              "      <td>SUPP</td>\n",
              "      <td>SUPP</td>\n",
              "    </tr>\n",
              "  </tbody>\n",
              "</table>\n",
              "</div>"
            ],
            "text/plain": [
              "       URN   LA  PNORG  ...  OVERALL_DESTPER_DIS  NOT_SUSTAINEDPER_DIS  UNKNOWNPER_DIS\n",
              "9   100092  202   11.8  ...                 SUPP                  SUPP            SUPP\n",
              "15  100204  203    0.0  ...                 SUPP                  SUPP            SUPP\n",
              "21  100307  204   34.8  ...                 SUPP                  SUPP            SUPP\n",
              "22  100378  205   17.0  ...                 SUPP                  SUPP            SUPP\n",
              "37  100654  208   27.3  ...                 SUPP                  SUPP            SUPP\n",
              "\n",
              "[5 rows x 33 columns]"
            ]
          },
          "metadata": {
            "tags": []
          },
          "execution_count": 9
        }
      ]
    },
    {
      "cell_type": "markdown",
      "metadata": {
        "id": "aTCslYKpvlee"
      },
      "source": [
        "- from above there are 595 rows with a non-numeric value. To check the unique string values in this dataframe, below code is written:"
      ]
    },
    {
      "cell_type": "code",
      "metadata": {
        "colab": {
          "base_uri": "https://localhost:8080/"
        },
        "id": "VZrUJTsuwrII",
        "outputId": "6f892c01-7008-445f-d3ed-466d935a0aa6"
      },
      "source": [
        "a=[]\n",
        "for b in string_df:\n",
        "  for c in string_df[b]:\n",
        "    if type(c) is str:\n",
        "      a.append(c)\n",
        "d= []\n",
        "for i in a:\n",
        "  if i not in d:\n",
        "    d.append(i)\n",
        "print(d)"
      ],
      "execution_count": null,
      "outputs": [
        {
          "output_type": "stream",
          "text": [
            "['SUPP', 'SP']\n"
          ],
          "name": "stdout"
        }
      ]
    },
    {
      "cell_type": "markdown",
      "metadata": {
        "id": "N8OJ025T2nNv"
      },
      "source": [
        "- Now we can give special numeric value to (SUPP and SP) ranging from 0 - 1 based on observation\n",
        "- Let SUPP = 0.5 and SP = 0.4"
      ]
    },
    {
      "cell_type": "code",
      "metadata": {
        "id": "BbpQy1183BNY"
      },
      "source": [
        "rep_df = num_df.replace(['SUPP','SP'], [0.5,0.4])"
      ],
      "execution_count": null,
      "outputs": []
    },
    {
      "cell_type": "markdown",
      "metadata": {
        "id": "7u-MSUnJ5age"
      },
      "source": [
        "- since we have the dataframe of rows containing the string values from (string_df), we can use below line of code to locate each of those rows to confirm replacement of the special numeric value"
      ]
    },
    {
      "cell_type": "code",
      "metadata": {
        "colab": {
          "base_uri": "https://localhost:8080/",
          "height": 224
        },
        "id": "SSVJbaCX5rSU",
        "outputId": "8ee5244f-3260-405c-aee2-e3c867375bdd"
      },
      "source": [
        "rep_df.loc[[9,15,21,22,37]]"
      ],
      "execution_count": null,
      "outputs": [
        {
          "output_type": "execute_result",
          "data": {
            "text/html": [
              "<div>\n",
              "<style scoped>\n",
              "    .dataframe tbody tr th:only-of-type {\n",
              "        vertical-align: middle;\n",
              "    }\n",
              "\n",
              "    .dataframe tbody tr th {\n",
              "        vertical-align: top;\n",
              "    }\n",
              "\n",
              "    .dataframe thead th {\n",
              "        text-align: right;\n",
              "    }\n",
              "</style>\n",
              "<table border=\"1\" class=\"dataframe\">\n",
              "  <thead>\n",
              "    <tr style=\"text-align: right;\">\n",
              "      <th></th>\n",
              "      <th>URN</th>\n",
              "      <th>LA</th>\n",
              "      <th>PNORG</th>\n",
              "      <th>PNORB</th>\n",
              "      <th>PSENELSE</th>\n",
              "      <th>PSENELK</th>\n",
              "      <th>PNUMEAL</th>\n",
              "      <th>PNUMENGFL</th>\n",
              "      <th>PNUMUNCFL</th>\n",
              "      <th>PNUMFSMEVER</th>\n",
              "      <th>PNUMFSM</th>\n",
              "      <th>PERCTOT</th>\n",
              "      <th>PPERSABS10</th>\n",
              "      <th>TPUP</th>\n",
              "      <th>P8PUP</th>\n",
              "      <th>ATT8SCR</th>\n",
              "      <th>P8MEA</th>\n",
              "      <th>P8CILOW</th>\n",
              "      <th>P8CIUPP</th>\n",
              "      <th>EBACCAPS</th>\n",
              "      <th>PTL2BASICS_94</th>\n",
              "      <th>PTL2BASICS_95</th>\n",
              "      <th>PTEBACC_E_PTQ_EE</th>\n",
              "      <th>PTEBACC_94</th>\n",
              "      <th>PTEBACC_95</th>\n",
              "      <th>PT5EM_94</th>\n",
              "      <th>P8_BANDING</th>\n",
              "      <th>OVERALL_DESTPER</th>\n",
              "      <th>NOT_SUSTAINEDPER</th>\n",
              "      <th>UNKNOWNPER</th>\n",
              "      <th>OVERALL_DESTPER_DIS</th>\n",
              "      <th>NOT_SUSTAINEDPER_DIS</th>\n",
              "      <th>UNKNOWNPER_DIS</th>\n",
              "    </tr>\n",
              "  </thead>\n",
              "  <tbody>\n",
              "    <tr>\n",
              "      <th>9</th>\n",
              "      <td>100092</td>\n",
              "      <td>202</td>\n",
              "      <td>11.8</td>\n",
              "      <td>88.2</td>\n",
              "      <td>100.0</td>\n",
              "      <td>0.0</td>\n",
              "      <td>20.6</td>\n",
              "      <td>79.4</td>\n",
              "      <td>0.0</td>\n",
              "      <td>91.2</td>\n",
              "      <td>67.6</td>\n",
              "      <td>27.9</td>\n",
              "      <td>81.4</td>\n",
              "      <td>17</td>\n",
              "      <td>16</td>\n",
              "      <td>3.4</td>\n",
              "      <td>-2.98</td>\n",
              "      <td>-3.60</td>\n",
              "      <td>-2.35</td>\n",
              "      <td>0.23</td>\n",
              "      <td>0.059</td>\n",
              "      <td>0.0</td>\n",
              "      <td>0.0</td>\n",
              "      <td>0.0</td>\n",
              "      <td>0.0</td>\n",
              "      <td>0.0</td>\n",
              "      <td>5.0</td>\n",
              "      <td>0.63</td>\n",
              "      <td>0.25</td>\n",
              "      <td>0.13</td>\n",
              "      <td>0.5</td>\n",
              "      <td>0.5</td>\n",
              "      <td>0.5</td>\n",
              "    </tr>\n",
              "    <tr>\n",
              "      <th>15</th>\n",
              "      <td>100204</td>\n",
              "      <td>203</td>\n",
              "      <td>0.0</td>\n",
              "      <td>100.0</td>\n",
              "      <td>100.0</td>\n",
              "      <td>0.0</td>\n",
              "      <td>0.0</td>\n",
              "      <td>100.0</td>\n",
              "      <td>0.0</td>\n",
              "      <td>90.9</td>\n",
              "      <td>51.5</td>\n",
              "      <td>20.8</td>\n",
              "      <td>60.0</td>\n",
              "      <td>9</td>\n",
              "      <td>8</td>\n",
              "      <td>9.6</td>\n",
              "      <td>-1.90</td>\n",
              "      <td>-2.79</td>\n",
              "      <td>-1.01</td>\n",
              "      <td>0.19</td>\n",
              "      <td>0.000</td>\n",
              "      <td>0.0</td>\n",
              "      <td>0.0</td>\n",
              "      <td>0.0</td>\n",
              "      <td>0.0</td>\n",
              "      <td>0.0</td>\n",
              "      <td>5.0</td>\n",
              "      <td>0.70</td>\n",
              "      <td>0.30</td>\n",
              "      <td>0.00</td>\n",
              "      <td>0.5</td>\n",
              "      <td>0.5</td>\n",
              "      <td>0.5</td>\n",
              "    </tr>\n",
              "    <tr>\n",
              "      <th>21</th>\n",
              "      <td>100307</td>\n",
              "      <td>204</td>\n",
              "      <td>34.8</td>\n",
              "      <td>65.2</td>\n",
              "      <td>100.0</td>\n",
              "      <td>0.0</td>\n",
              "      <td>23.5</td>\n",
              "      <td>76.5</td>\n",
              "      <td>0.0</td>\n",
              "      <td>74.1</td>\n",
              "      <td>65.9</td>\n",
              "      <td>5.6</td>\n",
              "      <td>15.2</td>\n",
              "      <td>22</td>\n",
              "      <td>21</td>\n",
              "      <td>1.3</td>\n",
              "      <td>-1.69</td>\n",
              "      <td>-2.24</td>\n",
              "      <td>-1.14</td>\n",
              "      <td>0.00</td>\n",
              "      <td>0.000</td>\n",
              "      <td>0.0</td>\n",
              "      <td>0.0</td>\n",
              "      <td>0.0</td>\n",
              "      <td>0.0</td>\n",
              "      <td>0.0</td>\n",
              "      <td>5.0</td>\n",
              "      <td>1.00</td>\n",
              "      <td>0.00</td>\n",
              "      <td>0.00</td>\n",
              "      <td>0.5</td>\n",
              "      <td>0.5</td>\n",
              "      <td>0.5</td>\n",
              "    </tr>\n",
              "    <tr>\n",
              "      <th>22</th>\n",
              "      <td>100378</td>\n",
              "      <td>205</td>\n",
              "      <td>17.0</td>\n",
              "      <td>83.0</td>\n",
              "      <td>100.0</td>\n",
              "      <td>0.0</td>\n",
              "      <td>43.7</td>\n",
              "      <td>55.9</td>\n",
              "      <td>0.4</td>\n",
              "      <td>65.7</td>\n",
              "      <td>48.9</td>\n",
              "      <td>6.2</td>\n",
              "      <td>15.8</td>\n",
              "      <td>10</td>\n",
              "      <td>8</td>\n",
              "      <td>3.8</td>\n",
              "      <td>-1.52</td>\n",
              "      <td>-2.40</td>\n",
              "      <td>-0.63</td>\n",
              "      <td>0.25</td>\n",
              "      <td>0.000</td>\n",
              "      <td>0.0</td>\n",
              "      <td>0.0</td>\n",
              "      <td>0.0</td>\n",
              "      <td>0.0</td>\n",
              "      <td>0.0</td>\n",
              "      <td>5.0</td>\n",
              "      <td>1.00</td>\n",
              "      <td>0.00</td>\n",
              "      <td>0.00</td>\n",
              "      <td>0.5</td>\n",
              "      <td>0.5</td>\n",
              "      <td>0.5</td>\n",
              "    </tr>\n",
              "    <tr>\n",
              "      <th>37</th>\n",
              "      <td>100654</td>\n",
              "      <td>208</td>\n",
              "      <td>27.3</td>\n",
              "      <td>72.7</td>\n",
              "      <td>100.0</td>\n",
              "      <td>0.0</td>\n",
              "      <td>34.7</td>\n",
              "      <td>65.3</td>\n",
              "      <td>0.0</td>\n",
              "      <td>76.9</td>\n",
              "      <td>66.9</td>\n",
              "      <td>8.9</td>\n",
              "      <td>19.8</td>\n",
              "      <td>15</td>\n",
              "      <td>11</td>\n",
              "      <td>1.2</td>\n",
              "      <td>-1.61</td>\n",
              "      <td>-2.37</td>\n",
              "      <td>-0.85</td>\n",
              "      <td>0.00</td>\n",
              "      <td>0.000</td>\n",
              "      <td>0.0</td>\n",
              "      <td>0.0</td>\n",
              "      <td>0.0</td>\n",
              "      <td>0.0</td>\n",
              "      <td>0.0</td>\n",
              "      <td>5.0</td>\n",
              "      <td>1.00</td>\n",
              "      <td>0.00</td>\n",
              "      <td>0.00</td>\n",
              "      <td>0.5</td>\n",
              "      <td>0.5</td>\n",
              "      <td>0.5</td>\n",
              "    </tr>\n",
              "  </tbody>\n",
              "</table>\n",
              "</div>"
            ],
            "text/plain": [
              "       URN   LA  ...  NOT_SUSTAINEDPER_DIS  UNKNOWNPER_DIS\n",
              "9   100092  202  ...                   0.5             0.5\n",
              "15  100204  203  ...                   0.5             0.5\n",
              "21  100307  204  ...                   0.5             0.5\n",
              "22  100378  205  ...                   0.5             0.5\n",
              "37  100654  208  ...                   0.5             0.5\n",
              "\n",
              "[5 rows x 33 columns]"
            ]
          },
          "metadata": {
            "tags": []
          },
          "execution_count": 12
        }
      ]
    },
    {
      "cell_type": "markdown",
      "metadata": {
        "id": "cLVjyTVn6TiX"
      },
      "source": [
        "Examining the non-numeric features (GENDER, RELCHAR, Rating) and checking frequency of each value"
      ]
    },
    {
      "cell_type": "code",
      "metadata": {
        "colab": {
          "base_uri": "https://localhost:8080/",
          "height": 204
        },
        "id": "EsaRnlTB65Wu",
        "outputId": "404fd59d-6fdb-4cc8-db19-be6399e172c5"
      },
      "source": [
        "nnum_df = com_ofsted_df[[\"GENDER\", \"RELCHAR\", \"Rating\"]]\n",
        "nnum_df.head()"
      ],
      "execution_count": null,
      "outputs": [
        {
          "output_type": "execute_result",
          "data": {
            "text/html": [
              "<div>\n",
              "<style scoped>\n",
              "    .dataframe tbody tr th:only-of-type {\n",
              "        vertical-align: middle;\n",
              "    }\n",
              "\n",
              "    .dataframe tbody tr th {\n",
              "        vertical-align: top;\n",
              "    }\n",
              "\n",
              "    .dataframe thead th {\n",
              "        text-align: right;\n",
              "    }\n",
              "</style>\n",
              "<table border=\"1\" class=\"dataframe\">\n",
              "  <thead>\n",
              "    <tr style=\"text-align: right;\">\n",
              "      <th></th>\n",
              "      <th>GENDER</th>\n",
              "      <th>RELCHAR</th>\n",
              "      <th>Rating</th>\n",
              "    </tr>\n",
              "  </thead>\n",
              "  <tbody>\n",
              "    <tr>\n",
              "      <th>0</th>\n",
              "      <td>Mixed</td>\n",
              "      <td>Does not apply</td>\n",
              "      <td>Good</td>\n",
              "    </tr>\n",
              "    <tr>\n",
              "      <th>1</th>\n",
              "      <td>Girls</td>\n",
              "      <td>Does not apply</td>\n",
              "      <td>Good</td>\n",
              "    </tr>\n",
              "    <tr>\n",
              "      <th>2</th>\n",
              "      <td>Mixed</td>\n",
              "      <td>Does not apply</td>\n",
              "      <td>Good</td>\n",
              "    </tr>\n",
              "    <tr>\n",
              "      <th>3</th>\n",
              "      <td>Mixed</td>\n",
              "      <td>Does not apply</td>\n",
              "      <td>Good</td>\n",
              "    </tr>\n",
              "    <tr>\n",
              "      <th>4</th>\n",
              "      <td>Mixed</td>\n",
              "      <td>Does not apply</td>\n",
              "      <td>Good</td>\n",
              "    </tr>\n",
              "  </tbody>\n",
              "</table>\n",
              "</div>"
            ],
            "text/plain": [
              "  GENDER         RELCHAR Rating\n",
              "0  Mixed  Does not apply   Good\n",
              "1  Girls  Does not apply   Good\n",
              "2  Mixed  Does not apply   Good\n",
              "3  Mixed  Does not apply   Good\n",
              "4  Mixed  Does not apply   Good"
            ]
          },
          "metadata": {
            "tags": []
          },
          "execution_count": 13
        }
      ]
    },
    {
      "cell_type": "code",
      "metadata": {
        "colab": {
          "base_uri": "https://localhost:8080/",
          "height": 821
        },
        "id": "aOSqk8gh7iqW",
        "outputId": "1398ea72-52b6-4ce3-8d45-778a7d17bc6b"
      },
      "source": [
        "for cols in nnum_df:\n",
        "  sns.countplot(y = nnum_df[cols])\n",
        "  plt.show()\n",
        "# The plots are rotated because the x labels large and clashes with each other"
      ],
      "execution_count": null,
      "outputs": [
        {
          "output_type": "display_data",
          "data": {
            "image/png": "[encoded data removed]",
            "text/plain": [
              "<Figure size 432x288 with 1 Axes>"
            ]
          },
          "metadata": {
            "tags": [],
            "needs_background": "light"
          }
        },
        {
          "output_type": "display_data",
          "data": {
            "image/png": "[encoded data removed]",
            "text/plain": [
              "<Figure size 432x288 with 1 Axes>"
            ]
          },
          "metadata": {
            "tags": [],
            "needs_background": "light"
          }
        },
        {
          "output_type": "display_data",
          "data": {
            "image/png": "[encoded data removed]",
            "text/plain": [
              "<Figure size 432x288 with 1 Axes>"
            ]
          },
          "metadata": {
            "tags": [],
            "needs_background": "light"
          }
        }
      ]
    },
    {
      "cell_type": "markdown",
      "metadata": {
        "id": "bTOo-eWXERtV"
      },
      "source": [
        "Correlation between the proportion of children receiving free school meals in a school and that school’s Progress 8 score"
      ]
    },
    {
      "cell_type": "code",
      "metadata": {
        "colab": {
          "base_uri": "https://localhost:8080/",
          "height": 339
        },
        "id": "BcDf6x7TE4Gn",
        "outputId": "3fe442a8-a3bb-46df-b3c7-69562ca9bd87"
      },
      "source": [
        "plt.figure(figsize=(10,5))\n",
        "sns.regplot(data=rep_df, x='PNUMFSMEVER', y='P8MEA',scatter_kws={'alpha':0.3} )\n",
        "plt.xlabel('Percentage of Students Receiving Free School Meals')\n",
        "plt.ylabel('Progress 8 Adjusted Score')\n",
        "plt.gca().xaxis.set_major_formatter(PercentFormatter(100))"
      ],
      "execution_count": null,
      "outputs": [
        {
          "output_type": "display_data",
          "data": {
            "image/png": "[encoded data removed]",
            "text/plain": [
              "<Figure size 720x360 with 1 Axes>"
            ]
          },
          "metadata": {
            "tags": [],
            "needs_background": "light"
          }
        }
      ]
    },
    {
      "cell_type": "markdown",
      "metadata": {
        "id": "9SwqnPqrTgfr"
      },
      "source": [
        "- Correlation"
      ]
    },
    {
      "cell_type": "code",
      "metadata": {
        "colab": {
          "base_uri": "https://localhost:8080/"
        },
        "id": "KJ8r0Sc7UDvr",
        "outputId": "683464e3-125c-4f20-92d9-1b5ca7bdbef5"
      },
      "source": [
        "rep_df['PNUMFSMEVER'].corr(rep_df['P8MEA'], method = 'pearson')"
      ],
      "execution_count": null,
      "outputs": [
        {
          "output_type": "execute_result",
          "data": {
            "text/plain": [
              "-0.6239265805985821"
            ]
          },
          "metadata": {
            "tags": []
          },
          "execution_count": 16
        }
      ]
    },
    {
      "cell_type": "markdown",
      "metadata": {
        "id": "lTy5hxKaUTqE"
      },
      "source": [
        "> A large absolute value of the correlation indicates a stronger correlation between the two features and the result indicates a negative correlation, therefore this can be referred to as a **strong negative correlation** where large value of one feature correlates to small value of the other feature."
      ]
    },
    {
      "cell_type": "markdown",
      "metadata": {
        "id": "8fQ2ecdcWkKa"
      },
      "source": [
        "Correlation between a school’s Progress 8 score and its average Attainment 8 score"
      ]
    },
    {
      "cell_type": "code",
      "metadata": {
        "colab": {
          "base_uri": "https://localhost:8080/"
        },
        "id": "chbikHc8Wrru",
        "outputId": "7ccc6781-955e-4e3b-c59f-31ff087cfa99"
      },
      "source": [
        "rep_df['P8MEA'].corr(rep_df['ATT8SCR'], method = 'pearson')"
      ],
      "execution_count": null,
      "outputs": [
        {
          "output_type": "execute_result",
          "data": {
            "text/plain": [
              "0.9067677566215945"
            ]
          },
          "metadata": {
            "tags": []
          },
          "execution_count": 17
        }
      ]
    },
    {
      "cell_type": "markdown",
      "metadata": {
        "id": "3UMj0UN0XR59"
      },
      "source": [
        "> The above result indicates that the correllation between a school's Progress 8 score and its average Attainment 8 score is a **strong positive correlation**, that is an increase in one feature corresponds to an increase in the other feature "
      ]
    },
    {
      "cell_type": "markdown",
      "metadata": {
        "id": "vQu4-I68brPh"
      },
      "source": [
        "Violin plot to examine the relationship between the Progress 8 score (P8MEA) and the banding (P8_BANDING). "
      ]
    },
    {
      "cell_type": "code",
      "metadata": {
        "colab": {
          "base_uri": "https://localhost:8080/"
        },
        "id": "kYDhRRhYquVL",
        "outputId": "2e30306d-1634-457d-ff63-e86d33eaf7d9"
      },
      "source": [
        "plt.figure(figsize=(10,5))\n",
        "sns.violinplot(x=\"P8_BANDING\", y=\"P8MEA\", data=rep_df)\n",
        "plt.xlabel('Progress 8 Banding (1=Well Above Average, 5=Well Below Average, -1=No Banding)')\n",
        "plt.ylabel('Progress 8 Measure After adjustment')"
      ],
      "execution_count": null,
      "outputs": [
        {
          "output_type": "execute_result",
          "data": {
            "text/plain": [
              "Text(0, 0.5, 'Progress 8 Measure After adjustment')"
            ]
          },
          "metadata": {
            "tags": []
          },
          "execution_count": 18
        },
        {
          "output_type": "display_data",
          "data": {
            "image/png": "[encoded data removed]",
            "text/plain": [
              "<Figure size 720x360 with 1 Axes>"
            ]
          },
          "metadata": {
            "tags": [],
            "needs_background": "light"
          }
        }
      ]
    },
    {
      "cell_type": "markdown",
      "metadata": {
        "id": "4iJeLUwDxdIy"
      },
      "source": [
        "Incorporating the data in the sheet “la_and_region_codes_meta” to discover which Local Authority (LA) has the highest and lowest average Attainment 8 score and the highest and lowest Progress 8 score and also their region."
      ]
    },
    {
      "cell_type": "code",
      "metadata": {
        "colab": {
          "base_uri": "https://localhost:8080/"
        },
        "id": "eSM-ZN4uyDra",
        "outputId": "12ddc4fc-b5ca-4519-c304-4642b82da865"
      },
      "source": [
        "la_df = pd.read_csv('./la_and_region_codes_meta.csv')\n",
        "la_df.head()"
      ],
      "execution_count": null,
      "outputs": [
        {
          "output_type": "execute_result",
          "data": {
            "text/html": [
              "<div>\n",
              "<style scoped>\n",
              "    .dataframe tbody tr th:only-of-type {\n",
              "        vertical-align: middle;\n",
              "    }\n",
              "\n",
              "    .dataframe tbody tr th {\n",
              "        vertical-align: top;\n",
              "    }\n",
              "\n",
              "    .dataframe thead th {\n",
              "        text-align: right;\n",
              "    }\n",
              "</style>\n",
              "<table border=\"1\" class=\"dataframe\">\n",
              "  <thead>\n",
              "    <tr style=\"text-align: right;\">\n",
              "      <th></th>\n",
              "      <th>LEA</th>\n",
              "      <th>LA Name</th>\n",
              "      <th>REGION</th>\n",
              "      <th>REGION NAME</th>\n",
              "    </tr>\n",
              "  </thead>\n",
              "  <tbody>\n",
              "    <tr>\n",
              "      <th>0</th>\n",
              "      <td>841</td>\n",
              "      <td>Darlington</td>\n",
              "      <td>1</td>\n",
              "      <td>North East A</td>\n",
              "    </tr>\n",
              "    <tr>\n",
              "      <th>1</th>\n",
              "      <td>840</td>\n",
              "      <td>County Durham</td>\n",
              "      <td>1</td>\n",
              "      <td>North East A</td>\n",
              "    </tr>\n",
              "    <tr>\n",
              "      <th>2</th>\n",
              "      <td>805</td>\n",
              "      <td>Hartlepool</td>\n",
              "      <td>1</td>\n",
              "      <td>North East A</td>\n",
              "    </tr>\n",
              "    <tr>\n",
              "      <th>3</th>\n",
              "      <td>806</td>\n",
              "      <td>Middlesbrough</td>\n",
              "      <td>1</td>\n",
              "      <td>North East A</td>\n",
              "    </tr>\n",
              "    <tr>\n",
              "      <th>4</th>\n",
              "      <td>807</td>\n",
              "      <td>Redcar and Cleveland</td>\n",
              "      <td>1</td>\n",
              "      <td>North East A</td>\n",
              "    </tr>\n",
              "  </tbody>\n",
              "</table>\n",
              "</div>"
            ],
            "text/plain": [
              "   LEA               LA Name  REGION   REGION NAME\n",
              "0  841            Darlington       1  North East A\n",
              "1  840         County Durham       1  North East A\n",
              "2  805            Hartlepool       1  North East A\n",
              "3  806         Middlesbrough       1  North East A\n",
              "4  807  Redcar and Cleveland       1  North East A"
            ]
          },
          "metadata": {
            "tags": []
          },
          "execution_count": 19
        }
      ]
    },
    {
      "cell_type": "markdown",
      "metadata": {
        "id": "SBmdlIOe0Cv_"
      },
      "source": [
        "- highest average Attainment 8 score"
      ]
    },
    {
      "cell_type": "code",
      "metadata": {
        "colab": {
          "base_uri": "https://localhost:8080/"
        },
        "id": "zgk_lIVIybGg",
        "outputId": "b962e52f-07fc-41f7-ba09-a1b0e8dd87c6"
      },
      "source": [
        "rep_df.loc[rep_df['ATT8SCR']== rep_df['ATT8SCR'].max()]"
      ],
      "execution_count": null,
      "outputs": [
        {
          "output_type": "execute_result",
          "data": {
            "text/html": [
              "<div>\n",
              "<style scoped>\n",
              "    .dataframe tbody tr th:only-of-type {\n",
              "        vertical-align: middle;\n",
              "    }\n",
              "\n",
              "    .dataframe tbody tr th {\n",
              "        vertical-align: top;\n",
              "    }\n",
              "\n",
              "    .dataframe thead th {\n",
              "        text-align: right;\n",
              "    }\n",
              "</style>\n",
              "<table border=\"1\" class=\"dataframe\">\n",
              "  <thead>\n",
              "    <tr style=\"text-align: right;\">\n",
              "      <th></th>\n",
              "      <th>URN</th>\n",
              "      <th>LA</th>\n",
              "      <th>PNORG</th>\n",
              "      <th>PNORB</th>\n",
              "      <th>PSENELSE</th>\n",
              "      <th>PSENELK</th>\n",
              "      <th>PNUMEAL</th>\n",
              "      <th>PNUMENGFL</th>\n",
              "      <th>PNUMUNCFL</th>\n",
              "      <th>PNUMFSMEVER</th>\n",
              "      <th>PNUMFSM</th>\n",
              "      <th>PERCTOT</th>\n",
              "      <th>PPERSABS10</th>\n",
              "      <th>TPUP</th>\n",
              "      <th>P8PUP</th>\n",
              "      <th>ATT8SCR</th>\n",
              "      <th>P8MEA</th>\n",
              "      <th>P8CILOW</th>\n",
              "      <th>P8CIUPP</th>\n",
              "      <th>EBACCAPS</th>\n",
              "      <th>PTL2BASICS_94</th>\n",
              "      <th>PTL2BASICS_95</th>\n",
              "      <th>PTEBACC_E_PTQ_EE</th>\n",
              "      <th>PTEBACC_94</th>\n",
              "      <th>PTEBACC_95</th>\n",
              "      <th>PT5EM_94</th>\n",
              "      <th>P8_BANDING</th>\n",
              "      <th>OVERALL_DESTPER</th>\n",
              "      <th>NOT_SUSTAINEDPER</th>\n",
              "      <th>UNKNOWNPER</th>\n",
              "      <th>OVERALL_DESTPER_DIS</th>\n",
              "      <th>NOT_SUSTAINEDPER_DIS</th>\n",
              "      <th>UNKNOWNPER_DIS</th>\n",
              "    </tr>\n",
              "  </thead>\n",
              "  <tbody>\n",
              "    <tr>\n",
              "      <th>2162</th>\n",
              "      <td>138051</td>\n",
              "      <td>302</td>\n",
              "      <td>100.0</td>\n",
              "      <td>0.0</td>\n",
              "      <td>0.1</td>\n",
              "      <td>1.5</td>\n",
              "      <td>37.7</td>\n",
              "      <td>61.0</td>\n",
              "      <td>1.3</td>\n",
              "      <td>2.7</td>\n",
              "      <td>1.1</td>\n",
              "      <td>4.0</td>\n",
              "      <td>5.0</td>\n",
              "      <td>103</td>\n",
              "      <td>75</td>\n",
              "      <td>85.1</td>\n",
              "      <td>0.91</td>\n",
              "      <td>0.62</td>\n",
              "      <td>1.2</td>\n",
              "      <td>8.42</td>\n",
              "      <td>1.0</td>\n",
              "      <td>1.0</td>\n",
              "      <td>0.99</td>\n",
              "      <td>0.99</td>\n",
              "      <td>0.99</td>\n",
              "      <td>1.0</td>\n",
              "      <td>1.0</td>\n",
              "      <td>0.99</td>\n",
              "      <td>0.0</td>\n",
              "      <td>0.01</td>\n",
              "      <td>0.5</td>\n",
              "      <td>0.5</td>\n",
              "      <td>0.5</td>\n",
              "    </tr>\n",
              "  </tbody>\n",
              "</table>\n",
              "</div>"
            ],
            "text/plain": [
              "         URN   LA  ...  NOT_SUSTAINEDPER_DIS  UNKNOWNPER_DIS\n",
              "2162  138051  302  ...                   0.5             0.5\n",
              "\n",
              "[1 rows x 33 columns]"
            ]
          },
          "metadata": {
            "tags": []
          },
          "execution_count": 20
        }
      ]
    },
    {
      "cell_type": "code",
      "metadata": {
        "colab": {
          "base_uri": "https://localhost:8080/"
        },
        "id": "xAZ1GblBzMcY",
        "outputId": "436b2dcb-e941-4451-a8c1-c00af2fa305e"
      },
      "source": [
        "la_df.loc[la_df['LEA'] == 302, ['LA Name', 'REGION', 'REGION NAME']]"
      ],
      "execution_count": null,
      "outputs": [
        {
          "output_type": "execute_result",
          "data": {
            "text/html": [
              "<div>\n",
              "<style scoped>\n",
              "    .dataframe tbody tr th:only-of-type {\n",
              "        vertical-align: middle;\n",
              "    }\n",
              "\n",
              "    .dataframe tbody tr th {\n",
              "        vertical-align: top;\n",
              "    }\n",
              "\n",
              "    .dataframe thead th {\n",
              "        text-align: right;\n",
              "    }\n",
              "</style>\n",
              "<table border=\"1\" class=\"dataframe\">\n",
              "  <thead>\n",
              "    <tr style=\"text-align: right;\">\n",
              "      <th></th>\n",
              "      <th>LA Name</th>\n",
              "      <th>REGION</th>\n",
              "      <th>REGION NAME</th>\n",
              "    </tr>\n",
              "  </thead>\n",
              "  <tbody>\n",
              "    <tr>\n",
              "      <th>101</th>\n",
              "      <td>Barnet</td>\n",
              "      <td>33</td>\n",
              "      <td>London North</td>\n",
              "    </tr>\n",
              "  </tbody>\n",
              "</table>\n",
              "</div>"
            ],
            "text/plain": [
              "    LA Name  REGION   REGION NAME\n",
              "101  Barnet      33  London North"
            ]
          },
          "metadata": {
            "tags": []
          },
          "execution_count": 21
        }
      ]
    },
    {
      "cell_type": "markdown",
      "metadata": {
        "id": "7jzVFyTc1E1P"
      },
      "source": [
        "- lowest score"
      ]
    },
    {
      "cell_type": "code",
      "metadata": {
        "colab": {
          "base_uri": "https://localhost:8080/"
        },
        "id": "PpaW0s891Gd_",
        "outputId": "15d5418e-5bd3-410d-89f7-98f85ba9eea7"
      },
      "source": [
        "rep_df.loc[rep_df['ATT8SCR']== rep_df['ATT8SCR'].min()]"
      ],
      "execution_count": null,
      "outputs": [
        {
          "output_type": "execute_result",
          "data": {
            "text/html": [
              "<div>\n",
              "<style scoped>\n",
              "    .dataframe tbody tr th:only-of-type {\n",
              "        vertical-align: middle;\n",
              "    }\n",
              "\n",
              "    .dataframe tbody tr th {\n",
              "        vertical-align: top;\n",
              "    }\n",
              "\n",
              "    .dataframe thead th {\n",
              "        text-align: right;\n",
              "    }\n",
              "</style>\n",
              "<table border=\"1\" class=\"dataframe\">\n",
              "  <thead>\n",
              "    <tr style=\"text-align: right;\">\n",
              "      <th></th>\n",
              "      <th>URN</th>\n",
              "      <th>LA</th>\n",
              "      <th>PNORG</th>\n",
              "      <th>PNORB</th>\n",
              "      <th>PSENELSE</th>\n",
              "      <th>PSENELK</th>\n",
              "      <th>PNUMEAL</th>\n",
              "      <th>PNUMENGFL</th>\n",
              "      <th>PNUMUNCFL</th>\n",
              "      <th>PNUMFSMEVER</th>\n",
              "      <th>PNUMFSM</th>\n",
              "      <th>PERCTOT</th>\n",
              "      <th>PPERSABS10</th>\n",
              "      <th>TPUP</th>\n",
              "      <th>P8PUP</th>\n",
              "      <th>ATT8SCR</th>\n",
              "      <th>P8MEA</th>\n",
              "      <th>P8CILOW</th>\n",
              "      <th>P8CIUPP</th>\n",
              "      <th>EBACCAPS</th>\n",
              "      <th>PTL2BASICS_94</th>\n",
              "      <th>PTL2BASICS_95</th>\n",
              "      <th>PTEBACC_E_PTQ_EE</th>\n",
              "      <th>PTEBACC_94</th>\n",
              "      <th>PTEBACC_95</th>\n",
              "      <th>PT5EM_94</th>\n",
              "      <th>P8_BANDING</th>\n",
              "      <th>OVERALL_DESTPER</th>\n",
              "      <th>NOT_SUSTAINEDPER</th>\n",
              "      <th>UNKNOWNPER</th>\n",
              "      <th>OVERALL_DESTPER_DIS</th>\n",
              "      <th>NOT_SUSTAINEDPER_DIS</th>\n",
              "      <th>UNKNOWNPER_DIS</th>\n",
              "    </tr>\n",
              "  </thead>\n",
              "  <tbody>\n",
              "    <tr>\n",
              "      <th>799</th>\n",
              "      <td>123345</td>\n",
              "      <td>931</td>\n",
              "      <td>35.3</td>\n",
              "      <td>64.7</td>\n",
              "      <td>100.0</td>\n",
              "      <td>0.0</td>\n",
              "      <td>11.8</td>\n",
              "      <td>88.2</td>\n",
              "      <td>0.0</td>\n",
              "      <td>50.7</td>\n",
              "      <td>41.2</td>\n",
              "      <td>9.9</td>\n",
              "      <td>32.3</td>\n",
              "      <td>6</td>\n",
              "      <td>6</td>\n",
              "      <td>0.0</td>\n",
              "      <td>-1.61</td>\n",
              "      <td>-2.63</td>\n",
              "      <td>-0.58</td>\n",
              "      <td>0.0</td>\n",
              "      <td>0.0</td>\n",
              "      <td>0.0</td>\n",
              "      <td>0.0</td>\n",
              "      <td>0.0</td>\n",
              "      <td>0.0</td>\n",
              "      <td>0.0</td>\n",
              "      <td>5.0</td>\n",
              "      <td>0.5</td>\n",
              "      <td>0.50</td>\n",
              "      <td>0.50</td>\n",
              "      <td>0.5</td>\n",
              "      <td>0.5</td>\n",
              "      <td>0.5</td>\n",
              "    </tr>\n",
              "    <tr>\n",
              "      <th>999</th>\n",
              "      <td>135015</td>\n",
              "      <td>888</td>\n",
              "      <td>32.0</td>\n",
              "      <td>68.0</td>\n",
              "      <td>99.2</td>\n",
              "      <td>0.8</td>\n",
              "      <td>30.5</td>\n",
              "      <td>69.5</td>\n",
              "      <td>0.0</td>\n",
              "      <td>47.0</td>\n",
              "      <td>32.0</td>\n",
              "      <td>7.6</td>\n",
              "      <td>20.2</td>\n",
              "      <td>7</td>\n",
              "      <td>7</td>\n",
              "      <td>0.0</td>\n",
              "      <td>-1.53</td>\n",
              "      <td>-2.48</td>\n",
              "      <td>-0.58</td>\n",
              "      <td>0.0</td>\n",
              "      <td>0.0</td>\n",
              "      <td>0.0</td>\n",
              "      <td>0.0</td>\n",
              "      <td>0.0</td>\n",
              "      <td>0.0</td>\n",
              "      <td>0.0</td>\n",
              "      <td>5.0</td>\n",
              "      <td>0.9</td>\n",
              "      <td>0.05</td>\n",
              "      <td>0.05</td>\n",
              "      <td>0.9</td>\n",
              "      <td>0.0</td>\n",
              "      <td>0.1</td>\n",
              "    </tr>\n",
              "  </tbody>\n",
              "</table>\n",
              "</div>"
            ],
            "text/plain": [
              "        URN   LA  ...  NOT_SUSTAINEDPER_DIS  UNKNOWNPER_DIS\n",
              "799  123345  931  ...                   0.5             0.5\n",
              "999  135015  888  ...                   0.0             0.1\n",
              "\n",
              "[2 rows x 33 columns]"
            ]
          },
          "metadata": {
            "tags": []
          },
          "execution_count": 22
        }
      ]
    },
    {
      "cell_type": "code",
      "metadata": {
        "colab": {
          "base_uri": "https://localhost:8080/"
        },
        "id": "YTr6kmPs1Ux6",
        "outputId": "58199020-c620-4ae9-ea7c-1fbb6e9d936a"
      },
      "source": [
        "la_df.loc[la_df['LEA']==931, ['LA Name', 'REGION', 'REGION NAME']]"
      ],
      "execution_count": null,
      "outputs": [
        {
          "output_type": "execute_result",
          "data": {
            "text/html": [
              "<div>\n",
              "<style scoped>\n",
              "    .dataframe tbody tr th:only-of-type {\n",
              "        vertical-align: middle;\n",
              "    }\n",
              "\n",
              "    .dataframe tbody tr th {\n",
              "        vertical-align: top;\n",
              "    }\n",
              "\n",
              "    .dataframe thead th {\n",
              "        text-align: right;\n",
              "    }\n",
              "</style>\n",
              "<table border=\"1\" class=\"dataframe\">\n",
              "  <thead>\n",
              "    <tr style=\"text-align: right;\">\n",
              "      <th></th>\n",
              "      <th>LA Name</th>\n",
              "      <th>REGION</th>\n",
              "      <th>REGION NAME</th>\n",
              "    </tr>\n",
              "  </thead>\n",
              "  <tbody>\n",
              "    <tr>\n",
              "      <th>120</th>\n",
              "      <td>Oxfordshire</td>\n",
              "      <td>36</td>\n",
              "      <td>South East A</td>\n",
              "    </tr>\n",
              "  </tbody>\n",
              "</table>\n",
              "</div>"
            ],
            "text/plain": [
              "         LA Name  REGION   REGION NAME\n",
              "120  Oxfordshire      36  South East A"
            ]
          },
          "metadata": {
            "tags": []
          },
          "execution_count": 23
        }
      ]
    },
    {
      "cell_type": "code",
      "metadata": {
        "colab": {
          "base_uri": "https://localhost:8080/"
        },
        "id": "BelCia_2Toc4",
        "outputId": "e14aa441-ffd2-4f90-eba7-82838db747a9"
      },
      "source": [
        "la_df.loc[la_df['LEA']==888, ['LA Name', 'REGION', 'REGION NAME']]\n"
      ],
      "execution_count": null,
      "outputs": [
        {
          "output_type": "execute_result",
          "data": {
            "text/html": [
              "<div>\n",
              "<style scoped>\n",
              "    .dataframe tbody tr th:only-of-type {\n",
              "        vertical-align: middle;\n",
              "    }\n",
              "\n",
              "    .dataframe tbody tr th {\n",
              "        vertical-align: top;\n",
              "    }\n",
              "\n",
              "    .dataframe thead th {\n",
              "        text-align: right;\n",
              "    }\n",
              "</style>\n",
              "<table border=\"1\" class=\"dataframe\">\n",
              "  <thead>\n",
              "    <tr style=\"text-align: right;\">\n",
              "      <th></th>\n",
              "      <th>LA Name</th>\n",
              "      <th>REGION</th>\n",
              "      <th>REGION NAME</th>\n",
              "    </tr>\n",
              "  </thead>\n",
              "  <tbody>\n",
              "    <tr>\n",
              "      <th>15</th>\n",
              "      <td>Lancashire</td>\n",
              "      <td>6</td>\n",
              "      <td>North West A</td>\n",
              "    </tr>\n",
              "  </tbody>\n",
              "</table>\n",
              "</div>"
            ],
            "text/plain": [
              "       LA Name  REGION   REGION NAME\n",
              "15  Lancashire       6  North West A"
            ]
          },
          "metadata": {
            "tags": []
          },
          "execution_count": 24
        }
      ]
    },
    {
      "cell_type": "markdown",
      "metadata": {
        "id": "XNy-r4Rs0J6u"
      },
      "source": [
        "- highest Progress 8 score"
      ]
    },
    {
      "cell_type": "code",
      "metadata": {
        "colab": {
          "base_uri": "https://localhost:8080/"
        },
        "id": "oLhbTNoYz-o8",
        "outputId": "caa4cd94-d225-41f1-9244-2fac287f2c3d"
      },
      "source": [
        "rep_df.loc[rep_df['P8MEA']== rep_df['P8MEA'].max()]"
      ],
      "execution_count": null,
      "outputs": [
        {
          "output_type": "execute_result",
          "data": {
            "text/html": [
              "<div>\n",
              "<style scoped>\n",
              "    .dataframe tbody tr th:only-of-type {\n",
              "        vertical-align: middle;\n",
              "    }\n",
              "\n",
              "    .dataframe tbody tr th {\n",
              "        vertical-align: top;\n",
              "    }\n",
              "\n",
              "    .dataframe thead th {\n",
              "        text-align: right;\n",
              "    }\n",
              "</style>\n",
              "<table border=\"1\" class=\"dataframe\">\n",
              "  <thead>\n",
              "    <tr style=\"text-align: right;\">\n",
              "      <th></th>\n",
              "      <th>URN</th>\n",
              "      <th>LA</th>\n",
              "      <th>PNORG</th>\n",
              "      <th>PNORB</th>\n",
              "      <th>PSENELSE</th>\n",
              "      <th>PSENELK</th>\n",
              "      <th>PNUMEAL</th>\n",
              "      <th>PNUMENGFL</th>\n",
              "      <th>PNUMUNCFL</th>\n",
              "      <th>PNUMFSMEVER</th>\n",
              "      <th>PNUMFSM</th>\n",
              "      <th>PERCTOT</th>\n",
              "      <th>PPERSABS10</th>\n",
              "      <th>TPUP</th>\n",
              "      <th>P8PUP</th>\n",
              "      <th>ATT8SCR</th>\n",
              "      <th>P8MEA</th>\n",
              "      <th>P8CILOW</th>\n",
              "      <th>P8CIUPP</th>\n",
              "      <th>EBACCAPS</th>\n",
              "      <th>PTL2BASICS_94</th>\n",
              "      <th>PTL2BASICS_95</th>\n",
              "      <th>PTEBACC_E_PTQ_EE</th>\n",
              "      <th>PTEBACC_94</th>\n",
              "      <th>PTEBACC_95</th>\n",
              "      <th>PT5EM_94</th>\n",
              "      <th>P8_BANDING</th>\n",
              "      <th>OVERALL_DESTPER</th>\n",
              "      <th>NOT_SUSTAINEDPER</th>\n",
              "      <th>UNKNOWNPER</th>\n",
              "      <th>OVERALL_DESTPER_DIS</th>\n",
              "      <th>NOT_SUSTAINEDPER_DIS</th>\n",
              "      <th>UNKNOWNPER_DIS</th>\n",
              "    </tr>\n",
              "  </thead>\n",
              "  <tbody>\n",
              "    <tr>\n",
              "      <th>2824</th>\n",
              "      <td>141565</td>\n",
              "      <td>889</td>\n",
              "      <td>100.0</td>\n",
              "      <td>0.0</td>\n",
              "      <td>0.7</td>\n",
              "      <td>14.8</td>\n",
              "      <td>82.0</td>\n",
              "      <td>18.0</td>\n",
              "      <td>0.0</td>\n",
              "      <td>17.1</td>\n",
              "      <td>8.5</td>\n",
              "      <td>2.1</td>\n",
              "      <td>3.6</td>\n",
              "      <td>120</td>\n",
              "      <td>113</td>\n",
              "      <td>69.9</td>\n",
              "      <td>2.17</td>\n",
              "      <td>1.94</td>\n",
              "      <td>2.41</td>\n",
              "      <td>6.55</td>\n",
              "      <td>0.933</td>\n",
              "      <td>0.833</td>\n",
              "      <td>0.933</td>\n",
              "      <td>0.792</td>\n",
              "      <td>0.65</td>\n",
              "      <td>0.933</td>\n",
              "      <td>1.0</td>\n",
              "      <td>0.94</td>\n",
              "      <td>0.05</td>\n",
              "      <td>0.01</td>\n",
              "      <td>0.83</td>\n",
              "      <td>0.17</td>\n",
              "      <td>0.0</td>\n",
              "    </tr>\n",
              "  </tbody>\n",
              "</table>\n",
              "</div>"
            ],
            "text/plain": [
              "         URN   LA  ...  NOT_SUSTAINEDPER_DIS  UNKNOWNPER_DIS\n",
              "2824  141565  889  ...                  0.17             0.0\n",
              "\n",
              "[1 rows x 33 columns]"
            ]
          },
          "metadata": {
            "tags": []
          },
          "execution_count": 25
        }
      ]
    },
    {
      "cell_type": "code",
      "metadata": {
        "colab": {
          "base_uri": "https://localhost:8080/"
        },
        "id": "V6-QKQBc0WPY",
        "outputId": "848ad7af-7dda-4baa-c9e9-d9c21bb6f37a"
      },
      "source": [
        "la_df.loc[la_df['LEA'] == 889, ['LA Name', 'REGION', 'REGION NAME']]"
      ],
      "execution_count": null,
      "outputs": [
        {
          "output_type": "execute_result",
          "data": {
            "text/html": [
              "<div>\n",
              "<style scoped>\n",
              "    .dataframe tbody tr th:only-of-type {\n",
              "        vertical-align: middle;\n",
              "    }\n",
              "\n",
              "    .dataframe tbody tr th {\n",
              "        vertical-align: top;\n",
              "    }\n",
              "\n",
              "    .dataframe thead th {\n",
              "        text-align: right;\n",
              "    }\n",
              "</style>\n",
              "<table border=\"1\" class=\"dataframe\">\n",
              "  <thead>\n",
              "    <tr style=\"text-align: right;\">\n",
              "      <th></th>\n",
              "      <th>LA Name</th>\n",
              "      <th>REGION</th>\n",
              "      <th>REGION NAME</th>\n",
              "    </tr>\n",
              "  </thead>\n",
              "  <tbody>\n",
              "    <tr>\n",
              "      <th>12</th>\n",
              "      <td>Blackburn with Darwen</td>\n",
              "      <td>6</td>\n",
              "      <td>North West A</td>\n",
              "    </tr>\n",
              "  </tbody>\n",
              "</table>\n",
              "</div>"
            ],
            "text/plain": [
              "                  LA Name  REGION   REGION NAME\n",
              "12  Blackburn with Darwen       6  North West A"
            ]
          },
          "metadata": {
            "tags": []
          },
          "execution_count": 26
        }
      ]
    },
    {
      "cell_type": "markdown",
      "metadata": {
        "id": "WOMjPF-n0doq"
      },
      "source": [
        "- lowest score"
      ]
    },
    {
      "cell_type": "code",
      "metadata": {
        "colab": {
          "base_uri": "https://localhost:8080/"
        },
        "id": "GFYHxX-405D0",
        "outputId": "e30a4fca-0f51-4a47-92a4-07d263c5fc64"
      },
      "source": [
        "rep_df.loc[rep_df['P8MEA']== rep_df['P8MEA'].min()]"
      ],
      "execution_count": null,
      "outputs": [
        {
          "output_type": "execute_result",
          "data": {
            "text/html": [
              "<div>\n",
              "<style scoped>\n",
              "    .dataframe tbody tr th:only-of-type {\n",
              "        vertical-align: middle;\n",
              "    }\n",
              "\n",
              "    .dataframe tbody tr th {\n",
              "        vertical-align: top;\n",
              "    }\n",
              "\n",
              "    .dataframe thead th {\n",
              "        text-align: right;\n",
              "    }\n",
              "</style>\n",
              "<table border=\"1\" class=\"dataframe\">\n",
              "  <thead>\n",
              "    <tr style=\"text-align: right;\">\n",
              "      <th></th>\n",
              "      <th>URN</th>\n",
              "      <th>LA</th>\n",
              "      <th>PNORG</th>\n",
              "      <th>PNORB</th>\n",
              "      <th>PSENELSE</th>\n",
              "      <th>PSENELK</th>\n",
              "      <th>PNUMEAL</th>\n",
              "      <th>PNUMENGFL</th>\n",
              "      <th>PNUMUNCFL</th>\n",
              "      <th>PNUMFSMEVER</th>\n",
              "      <th>PNUMFSM</th>\n",
              "      <th>PERCTOT</th>\n",
              "      <th>PPERSABS10</th>\n",
              "      <th>TPUP</th>\n",
              "      <th>P8PUP</th>\n",
              "      <th>ATT8SCR</th>\n",
              "      <th>P8MEA</th>\n",
              "      <th>P8CILOW</th>\n",
              "      <th>P8CIUPP</th>\n",
              "      <th>EBACCAPS</th>\n",
              "      <th>PTL2BASICS_94</th>\n",
              "      <th>PTL2BASICS_95</th>\n",
              "      <th>PTEBACC_E_PTQ_EE</th>\n",
              "      <th>PTEBACC_94</th>\n",
              "      <th>PTEBACC_95</th>\n",
              "      <th>PT5EM_94</th>\n",
              "      <th>P8_BANDING</th>\n",
              "      <th>OVERALL_DESTPER</th>\n",
              "      <th>NOT_SUSTAINEDPER</th>\n",
              "      <th>UNKNOWNPER</th>\n",
              "      <th>OVERALL_DESTPER_DIS</th>\n",
              "      <th>NOT_SUSTAINEDPER_DIS</th>\n",
              "      <th>UNKNOWNPER_DIS</th>\n",
              "    </tr>\n",
              "  </thead>\n",
              "  <tbody>\n",
              "    <tr>\n",
              "      <th>3033</th>\n",
              "      <td>143630</td>\n",
              "      <td>211</td>\n",
              "      <td>0.0</td>\n",
              "      <td>100.0</td>\n",
              "      <td>100.0</td>\n",
              "      <td>0.0</td>\n",
              "      <td>18.4</td>\n",
              "      <td>81.6</td>\n",
              "      <td>0.0</td>\n",
              "      <td>97.6</td>\n",
              "      <td>83.7</td>\n",
              "      <td>20.7</td>\n",
              "      <td>67.3</td>\n",
              "      <td>7</td>\n",
              "      <td>7</td>\n",
              "      <td>2.1</td>\n",
              "      <td>-3.53</td>\n",
              "      <td>-4.48</td>\n",
              "      <td>-2.58</td>\n",
              "      <td>0.26</td>\n",
              "      <td>0.0</td>\n",
              "      <td>0.0</td>\n",
              "      <td>0.0</td>\n",
              "      <td>0.0</td>\n",
              "      <td>0.0</td>\n",
              "      <td>0.0</td>\n",
              "      <td>5.0</td>\n",
              "      <td>0.86</td>\n",
              "      <td>0.0</td>\n",
              "      <td>0.14</td>\n",
              "      <td>0.5</td>\n",
              "      <td>0.5</td>\n",
              "      <td>0.5</td>\n",
              "    </tr>\n",
              "  </tbody>\n",
              "</table>\n",
              "</div>"
            ],
            "text/plain": [
              "         URN   LA  ...  NOT_SUSTAINEDPER_DIS  UNKNOWNPER_DIS\n",
              "3033  143630  211  ...                   0.5             0.5\n",
              "\n",
              "[1 rows x 33 columns]"
            ]
          },
          "metadata": {
            "tags": []
          },
          "execution_count": 27
        }
      ]
    },
    {
      "cell_type": "code",
      "metadata": {
        "colab": {
          "base_uri": "https://localhost:8080/"
        },
        "id": "xwGu7VA50_Na",
        "outputId": "3b2c40f3-4119-4e39-bff5-be6078594316"
      },
      "source": [
        "la_df.loc[la_df['LEA'] == 211, ['LA Name', 'REGION', 'REGION NAME']]"
      ],
      "execution_count": null,
      "outputs": [
        {
          "output_type": "execute_result",
          "data": {
            "text/html": [
              "<div>\n",
              "<style scoped>\n",
              "    .dataframe tbody tr th:only-of-type {\n",
              "        vertical-align: middle;\n",
              "    }\n",
              "\n",
              "    .dataframe tbody tr th {\n",
              "        vertical-align: top;\n",
              "    }\n",
              "\n",
              "    .dataframe thead th {\n",
              "        text-align: right;\n",
              "    }\n",
              "</style>\n",
              "<table border=\"1\" class=\"dataframe\">\n",
              "  <thead>\n",
              "    <tr style=\"text-align: right;\">\n",
              "      <th></th>\n",
              "      <th>LA Name</th>\n",
              "      <th>REGION</th>\n",
              "      <th>REGION NAME</th>\n",
              "    </tr>\n",
              "  </thead>\n",
              "  <tbody>\n",
              "    <tr>\n",
              "      <th>100</th>\n",
              "      <td>Tower Hamlets</td>\n",
              "      <td>32</td>\n",
              "      <td>London East</td>\n",
              "    </tr>\n",
              "  </tbody>\n",
              "</table>\n",
              "</div>"
            ],
            "text/plain": [
              "           LA Name  REGION  REGION NAME\n",
              "100  Tower Hamlets      32  London East"
            ]
          },
          "metadata": {
            "tags": []
          },
          "execution_count": 28
        }
      ]
    },
    {
      "cell_type": "markdown",
      "metadata": {
        "id": "XcmxHzs1T1EE"
      },
      "source": [
        "Combining all regions into one"
      ]
    },
    {
      "cell_type": "code",
      "metadata": {
        "colab": {
          "base_uri": "https://localhost:8080/"
        },
        "id": "FxzBCR7SUvdM",
        "outputId": "4aed87dd-576c-4e91-8c89-12a70dd2c463"
      },
      "source": [
        "la_df['ATT8SCR'] = rep_df['ATT8SCR']\n",
        "la_df.head()"
      ],
      "execution_count": null,
      "outputs": [
        {
          "output_type": "execute_result",
          "data": {
            "text/html": [
              "<div>\n",
              "<style scoped>\n",
              "    .dataframe tbody tr th:only-of-type {\n",
              "        vertical-align: middle;\n",
              "    }\n",
              "\n",
              "    .dataframe tbody tr th {\n",
              "        vertical-align: top;\n",
              "    }\n",
              "\n",
              "    .dataframe thead th {\n",
              "        text-align: right;\n",
              "    }\n",
              "</style>\n",
              "<table border=\"1\" class=\"dataframe\">\n",
              "  <thead>\n",
              "    <tr style=\"text-align: right;\">\n",
              "      <th></th>\n",
              "      <th>LEA</th>\n",
              "      <th>LA Name</th>\n",
              "      <th>REGION</th>\n",
              "      <th>REGION NAME</th>\n",
              "      <th>ATT8SCR</th>\n",
              "    </tr>\n",
              "  </thead>\n",
              "  <tbody>\n",
              "    <tr>\n",
              "      <th>0</th>\n",
              "      <td>841</td>\n",
              "      <td>Darlington</td>\n",
              "      <td>1</td>\n",
              "      <td>North East A</td>\n",
              "      <td>42.4</td>\n",
              "    </tr>\n",
              "    <tr>\n",
              "      <th>1</th>\n",
              "      <td>840</td>\n",
              "      <td>County Durham</td>\n",
              "      <td>1</td>\n",
              "      <td>North East A</td>\n",
              "      <td>58.6</td>\n",
              "    </tr>\n",
              "    <tr>\n",
              "      <th>2</th>\n",
              "      <td>805</td>\n",
              "      <td>Hartlepool</td>\n",
              "      <td>1</td>\n",
              "      <td>North East A</td>\n",
              "      <td>42.1</td>\n",
              "    </tr>\n",
              "    <tr>\n",
              "      <th>3</th>\n",
              "      <td>806</td>\n",
              "      <td>Middlesbrough</td>\n",
              "      <td>1</td>\n",
              "      <td>North East A</td>\n",
              "      <td>44.6</td>\n",
              "    </tr>\n",
              "    <tr>\n",
              "      <th>4</th>\n",
              "      <td>807</td>\n",
              "      <td>Redcar and Cleveland</td>\n",
              "      <td>1</td>\n",
              "      <td>North East A</td>\n",
              "      <td>47.2</td>\n",
              "    </tr>\n",
              "  </tbody>\n",
              "</table>\n",
              "</div>"
            ],
            "text/plain": [
              "   LEA               LA Name  REGION   REGION NAME  ATT8SCR\n",
              "0  841            Darlington       1  North East A     42.4\n",
              "1  840         County Durham       1  North East A     58.6\n",
              "2  805            Hartlepool       1  North East A     42.1\n",
              "3  806         Middlesbrough       1  North East A     44.6\n",
              "4  807  Redcar and Cleveland       1  North East A     47.2"
            ]
          },
          "metadata": {
            "tags": []
          },
          "execution_count": 29
        }
      ]
    },
    {
      "cell_type": "code",
      "metadata": {
        "colab": {
          "base_uri": "https://localhost:8080/"
        },
        "id": "whDendsYeHa9",
        "outputId": "583af21d-0417-430b-981b-5e5cee8d6b4e"
      },
      "source": [
        "la_df.groupby('REGION NAME').size()"
      ],
      "execution_count": null,
      "outputs": [
        {
          "output_type": "execute_result",
          "data": {
            "text/plain": [
              "REGION NAME\n",
              "East Midlands A                    4\n",
              "East Midlands B                    5\n",
              "East of England A                  6\n",
              "East of England B                  5\n",
              "London Central                     7\n",
              "London East                       10\n",
              "London North                       4\n",
              "London South                       6\n",
              "London West                        6\n",
              "North East A                       6\n",
              "North East B                       6\n",
              "North West A                       4\n",
              "North West B                      10\n",
              "North West C                       9\n",
              "North Yorkshire and The Humber     6\n",
              "South East A                       9\n",
              "South East B                       4\n",
              "South East C                       2\n",
              "South East D                       4\n",
              "South West A                       8\n",
              "South West B                       7\n",
              "South and West Yorkshire           9\n",
              "West Midlands A                    4\n",
              "West Midlands B                    2\n",
              "West Midlands C                    8\n",
              "dtype: int64"
            ]
          },
          "metadata": {
            "tags": []
          },
          "execution_count": 30
        }
      ]
    },
    {
      "cell_type": "code",
      "metadata": {
        "colab": {
          "base_uri": "https://localhost:8080/"
        },
        "id": "BpfJfg3MEPHK",
        "outputId": "98e3355b-f7ac-4c90-e7db-2d62dbf59b12"
      },
      "source": [
        "regions = ['London','South East','East of England','South West','East Midlands','West Midlands','Yorkshire','North West','North East']\n",
        "for i in regions:\n",
        "  la_df.loc[la_df['REGION NAME'].str.contains(i), 'REGION NAME']=i\n",
        "la_df.groupby('REGION NAME').size()"
      ],
      "execution_count": null,
      "outputs": [
        {
          "output_type": "execute_result",
          "data": {
            "text/plain": [
              "REGION NAME\n",
              "East Midlands       9\n",
              "East of England    11\n",
              "London             33\n",
              "North East         12\n",
              "North West         23\n",
              "South East         19\n",
              "South West         15\n",
              "West Midlands      14\n",
              "Yorkshire          15\n",
              "dtype: int64"
            ]
          },
          "metadata": {
            "tags": []
          },
          "execution_count": 31
        }
      ]
    },
    {
      "cell_type": "code",
      "metadata": {
        "colab": {
          "base_uri": "https://localhost:8080/"
        },
        "id": "cQgnYpHxJHcH",
        "outputId": "cf1bd6b3-5823-4d1d-b052-9cf1be77e977"
      },
      "source": [
        "re_a8_df = la_df[['REGION NAME','ATT8SCR']]\n",
        "re_a8_df.head(10)"
      ],
      "execution_count": null,
      "outputs": [
        {
          "output_type": "execute_result",
          "data": {
            "text/html": [
              "<div>\n",
              "<style scoped>\n",
              "    .dataframe tbody tr th:only-of-type {\n",
              "        vertical-align: middle;\n",
              "    }\n",
              "\n",
              "    .dataframe tbody tr th {\n",
              "        vertical-align: top;\n",
              "    }\n",
              "\n",
              "    .dataframe thead th {\n",
              "        text-align: right;\n",
              "    }\n",
              "</style>\n",
              "<table border=\"1\" class=\"dataframe\">\n",
              "  <thead>\n",
              "    <tr style=\"text-align: right;\">\n",
              "      <th></th>\n",
              "      <th>REGION NAME</th>\n",
              "      <th>ATT8SCR</th>\n",
              "    </tr>\n",
              "  </thead>\n",
              "  <tbody>\n",
              "    <tr>\n",
              "      <th>0</th>\n",
              "      <td>North East</td>\n",
              "      <td>42.4</td>\n",
              "    </tr>\n",
              "    <tr>\n",
              "      <th>1</th>\n",
              "      <td>North East</td>\n",
              "      <td>58.6</td>\n",
              "    </tr>\n",
              "    <tr>\n",
              "      <th>2</th>\n",
              "      <td>North East</td>\n",
              "      <td>42.1</td>\n",
              "    </tr>\n",
              "    <tr>\n",
              "      <th>3</th>\n",
              "      <td>North East</td>\n",
              "      <td>44.6</td>\n",
              "    </tr>\n",
              "    <tr>\n",
              "      <th>4</th>\n",
              "      <td>North East</td>\n",
              "      <td>47.2</td>\n",
              "    </tr>\n",
              "    <tr>\n",
              "      <th>5</th>\n",
              "      <td>North East</td>\n",
              "      <td>63.4</td>\n",
              "    </tr>\n",
              "    <tr>\n",
              "      <th>6</th>\n",
              "      <td>North East</td>\n",
              "      <td>48.3</td>\n",
              "    </tr>\n",
              "    <tr>\n",
              "      <th>7</th>\n",
              "      <td>North East</td>\n",
              "      <td>46.2</td>\n",
              "    </tr>\n",
              "    <tr>\n",
              "      <th>8</th>\n",
              "      <td>North East</td>\n",
              "      <td>54.6</td>\n",
              "    </tr>\n",
              "    <tr>\n",
              "      <th>9</th>\n",
              "      <td>North East</td>\n",
              "      <td>3.4</td>\n",
              "    </tr>\n",
              "  </tbody>\n",
              "</table>\n",
              "</div>"
            ],
            "text/plain": [
              "  REGION NAME  ATT8SCR\n",
              "0  North East     42.4\n",
              "1  North East     58.6\n",
              "2  North East     42.1\n",
              "3  North East     44.6\n",
              "4  North East     47.2\n",
              "5  North East     63.4\n",
              "6  North East     48.3\n",
              "7  North East     46.2\n",
              "8  North East     54.6\n",
              "9  North East      3.4"
            ]
          },
          "metadata": {
            "tags": []
          },
          "execution_count": 32
        }
      ]
    },
    {
      "cell_type": "code",
      "metadata": {
        "colab": {
          "base_uri": "https://localhost:8080/"
        },
        "id": "qiisyO5BJx_r",
        "outputId": "46549f16-4f2c-45f2-81d1-6b66c0004aef"
      },
      "source": [
        "plt.figure(figsize=(13,6))\n",
        "sns.barplot(x=\"REGION NAME\", y=\"ATT8SCR\", data=re_a8_df, ci=95, order= regions)\n",
        "plt.xlabel('Wider Region')\n",
        "plt.ylabel('Average Attainment 8 Score')"
      ],
      "execution_count": null,
      "outputs": [
        {
          "output_type": "execute_result",
          "data": {
            "text/plain": [
              "Text(0, 0.5, 'Average Attainment 8 Score')"
            ]
          },
          "metadata": {
            "tags": []
          },
          "execution_count": 33
        },
        {
          "output_type": "display_data",
          "data": {
            "image/png": "[encoded data removed]",
            "text/plain": [
              "<Figure size 936x432 with 1 Axes>"
            ]
          },
          "metadata": {
            "tags": [],
            "needs_background": "light"
          }
        }
      ]
    }
  ]
}